{
 "cells": [
  {
   "cell_type": "code",
   "execution_count": 63,
   "metadata": {
    "collapsed": false
   },
   "outputs": [],
   "source": [
    "import numpy as np\n",
    "import pandas as pd"
   ]
  },
  {
   "cell_type": "code",
   "execution_count": 64,
   "metadata": {
    "collapsed": true
   },
   "outputs": [],
   "source": [
    "count = 3"
   ]
  },
  {
   "cell_type": "code",
   "execution_count": 65,
   "metadata": {
    "collapsed": false
   },
   "outputs": [],
   "source": [
    "results1 = pd.read_csv('results/raw_eeg_low_freq.csv')\n",
    "results2 = pd.read_csv('results/raw_eeg_full_train.csv')\n",
    "results3 = pd.read_csv('results/benchmark_gradient_boosting.csv')"
   ]
  },
  {
   "cell_type": "code",
   "execution_count": 66,
   "metadata": {
    "collapsed": false
   },
   "outputs": [],
   "source": [
    "data1 = results1.as_matrix()\n",
    "data2 = results2.as_matrix()\n",
    "data3 = results3.as_matrix()"
   ]
  },
  {
   "cell_type": "code",
   "execution_count": 67,
   "metadata": {
    "collapsed": false
   },
   "outputs": [],
   "source": [
    "ensemble = data1 + data2 + data3"
   ]
  },
  {
   "cell_type": "code",
   "execution_count": 68,
   "metadata": {
    "collapsed": false
   },
   "outputs": [],
   "source": [
    "ensemble[:,0] = data1[:,0]"
   ]
  },
  {
   "cell_type": "code",
   "execution_count": 69,
   "metadata": {
    "collapsed": true
   },
   "outputs": [],
   "source": [
    "cols = ['HandStart','FirstDigitTouch',\n",
    "        'BothStartLoadPhase','LiftOff',\n",
    "        'Replace','BothReleased']"
   ]
  },
  {
   "cell_type": "code",
   "execution_count": 70,
   "metadata": {
    "collapsed": false
   },
   "outputs": [],
   "source": [
    "submission = pd.DataFrame(index=ensemble[:,0], columns=cols, data=ensemble[:,1:])"
   ]
  },
  {
   "cell_type": "code",
   "execution_count": 71,
   "metadata": {
    "collapsed": true
   },
   "outputs": [],
   "source": [
    "submission = submission / count"
   ]
  },
  {
   "cell_type": "code",
   "execution_count": 72,
   "metadata": {
    "collapsed": true
   },
   "outputs": [],
   "source": [
    "submission_file = 'top_ensemble.csv'"
   ]
  },
  {
   "cell_type": "code",
   "execution_count": 73,
   "metadata": {
    "collapsed": true
   },
   "outputs": [],
   "source": [
    "# write file\n",
    "submission.to_csv(submission_file,index_label='id',float_format='%.3f')"
   ]
  },
  {
   "cell_type": "code",
   "execution_count": 74,
   "metadata": {
    "collapsed": false
   },
   "outputs": [
    {
     "data": {
      "text/html": [
       "<div>\n",
       "<table border=\"1\" class=\"dataframe\">\n",
       "  <thead>\n",
       "    <tr style=\"text-align: right;\">\n",
       "      <th></th>\n",
       "      <th>HandStart</th>\n",
       "      <th>FirstDigitTouch</th>\n",
       "      <th>BothStartLoadPhase</th>\n",
       "      <th>LiftOff</th>\n",
       "      <th>Replace</th>\n",
       "      <th>BothReleased</th>\n",
       "    </tr>\n",
       "  </thead>\n",
       "  <tbody>\n",
       "    <tr>\n",
       "      <th>subj1_series10_0</th>\n",
       "      <td>0.049</td>\n",
       "      <td>0.04066667</td>\n",
       "      <td>0.03266667</td>\n",
       "      <td>0.01166667</td>\n",
       "      <td>0.02666667</td>\n",
       "      <td>0.057</td>\n",
       "    </tr>\n",
       "    <tr>\n",
       "      <th>subj1_series10_1</th>\n",
       "      <td>0.06666667</td>\n",
       "      <td>0.042</td>\n",
       "      <td>0.034</td>\n",
       "      <td>0.01466667</td>\n",
       "      <td>0.02766667</td>\n",
       "      <td>0.059</td>\n",
       "    </tr>\n",
       "    <tr>\n",
       "      <th>subj1_series10_2</th>\n",
       "      <td>0.05566667</td>\n",
       "      <td>0.06066667</td>\n",
       "      <td>0.05</td>\n",
       "      <td>0.03266667</td>\n",
       "      <td>0.03</td>\n",
       "      <td>0.055</td>\n",
       "    </tr>\n",
       "    <tr>\n",
       "      <th>subj1_series10_3</th>\n",
       "      <td>0.043</td>\n",
       "      <td>0.055</td>\n",
       "      <td>0.05833333</td>\n",
       "      <td>0.02866667</td>\n",
       "      <td>0.046</td>\n",
       "      <td>0.056</td>\n",
       "    </tr>\n",
       "    <tr>\n",
       "      <th>subj1_series10_4</th>\n",
       "      <td>0.046</td>\n",
       "      <td>0.04133333</td>\n",
       "      <td>0.03133333</td>\n",
       "      <td>0.01133333</td>\n",
       "      <td>0.03966667</td>\n",
       "      <td>0.05833333</td>\n",
       "    </tr>\n",
       "  </tbody>\n",
       "</table>\n",
       "</div>"
      ],
      "text/plain": [
       "                   HandStart FirstDigitTouch BothStartLoadPhase     LiftOff  \\\n",
       "subj1_series10_0       0.049      0.04066667         0.03266667  0.01166667   \n",
       "subj1_series10_1  0.06666667           0.042              0.034  0.01466667   \n",
       "subj1_series10_2  0.05566667      0.06066667               0.05  0.03266667   \n",
       "subj1_series10_3       0.043           0.055         0.05833333  0.02866667   \n",
       "subj1_series10_4       0.046      0.04133333         0.03133333  0.01133333   \n",
       "\n",
       "                     Replace BothReleased  \n",
       "subj1_series10_0  0.02666667        0.057  \n",
       "subj1_series10_1  0.02766667        0.059  \n",
       "subj1_series10_2        0.03        0.055  \n",
       "subj1_series10_3       0.046        0.056  \n",
       "subj1_series10_4  0.03966667   0.05833333  "
      ]
     },
     "execution_count": 74,
     "metadata": {},
     "output_type": "execute_result"
    }
   ],
   "source": [
    "submission.head()"
   ]
  },
  {
   "cell_type": "code",
   "execution_count": null,
   "metadata": {
    "collapsed": true
   },
   "outputs": [],
   "source": []
  }
 ],
 "metadata": {
  "kernelspec": {
   "display_name": "Python 2",
   "language": "python",
   "name": "python2"
  },
  "language_info": {
   "codemirror_mode": {
    "name": "ipython",
    "version": 2
   },
   "file_extension": ".py",
   "mimetype": "text/x-python",
   "name": "python",
   "nbconvert_exporter": "python",
   "pygments_lexer": "ipython2",
   "version": "2.7.6"
  }
 },
 "nbformat": 4,
 "nbformat_minor": 0
}
