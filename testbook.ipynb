{
 "cells": [
  {
   "cell_type": "code",
   "execution_count": 2,
   "metadata": {
    "collapsed": false
   },
   "outputs": [],
   "source": [
    "import numpy as np\n",
    "import pandas as pd\n",
    "from mne.io import RawArray\n",
    "from mne.channels import read_montage\n",
    "from mne.epochs import concatenate_epochs\n",
    "from mne import create_info, find_events, Epochs, concatenate_raws, pick_types\n",
    "from mne.decoding import CSP\n",
    "\n",
    "from sklearn.linear_model import LogisticRegression\n",
    "from glob import glob\n",
    "\n",
    "from scipy.signal import butter, lfilter, convolve, boxcar"
   ]
  },
  {
   "cell_type": "code",
   "execution_count": 3,
   "metadata": {
    "collapsed": true
   },
   "outputs": [],
   "source": [
    "def creat_mne_raw_object(fname,read_events=True):\n",
    "    \"\"\"Create a mne raw instance from csv file\"\"\"\n",
    "    # Read EEG file\n",
    "    data = pd.read_csv(fname)\n",
    "    \n",
    "    # get chanel names\n",
    "    ch_names = list(data.columns[1:])\n",
    "    \n",
    "    # read EEG standard montage from mne\n",
    "    montage = read_montage('standard_1005',ch_names)\n",
    "\n",
    "    ch_type = ['eeg']*len(ch_names)\n",
    "    data = 1e-6*np.array(data[ch_names]).T\n",
    "    \n",
    "    if read_events:\n",
    "        # events file\n",
    "        ev_fname = fname.replace('_data','_events')\n",
    "        # read event file\n",
    "        events = pd.read_csv(ev_fname)\n",
    "        events_names = events.columns[1:]\n",
    "        events_data = np.array(events[events_names]).T\n",
    "        \n",
    "        # define channel type, the first is EEG, the last 6 are stimulations\n",
    "        ch_type.extend(['stim']*6)\n",
    "        ch_names.extend(events_names)\n",
    "        # concatenate event file and data\n",
    "        data = np.concatenate((data,events_data))\n",
    "        \n",
    "    # create and populate MNE info structure\n",
    "    info = create_info(ch_names,sfreq=500.0, ch_types=ch_type, montage=montage)\n",
    "    info['filename'] = fname\n",
    "    \n",
    "    # create raw object \n",
    "    raw = RawArray(data,info,verbose=False)\n",
    "    \n",
    "    return raw"
   ]
  },
  {
   "cell_type": "code",
   "execution_count": 4,
   "metadata": {
    "collapsed": true
   },
   "outputs": [],
   "source": [
    "subjects = range(1,13)\n",
    "ids_tot = []\n",
    "pred_tot = []\n",
    "\n",
    "# design a butterworth bandpass filter \n",
    "freqs = [7, 30]\n",
    "b,a = butter(5,np.array(freqs)/250.0,btype='bandpass')\n",
    "\n",
    "# CSP parameters\n",
    "# Number of spatial filter to use\n",
    "nfilters = 4\n",
    "\n",
    "# convolution\n",
    "# window for smoothing features\n",
    "nwin = 250\n",
    "\n",
    "# training subsample\n",
    "subsample = 10\n",
    "\n",
    "# submission file\n",
    "submission_file = 'beat_the_benchmark.csv'\n",
    "cols = ['HandStart','FirstDigitTouch',\n",
    "        'BothStartLoadPhase','LiftOff',\n",
    "        'Replace','BothReleased']"
   ]
  },
  {
   "cell_type": "code",
   "execution_count": 5,
   "metadata": {
    "collapsed": false
   },
   "outputs": [],
   "source": [
    "subject = subjects[0]"
   ]
  },
  {
   "cell_type": "code",
   "execution_count": 6,
   "metadata": {
    "collapsed": false
   },
   "outputs": [],
   "source": [
    "epochs_tot = []\n",
    "y = []\n",
    "\n",
    "################ READ DATA ################################################\n",
    "fnames =  glob('train/subj%d_series*_data.csv' % (subject))\n",
    "fnames\n",
    "\n",
    "# read and concatenate all the files\n",
    "raw = concatenate_raws([creat_mne_raw_object(fname) for fname in fnames])\n",
    "\n",
    "# pick eeg signal\n",
    "picks = pick_types(raw.info,eeg=True)\n",
    "\n",
    "# Filter data for alpha frequency and beta band\n",
    "# Note that MNE implement a zero phase (filtfilt) filtering not compatible\n",
    "# with the rule of future data.\n",
    "# Here we use left filter compatible with this constraint\n",
    "raw._data[picks] = lfilter(b,a,raw._data[picks])\n",
    "\n",
    "################ CSP Filters training #####################################\n",
    "# get event posision corresponding to Replace\n",
    "events = find_events(raw,stim_channel='Replace', verbose=False)\n",
    "# epochs signal for 1.5 second before the movement\n",
    "epochs = Epochs(raw, events, {'during' : 1}, -2, -0.5, proj=False,\n",
    "                picks=picks, baseline=None, preload=True,\n",
    "                add_eeg_ref=False, verbose=False)\n",
    "\n",
    "epochs_tot.append(epochs)\n",
    "y.extend([1]*len(epochs))\n",
    "\n",
    "# epochs signal for 1.5 second after the movement, this correspond to the \n",
    "# rest period.\n",
    "epochs_rest = Epochs(raw, events, {'after' : 1}, 0.5, 2, proj=False,\n",
    "                picks=picks, baseline=None, preload=True,\n",
    "                add_eeg_ref=False, verbose=False)\n",
    "\n",
    "# Workaround to be able to concatenate epochs with MNE\n",
    "epochs_rest.times = epochs.times\n",
    "\n",
    "y.extend([-1]*len(epochs_rest))\n",
    "epochs_tot.append(epochs_rest)\n",
    "\n",
    "# Concatenate all epochs\n",
    "epochs = concatenate_epochs(epochs_tot)\n",
    "\n",
    "# get data \n",
    "X = epochs.get_data()\n",
    "y = np.array(y)"
   ]
  },
  {
   "cell_type": "code",
   "execution_count": 7,
   "metadata": {
    "collapsed": false
   },
   "outputs": [
    {
     "name": "stdout",
     "output_type": "stream",
     "text": [
      "(519, 32, 751)\n"
     ]
    }
   ],
   "source": [
    "print X.shape"
   ]
  },
  {
   "cell_type": "code",
   "execution_count": 8,
   "metadata": {
    "collapsed": false
   },
   "outputs": [
    {
     "data": {
      "text/plain": [
       "<mne.decoding.csp.CSP at 0x1035831d0>"
      ]
     },
     "execution_count": 8,
     "metadata": {},
     "output_type": "execute_result"
    }
   ],
   "source": [
    "# train CSP\n",
    "csp = CSP(n_components=nfilters, reg='lws')\n",
    "csp.fit(X,y)"
   ]
  },
  {
   "cell_type": "code",
   "execution_count": 9,
   "metadata": {
    "collapsed": false
   },
   "outputs": [
    {
     "data": {
      "text/plain": [
       "array([[ 0.14284158, -0.0124476 , -1.15181086, ..., -0.32848577,\n",
       "         0.27633894,  0.21076838],\n",
       "       [ 0.03545028, -0.17627069,  0.38238997, ...,  1.23755569,\n",
       "        -1.10641096, -0.43786365],\n",
       "       [-0.15390217,  1.27869443,  1.38828934, ..., -1.81040206,\n",
       "         2.49710614, -1.87747311],\n",
       "       ..., \n",
       "       [-0.53817737,  1.18162952,  1.33437625, ..., -2.51403004,\n",
       "         5.27909561, -1.26719652],\n",
       "       [ 0.96766153, -1.34270016, -0.79163653, ..., -1.69135517,\n",
       "         1.61219612, -0.09232703],\n",
       "       [-0.88471982,  2.13878891, -1.31029558, ..., -4.43521648,\n",
       "        -1.39382222,  2.17728606]])"
      ]
     },
     "execution_count": 9,
     "metadata": {},
     "output_type": "execute_result"
    }
   ],
   "source": [
    "csp.filters_"
   ]
  },
  {
   "cell_type": "code",
   "execution_count": 10,
   "metadata": {
    "collapsed": false
   },
   "outputs": [
    {
     "data": {
      "text/plain": [
       "array([[  1.42841584e-01,  -1.24476011e-02,  -1.15181086e+00,\n",
       "         -4.81122274e-01,   2.17852531e+00,  -1.78174471e-01,\n",
       "         -1.85794243e-01,  -2.47393150e+00,  -1.06285101e+01,\n",
       "          4.05632791e-01,  -1.95090674e-01,   1.36002630e+00,\n",
       "          2.93879680e+01,  -8.57205448e+00,   1.14897067e+00,\n",
       "         -3.49279721e-02,  -1.19594992e+00,  -5.65571685e+00,\n",
       "         -9.30714813e-01,  -9.08427002e-01,   2.96800092e-01,\n",
       "         -1.14316385e-01,   8.49736442e-02,  -2.57584082e+00,\n",
       "         -2.34278313e+00,   1.88698035e+00,  -1.01862718e+00,\n",
       "         -6.48087281e-02,   6.28525769e-01,  -3.28485770e-01,\n",
       "          2.76338945e-01,   2.10768383e-01],\n",
       "       [  3.54502826e-02,  -1.76270688e-01,   3.82389969e-01,\n",
       "         -2.09119615e-01,  -2.33003157e+00,  -6.86454664e-02,\n",
       "          1.22396198e-01,  -7.41017964e-01,   2.12235085e+00,\n",
       "          1.10729580e+00,   8.46586088e-01,   5.88684507e-01,\n",
       "          7.63932238e+00,   8.82907558e+00,  -6.94349270e+00,\n",
       "         -5.87981201e-02,   3.44183378e-01,  -2.17102769e+00,\n",
       "         -6.94522268e+00,   2.43943147e-01,   1.21179161e+00,\n",
       "          6.28389035e-02,   9.21364569e-01,  -1.66049326e+01,\n",
       "          5.02619217e+00,   2.60049244e-01,   5.16756211e-01,\n",
       "         -1.56368352e+00,   6.75344318e+00,   1.23755569e+00,\n",
       "         -1.10641096e+00,  -4.37863653e-01],\n",
       "       [ -1.53902171e-01,   1.27869443e+00,   1.38828934e+00,\n",
       "          2.86095369e-01,   2.12545152e+00,   7.67993627e-01,\n",
       "         -4.99508287e+00,   1.38843597e+00,  -2.96840906e+00,\n",
       "         -6.76171823e+00,   6.67189948e-02,   3.30167271e-01,\n",
       "         -7.75556306e-01,   5.03300222e-01,   2.40059916e+00,\n",
       "          2.18958916e-02,   8.33960845e-01,  -2.33808882e+00,\n",
       "          2.42173373e+00,  -5.99906299e-03,   1.33947030e+00,\n",
       "          1.16639505e+00,  -5.36840520e-02,   1.35563820e+00,\n",
       "         -1.60935861e+00,  -3.02239011e-01,  -1.18326067e+00,\n",
       "         -7.26740184e-02,   8.57708353e-01,  -1.81040206e+00,\n",
       "          2.49710614e+00,  -1.87747311e+00],\n",
       "       [  9.99012456e-02,   3.47265425e-01,   5.00860537e-02,\n",
       "         -3.46630121e-01,  -3.43110423e-01,   6.39260615e-01,\n",
       "         -1.28726471e+00,   1.36055016e-01,  -7.41082033e-01,\n",
       "          2.05425658e-01,  -1.91502795e-01,   8.74044028e-01,\n",
       "          2.71320337e-01,   8.75591539e-01,   7.07881898e-02,\n",
       "         -3.96679413e-01,  -2.36059291e+00,  -1.09757567e+00,\n",
       "         -1.03772136e+00,  -4.25646254e-01,  -4.77254379e-01,\n",
       "         -7.51402734e-01,  -8.51288903e-01,   5.04684799e+00,\n",
       "         -1.03899147e+00,  -9.88688915e-01,  -8.58735392e-01,\n",
       "          3.93700768e+00,  -1.07166236e+01,   5.06083954e+00,\n",
       "          7.56119897e-01,   5.36045669e+00]])"
      ]
     },
     "execution_count": 10,
     "metadata": {},
     "output_type": "execute_result"
    }
   ],
   "source": [
    "csp.filters_[0:nfilters]"
   ]
  },
  {
   "cell_type": "code",
   "execution_count": 11,
   "metadata": {
    "collapsed": false
   },
   "outputs": [
    {
     "data": {
      "text/plain": [
       "array([[ -2.68156159e+154,  -2.68156159e+154,   1.36559745e-320, ...,\n",
       "          3.70079764e-033,   1.39642638e-076,   1.10711049e-047],\n",
       "       [  1.21111753e-099,   6.01391519e-154,   1.28446940e-057, ...,\n",
       "          6.00458986e-067,   6.01353868e-154,   1.39805386e-076],\n",
       "       [  1.02455700e+136,   6.01347002e-154,   4.90843030e-062, ...,\n",
       "          9.15604172e-072,   6.01347176e-154,   3.84568673e-086],\n",
       "       ..., \n",
       "       [  6.51583213e-014,   3.75586017e-016,   2.04062841e-017, ...,\n",
       "          1.73517739e-018,   3.35060057e-016,   2.63541432e-016],\n",
       "       [  3.05218684e-016,   6.07453520e-016,   5.90540564e-016, ...,\n",
       "          1.69575181e-015,   3.50878105e-016,   9.82859278e-017],\n",
       "       [  2.70186284e-015,   1.09798338e-016,   1.37155367e-016, ...,\n",
       "          1.00534612e-015,   1.18070108e-016,   2.52930604e-016]])"
      ]
     },
     "execution_count": 11,
     "metadata": {},
     "output_type": "execute_result"
    }
   ],
   "source": [
    "np.empty((32,32))"
   ]
  },
  {
   "cell_type": "code",
   "execution_count": 12,
   "metadata": {
    "collapsed": false
   },
   "outputs": [
    {
     "data": {
      "text/plain": [
       "250"
      ]
     },
     "execution_count": 12,
     "metadata": {},
     "output_type": "execute_result"
    }
   ],
   "source": [
    "nwin"
   ]
  },
  {
   "cell_type": "code",
   "execution_count": 14,
   "metadata": {
    "collapsed": false
   },
   "outputs": [
    {
     "name": "stdout",
     "output_type": "stream",
     "text": [
      "[0 1 2 3 4 5 6 7 8 9]\n",
      "[ 1.  1.  1.]\n",
      "[  0.   1.   3.   6.   9.  12.  15.  18.  21.  24.  17.   9.]\n"
     ]
    }
   ],
   "source": [
    "x_test = np.array(range(10)) \n",
    "print x_test\n",
    "conv_test = boxcar(3)\n",
    "print conv_test\n",
    "test_result = convolve(x_test, conv_test, 'full')\n",
    "print test_result"
   ]
  },
  {
   "cell_type": "code",
   "execution_count": 15,
   "metadata": {
    "collapsed": true
   },
   "outputs": [],
   "source": [
    "################ Create Training Features #################################x`\n",
    "# apply csp filters and rectify signal\n",
    "feat = np.dot(csp.filters_[0:nfilters],raw._data[picks])**2"
   ]
  },
  {
   "cell_type": "code",
   "execution_count": 16,
   "metadata": {
    "collapsed": false
   },
   "outputs": [
    {
     "data": {
      "text/plain": [
       "(4, 1422392)"
      ]
     },
     "execution_count": 16,
     "metadata": {},
     "output_type": "execute_result"
    }
   ],
   "source": [
    "feat.shape"
   ]
  },
  {
   "cell_type": "code",
   "execution_count": 18,
   "metadata": {
    "collapsed": false
   },
   "outputs": [],
   "source": [
    "conv_result = convolve(feat[0],boxcar(nwin),'full')"
   ]
  },
  {
   "cell_type": "code",
   "execution_count": 19,
   "metadata": {
    "collapsed": false
   },
   "outputs": [
    {
     "data": {
      "text/plain": [
       "(1422641,)"
      ]
     },
     "execution_count": 19,
     "metadata": {},
     "output_type": "execute_result"
    }
   ],
   "source": [
    "np.log(conv_result).shape"
   ]
  },
  {
   "cell_type": "code",
   "execution_count": 20,
   "metadata": {
    "collapsed": false
   },
   "outputs": [],
   "source": [
    "# smoothing by convolution with a rectangle window    \n",
    "feattr = np.empty(feat.shape)\n",
    "for i in range(nfilters):\n",
    "    feattr[i] = np.log(convolve(feat[i],boxcar(nwin),'full'))[0:feat.shape[1]]"
   ]
  },
  {
   "cell_type": "code",
   "execution_count": 21,
   "metadata": {
    "collapsed": false
   },
   "outputs": [
    {
     "data": {
      "text/plain": [
       "(1422392,)"
      ]
     },
     "execution_count": 21,
     "metadata": {},
     "output_type": "execute_result"
    }
   ],
   "source": [
    "feattr[0].shape"
   ]
  },
  {
   "cell_type": "code",
   "execution_count": 22,
   "metadata": {
    "collapsed": true
   },
   "outputs": [],
   "source": [
    "# training labels\n",
    "# they are stored in the 6 last channels of the MNE raw object\n",
    "labels = raw._data[32:]"
   ]
  },
  {
   "cell_type": "code",
   "execution_count": 23,
   "metadata": {
    "collapsed": false
   },
   "outputs": [
    {
     "data": {
      "text/plain": [
       "(6, 1422392)"
      ]
     },
     "execution_count": 23,
     "metadata": {},
     "output_type": "execute_result"
    }
   ],
   "source": [
    "labels.shape"
   ]
  },
  {
   "cell_type": "code",
   "execution_count": 28,
   "metadata": {
    "collapsed": false
   },
   "outputs": [],
   "source": [
    "################ Create test Features #####################################\n",
    "# read test data \n",
    "fnames =  glob('test/subj%d_series*_data.csv' % (subject))\n",
    "raw = concatenate_raws([creat_mne_raw_object(fname, read_events=False) for fname in fnames])\n",
    "raw._data[picks] = lfilter(b,a,raw._data[picks])"
   ]
  },
  {
   "cell_type": "code",
   "execution_count": 29,
   "metadata": {
    "collapsed": false
   },
   "outputs": [
    {
     "data": {
      "text/plain": [
       "(32, 233081)"
      ]
     },
     "execution_count": 29,
     "metadata": {},
     "output_type": "execute_result"
    }
   ],
   "source": [
    "raw._data.shape"
   ]
  },
  {
   "cell_type": "code",
   "execution_count": 30,
   "metadata": {
    "collapsed": false
   },
   "outputs": [],
   "source": [
    "# read ids\n",
    "ids = np.concatenate([np.array(pd.read_csv(fname)['id']) for fname in fnames])\n",
    "ids_tot.append(ids)"
   ]
  },
  {
   "cell_type": "code",
   "execution_count": 34,
   "metadata": {
    "collapsed": false
   },
   "outputs": [
    {
     "data": {
      "text/plain": [
       "array(['subj1_series10_0', 'subj1_series10_1', 'subj1_series10_2', ...,\n",
       "       'subj1_series9_115950', 'subj1_series9_115951',\n",
       "       'subj1_series9_115952'], dtype=object)"
      ]
     },
     "execution_count": 34,
     "metadata": {},
     "output_type": "execute_result"
    }
   ],
   "source": [
    "ids"
   ]
  },
  {
   "cell_type": "code",
   "execution_count": 36,
   "metadata": {
    "collapsed": true
   },
   "outputs": [],
   "source": [
    "# apply preprocessing on test data\n",
    "feat = np.dot(csp.filters_[0:nfilters],raw._data[picks])**2\n",
    "featte = np.empty(feat.shape)\n",
    "for i in range(nfilters):\n",
    "    featte[i] = np.log(convolve(feat[i],boxcar(nwin),'full'))[0:feat.shape[1]]"
   ]
  },
  {
   "cell_type": "code",
   "execution_count": 37,
   "metadata": {
    "collapsed": false
   },
   "outputs": [
    {
     "data": {
      "text/plain": [
       "['HandStart',\n",
       " 'FirstDigitTouch',\n",
       " 'BothStartLoadPhase',\n",
       " 'LiftOff',\n",
       " 'Replace',\n",
       " 'BothReleased']"
      ]
     },
     "execution_count": 37,
     "metadata": {},
     "output_type": "execute_result"
    }
   ],
   "source": [
    "cols"
   ]
  },
  {
   "cell_type": "code",
   "execution_count": 46,
   "metadata": {
    "collapsed": false
   },
   "outputs": [
    {
     "data": {
      "text/plain": [
       "(4, 1422392)"
      ]
     },
     "execution_count": 46,
     "metadata": {},
     "output_type": "execute_result"
    }
   ],
   "source": [
    "feattr.shape"
   ]
  },
  {
   "cell_type": "code",
   "execution_count": 47,
   "metadata": {
    "collapsed": false
   },
   "outputs": [
    {
     "data": {
      "text/plain": [
       "(4, 142240)"
      ]
     },
     "execution_count": 47,
     "metadata": {},
     "output_type": "execute_result"
    }
   ],
   "source": [
    "feattr[:,::subsample].shape"
   ]
  },
  {
   "cell_type": "code",
   "execution_count": 55,
   "metadata": {
    "collapsed": false
   },
   "outputs": [],
   "source": [
    "n = np.vstack((np.array(range(10)), np.array(range(10))))"
   ]
  },
  {
   "cell_type": "code",
   "execution_count": 70,
   "metadata": {
    "collapsed": false
   },
   "outputs": [
    {
     "data": {
      "text/plain": [
       "array([[0, 3, 6, 9],\n",
       "       [0, 3, 6, 9]])"
      ]
     },
     "execution_count": 70,
     "metadata": {},
     "output_type": "execute_result"
    }
   ],
   "source": [
    "n[:, ::3]"
   ]
  },
  {
   "cell_type": "code",
   "execution_count": 71,
   "metadata": {
    "collapsed": false
   },
   "outputs": [
    {
     "data": {
      "text/plain": [
       "10"
      ]
     },
     "execution_count": 71,
     "metadata": {},
     "output_type": "execute_result"
    }
   ],
   "source": [
    "subsample"
   ]
  },
  {
   "cell_type": "code",
   "execution_count": 73,
   "metadata": {
    "collapsed": false
   },
   "outputs": [
    {
     "data": {
      "text/plain": [
       "(6, 1422392)"
      ]
     },
     "execution_count": 73,
     "metadata": {},
     "output_type": "execute_result"
    }
   ],
   "source": [
    "labels.shape"
   ]
  },
  {
   "cell_type": "code",
   "execution_count": 80,
   "metadata": {
    "collapsed": false
   },
   "outputs": [
    {
     "name": "stdout",
     "output_type": "stream",
     "text": [
      "Train subject 1, class LiftOff\n"
     ]
    }
   ],
   "source": [
    "lr = LogisticRegression()\n",
    "pred = np.empty((len(ids),6))\n",
    "\n",
    "# Predict HandStart\n",
    "print('Train subject %d, class %s' % (subject, cols[i]))\n",
    "lr.fit(feattr[:,::subsample].T,labels[0,::subsample])\n",
    "result = lr.predict_proba(featte.T)"
   ]
  },
  {
   "cell_type": "code",
   "execution_count": 91,
   "metadata": {
    "collapsed": false
   },
   "outputs": [
    {
     "data": {
      "text/plain": [
       "array([ 0.,  1.])"
      ]
     },
     "execution_count": 91,
     "metadata": {},
     "output_type": "execute_result"
    }
   ],
   "source": [
    "lr.classes_"
   ]
  },
  {
   "cell_type": "code",
   "execution_count": 92,
   "metadata": {
    "collapsed": false
   },
   "outputs": [
    {
     "data": {
      "text/plain": [
       "[]"
      ]
     },
     "execution_count": 92,
     "metadata": {},
     "output_type": "execute_result"
    }
   ],
   "source": [
    "pred_tot"
   ]
  },
  {
   "cell_type": "code",
   "execution_count": 93,
   "metadata": {
    "collapsed": false
   },
   "outputs": [
    {
     "name": "stdout",
     "output_type": "stream",
     "text": [
      "Train subject 1, class HandStart\n",
      "Train subject 1, class FirstDigitTouch\n",
      "Train subject 1, class BothStartLoadPhase\n",
      "Train subject 1, class LiftOff\n",
      "Train subject 1, class Replace\n",
      "Train subject 1, class BothReleased\n"
     ]
    }
   ],
   "source": [
    "################ Train classifiers ########################################\n",
    "lr = LogisticRegression()\n",
    "pred = np.empty((len(ids),6))\n",
    "for i in range(6):\n",
    "    print('Train subject %d, class %s' % (subject, cols[i]))\n",
    "    lr.fit(feattr[:,::subsample].T,labels[i,::subsample])\n",
    "    pred[:,i] = lr.predict_proba(featte.T)[:,1]\n",
    "\n",
    "pred_tot.append(pred)"
   ]
  },
  {
   "cell_type": "code",
   "execution_count": 94,
   "metadata": {
    "collapsed": false
   },
   "outputs": [
    {
     "data": {
      "text/plain": [
       "[array([[  9.99958646e-01,   9.99366322e-01,   9.99303819e-01,\n",
       "           9.99959764e-01,   6.90948026e-13,   1.73640689e-11],\n",
       "        [  9.98650507e-01,   9.90668262e-01,   9.89917561e-01,\n",
       "           9.98941404e-01,   2.63710147e-10,   3.26015263e-09],\n",
       "        [  9.84580971e-01,   9.41299682e-01,   9.37476842e-01,\n",
       "           9.89653133e-01,   1.66851374e-08,   1.26267427e-07],\n",
       "        ..., \n",
       "        [  1.48022111e-02,   1.69821707e-02,   1.67152722e-02,\n",
       "           1.49918511e-02,   4.63412703e-02,   3.97751981e-02],\n",
       "        [  1.49211494e-02,   1.70638440e-02,   1.67997124e-02,\n",
       "           1.50567082e-02,   4.59911218e-02,   3.94364507e-02],\n",
       "        [  1.50668325e-02,   1.71588123e-02,   1.68964938e-02,\n",
       "           1.51281984e-02,   4.55630749e-02,   3.90238460e-02]])]"
      ]
     },
     "execution_count": 94,
     "metadata": {},
     "output_type": "execute_result"
    }
   ],
   "source": [
    "pred_tot"
   ]
  },
  {
   "cell_type": "code",
   "execution_count": 95,
   "metadata": {
    "collapsed": false
   },
   "outputs": [
    {
     "data": {
      "text/plain": [
       "[array(['subj1_series10_0', 'subj1_series10_1', 'subj1_series10_2', ...,\n",
       "        'subj1_series9_115950', 'subj1_series9_115951',\n",
       "        'subj1_series9_115952'], dtype=object)]"
      ]
     },
     "execution_count": 95,
     "metadata": {},
     "output_type": "execute_result"
    }
   ],
   "source": [
    "ids_tot"
   ]
  },
  {
   "cell_type": "code",
   "execution_count": 97,
   "metadata": {
    "collapsed": false
   },
   "outputs": [],
   "source": [
    "# create pandas object for sbmission\n",
    "submission = pd.DataFrame(index=np.concatenate(ids_tot), columns=cols, data=np.concatenate(pred_tot))"
   ]
  },
  {
   "cell_type": "code",
   "execution_count": 98,
   "metadata": {
    "collapsed": false
   },
   "outputs": [
    {
     "data": {
      "text/html": [
       "<div>\n",
       "<table border=\"1\" class=\"dataframe\">\n",
       "  <thead>\n",
       "    <tr style=\"text-align: right;\">\n",
       "      <th></th>\n",
       "      <th>HandStart</th>\n",
       "      <th>FirstDigitTouch</th>\n",
       "      <th>BothStartLoadPhase</th>\n",
       "      <th>LiftOff</th>\n",
       "      <th>Replace</th>\n",
       "      <th>BothReleased</th>\n",
       "    </tr>\n",
       "  </thead>\n",
       "  <tbody>\n",
       "    <tr>\n",
       "      <th>subj1_series10_0</th>\n",
       "      <td>0.999959</td>\n",
       "      <td>0.999366</td>\n",
       "      <td>0.999304</td>\n",
       "      <td>0.999960</td>\n",
       "      <td>6.909480e-13</td>\n",
       "      <td>1.736407e-11</td>\n",
       "    </tr>\n",
       "    <tr>\n",
       "      <th>subj1_series10_1</th>\n",
       "      <td>0.998651</td>\n",
       "      <td>0.990668</td>\n",
       "      <td>0.989918</td>\n",
       "      <td>0.998941</td>\n",
       "      <td>2.637101e-10</td>\n",
       "      <td>3.260153e-09</td>\n",
       "    </tr>\n",
       "    <tr>\n",
       "      <th>subj1_series10_2</th>\n",
       "      <td>0.984581</td>\n",
       "      <td>0.941300</td>\n",
       "      <td>0.937477</td>\n",
       "      <td>0.989653</td>\n",
       "      <td>1.668514e-08</td>\n",
       "      <td>1.262674e-07</td>\n",
       "    </tr>\n",
       "    <tr>\n",
       "      <th>subj1_series10_3</th>\n",
       "      <td>0.907491</td>\n",
       "      <td>0.792142</td>\n",
       "      <td>0.782242</td>\n",
       "      <td>0.943971</td>\n",
       "      <td>3.830773e-07</td>\n",
       "      <td>2.012880e-06</td>\n",
       "    </tr>\n",
       "    <tr>\n",
       "      <th>subj1_series10_4</th>\n",
       "      <td>0.688652</td>\n",
       "      <td>0.550710</td>\n",
       "      <td>0.537572</td>\n",
       "      <td>0.811159</td>\n",
       "      <td>4.465582e-06</td>\n",
       "      <td>1.773868e-05</td>\n",
       "    </tr>\n",
       "    <tr>\n",
       "      <th>subj1_series10_5</th>\n",
       "      <td>0.397326</td>\n",
       "      <td>0.329375</td>\n",
       "      <td>0.318836</td>\n",
       "      <td>0.588873</td>\n",
       "      <td>3.187758e-05</td>\n",
       "      <td>1.017563e-04</td>\n",
       "    </tr>\n",
       "    <tr>\n",
       "      <th>subj1_series10_6</th>\n",
       "      <td>0.195965</td>\n",
       "      <td>0.188962</td>\n",
       "      <td>0.182297</td>\n",
       "      <td>0.369743</td>\n",
       "      <td>1.565362e-04</td>\n",
       "      <td>4.202677e-04</td>\n",
       "    </tr>\n",
       "    <tr>\n",
       "      <th>subj1_series10_7</th>\n",
       "      <td>0.096735</td>\n",
       "      <td>0.112270</td>\n",
       "      <td>0.108282</td>\n",
       "      <td>0.220592</td>\n",
       "      <td>5.710918e-04</td>\n",
       "      <td>1.335967e-03</td>\n",
       "    </tr>\n",
       "    <tr>\n",
       "      <th>subj1_series10_8</th>\n",
       "      <td>0.051468</td>\n",
       "      <td>0.071219</td>\n",
       "      <td>0.068766</td>\n",
       "      <td>0.135068</td>\n",
       "      <td>1.633088e-03</td>\n",
       "      <td>3.424545e-03</td>\n",
       "    </tr>\n",
       "    <tr>\n",
       "      <th>subj1_series10_9</th>\n",
       "      <td>0.030078</td>\n",
       "      <td>0.048552</td>\n",
       "      <td>0.046950</td>\n",
       "      <td>0.087977</td>\n",
       "      <td>3.803350e-03</td>\n",
       "      <td>7.319690e-03</td>\n",
       "    </tr>\n",
       "    <tr>\n",
       "      <th>subj1_series10_10</th>\n",
       "      <td>0.019300</td>\n",
       "      <td>0.035496</td>\n",
       "      <td>0.034370</td>\n",
       "      <td>0.061637</td>\n",
       "      <td>7.417746e-03</td>\n",
       "      <td>1.336883e-02</td>\n",
       "    </tr>\n",
       "    <tr>\n",
       "      <th>subj1_series10_11</th>\n",
       "      <td>0.013528</td>\n",
       "      <td>0.027708</td>\n",
       "      <td>0.026854</td>\n",
       "      <td>0.046482</td>\n",
       "      <td>1.236912e-02</td>\n",
       "      <td>2.125215e-02</td>\n",
       "    </tr>\n",
       "    <tr>\n",
       "      <th>subj1_series10_12</th>\n",
       "      <td>0.010303</td>\n",
       "      <td>0.022993</td>\n",
       "      <td>0.022292</td>\n",
       "      <td>0.037628</td>\n",
       "      <td>1.792267e-02</td>\n",
       "      <td>2.983397e-02</td>\n",
       "    </tr>\n",
       "    <tr>\n",
       "      <th>subj1_series10_13</th>\n",
       "      <td>0.008497</td>\n",
       "      <td>0.020214</td>\n",
       "      <td>0.019594</td>\n",
       "      <td>0.032582</td>\n",
       "      <td>2.287458e-02</td>\n",
       "      <td>3.741925e-02</td>\n",
       "    </tr>\n",
       "    <tr>\n",
       "      <th>subj1_series10_14</th>\n",
       "      <td>0.007593</td>\n",
       "      <td>0.018791</td>\n",
       "      <td>0.018206</td>\n",
       "      <td>0.030073</td>\n",
       "      <td>2.605725e-02</td>\n",
       "      <td>4.234539e-02</td>\n",
       "    </tr>\n",
       "    <tr>\n",
       "      <th>subj1_series10_15</th>\n",
       "      <td>0.007382</td>\n",
       "      <td>0.018437</td>\n",
       "      <td>0.017863</td>\n",
       "      <td>0.029435</td>\n",
       "      <td>2.699035e-02</td>\n",
       "      <td>4.374488e-02</td>\n",
       "    </tr>\n",
       "    <tr>\n",
       "      <th>subj1_series10_16</th>\n",
       "      <td>0.007750</td>\n",
       "      <td>0.018890</td>\n",
       "      <td>0.018324</td>\n",
       "      <td>0.030057</td>\n",
       "      <td>2.644640e-02</td>\n",
       "      <td>4.246309e-02</td>\n",
       "    </tr>\n",
       "    <tr>\n",
       "      <th>subj1_series10_17</th>\n",
       "      <td>0.008312</td>\n",
       "      <td>0.019434</td>\n",
       "      <td>0.018906</td>\n",
       "      <td>0.030612</td>\n",
       "      <td>2.660161e-02</td>\n",
       "      <td>4.165715e-02</td>\n",
       "    </tr>\n",
       "    <tr>\n",
       "      <th>subj1_series10_18</th>\n",
       "      <td>0.008279</td>\n",
       "      <td>0.018912</td>\n",
       "      <td>0.018464</td>\n",
       "      <td>0.029194</td>\n",
       "      <td>3.033498e-02</td>\n",
       "      <td>4.557300e-02</td>\n",
       "    </tr>\n",
       "    <tr>\n",
       "      <th>subj1_series10_19</th>\n",
       "      <td>0.007319</td>\n",
       "      <td>0.016962</td>\n",
       "      <td>0.016609</td>\n",
       "      <td>0.025416</td>\n",
       "      <td>4.030058e-02</td>\n",
       "      <td>5.745340e-02</td>\n",
       "    </tr>\n",
       "    <tr>\n",
       "      <th>subj1_series10_20</th>\n",
       "      <td>0.005964</td>\n",
       "      <td>0.014406</td>\n",
       "      <td>0.014129</td>\n",
       "      <td>0.020836</td>\n",
       "      <td>5.834958e-02</td>\n",
       "      <td>7.868605e-02</td>\n",
       "    </tr>\n",
       "    <tr>\n",
       "      <th>subj1_series10_21</th>\n",
       "      <td>0.004746</td>\n",
       "      <td>0.012064</td>\n",
       "      <td>0.011838</td>\n",
       "      <td>0.016839</td>\n",
       "      <td>8.466537e-02</td>\n",
       "      <td>1.084156e-01</td>\n",
       "    </tr>\n",
       "    <tr>\n",
       "      <th>subj1_series10_22</th>\n",
       "      <td>0.003824</td>\n",
       "      <td>0.010224</td>\n",
       "      <td>0.010029</td>\n",
       "      <td>0.013822</td>\n",
       "      <td>1.171165e-01</td>\n",
       "      <td>1.436137e-01</td>\n",
       "    </tr>\n",
       "    <tr>\n",
       "      <th>subj1_series10_23</th>\n",
       "      <td>0.003165</td>\n",
       "      <td>0.008864</td>\n",
       "      <td>0.008688</td>\n",
       "      <td>0.011672</td>\n",
       "      <td>1.517979e-01</td>\n",
       "      <td>1.801071e-01</td>\n",
       "    </tr>\n",
       "    <tr>\n",
       "      <th>subj1_series10_24</th>\n",
       "      <td>0.002702</td>\n",
       "      <td>0.007888</td>\n",
       "      <td>0.007721</td>\n",
       "      <td>0.010177</td>\n",
       "      <td>1.844447e-01</td>\n",
       "      <td>2.139095e-01</td>\n",
       "    </tr>\n",
       "    <tr>\n",
       "      <th>subj1_series10_25</th>\n",
       "      <td>0.002383</td>\n",
       "      <td>0.007205</td>\n",
       "      <td>0.007043</td>\n",
       "      <td>0.009160</td>\n",
       "      <td>2.116674e-01</td>\n",
       "      <td>2.420200e-01</td>\n",
       "    </tr>\n",
       "    <tr>\n",
       "      <th>subj1_series10_26</th>\n",
       "      <td>0.002174</td>\n",
       "      <td>0.006755</td>\n",
       "      <td>0.006594</td>\n",
       "      <td>0.008503</td>\n",
       "      <td>2.314583e-01</td>\n",
       "      <td>2.625507e-01</td>\n",
       "    </tr>\n",
       "    <tr>\n",
       "      <th>subj1_series10_27</th>\n",
       "      <td>0.002059</td>\n",
       "      <td>0.006502</td>\n",
       "      <td>0.006342</td>\n",
       "      <td>0.008131</td>\n",
       "      <td>2.431944e-01</td>\n",
       "      <td>2.746382e-01</td>\n",
       "    </tr>\n",
       "    <tr>\n",
       "      <th>subj1_series10_28</th>\n",
       "      <td>0.002027</td>\n",
       "      <td>0.006418</td>\n",
       "      <td>0.006260</td>\n",
       "      <td>0.007991</td>\n",
       "      <td>2.476058e-01</td>\n",
       "      <td>2.786487e-01</td>\n",
       "    </tr>\n",
       "    <tr>\n",
       "      <th>subj1_series10_29</th>\n",
       "      <td>0.002063</td>\n",
       "      <td>0.006466</td>\n",
       "      <td>0.006310</td>\n",
       "      <td>0.008022</td>\n",
       "      <td>2.467471e-01</td>\n",
       "      <td>2.765342e-01</td>\n",
       "    </tr>\n",
       "    <tr>\n",
       "      <th>...</th>\n",
       "      <td>...</td>\n",
       "      <td>...</td>\n",
       "      <td>...</td>\n",
       "      <td>...</td>\n",
       "      <td>...</td>\n",
       "      <td>...</td>\n",
       "    </tr>\n",
       "    <tr>\n",
       "      <th>subj1_series9_115923</th>\n",
       "      <td>0.020206</td>\n",
       "      <td>0.019171</td>\n",
       "      <td>0.018843</td>\n",
       "      <td>0.016879</td>\n",
       "      <td>4.848338e-02</td>\n",
       "      <td>3.884984e-02</td>\n",
       "    </tr>\n",
       "    <tr>\n",
       "      <th>subj1_series9_115924</th>\n",
       "      <td>0.020002</td>\n",
       "      <td>0.019089</td>\n",
       "      <td>0.018753</td>\n",
       "      <td>0.016810</td>\n",
       "      <td>4.824168e-02</td>\n",
       "      <td>3.879623e-02</td>\n",
       "    </tr>\n",
       "    <tr>\n",
       "      <th>subj1_series9_115925</th>\n",
       "      <td>0.019766</td>\n",
       "      <td>0.018993</td>\n",
       "      <td>0.018650</td>\n",
       "      <td>0.016733</td>\n",
       "      <td>4.806538e-02</td>\n",
       "      <td>3.880508e-02</td>\n",
       "    </tr>\n",
       "    <tr>\n",
       "      <th>subj1_series9_115926</th>\n",
       "      <td>0.019547</td>\n",
       "      <td>0.018899</td>\n",
       "      <td>0.018550</td>\n",
       "      <td>0.016661</td>\n",
       "      <td>4.799931e-02</td>\n",
       "      <td>3.888365e-02</td>\n",
       "    </tr>\n",
       "    <tr>\n",
       "      <th>subj1_series9_115927</th>\n",
       "      <td>0.019372</td>\n",
       "      <td>0.018822</td>\n",
       "      <td>0.018468</td>\n",
       "      <td>0.016603</td>\n",
       "      <td>4.802857e-02</td>\n",
       "      <td>3.900492e-02</td>\n",
       "    </tr>\n",
       "    <tr>\n",
       "      <th>subj1_series9_115928</th>\n",
       "      <td>0.019234</td>\n",
       "      <td>0.018761</td>\n",
       "      <td>0.018406</td>\n",
       "      <td>0.016557</td>\n",
       "      <td>4.808264e-02</td>\n",
       "      <td>3.911730e-02</td>\n",
       "    </tr>\n",
       "    <tr>\n",
       "      <th>subj1_series9_115929</th>\n",
       "      <td>0.019087</td>\n",
       "      <td>0.018707</td>\n",
       "      <td>0.018354</td>\n",
       "      <td>0.016514</td>\n",
       "      <td>4.806514e-02</td>\n",
       "      <td>3.916770e-02</td>\n",
       "    </tr>\n",
       "    <tr>\n",
       "      <th>subj1_series9_115930</th>\n",
       "      <td>0.018873</td>\n",
       "      <td>0.018638</td>\n",
       "      <td>0.018293</td>\n",
       "      <td>0.016455</td>\n",
       "      <td>4.789586e-02</td>\n",
       "      <td>3.912538e-02</td>\n",
       "    </tr>\n",
       "    <tr>\n",
       "      <th>subj1_series9_115931</th>\n",
       "      <td>0.018540</td>\n",
       "      <td>0.018537</td>\n",
       "      <td>0.018203</td>\n",
       "      <td>0.016365</td>\n",
       "      <td>4.754584e-02</td>\n",
       "      <td>3.899440e-02</td>\n",
       "    </tr>\n",
       "    <tr>\n",
       "      <th>subj1_series9_115932</th>\n",
       "      <td>0.018079</td>\n",
       "      <td>0.018392</td>\n",
       "      <td>0.018073</td>\n",
       "      <td>0.016238</td>\n",
       "      <td>4.704902e-02</td>\n",
       "      <td>3.881054e-02</td>\n",
       "    </tr>\n",
       "    <tr>\n",
       "      <th>subj1_series9_115933</th>\n",
       "      <td>0.017519</td>\n",
       "      <td>0.018208</td>\n",
       "      <td>0.017905</td>\n",
       "      <td>0.016077</td>\n",
       "      <td>4.648734e-02</td>\n",
       "      <td>3.862739e-02</td>\n",
       "    </tr>\n",
       "    <tr>\n",
       "      <th>subj1_series9_115934</th>\n",
       "      <td>0.016919</td>\n",
       "      <td>0.017998</td>\n",
       "      <td>0.017711</td>\n",
       "      <td>0.015899</td>\n",
       "      <td>4.595951e-02</td>\n",
       "      <td>3.849893e-02</td>\n",
       "    </tr>\n",
       "    <tr>\n",
       "      <th>subj1_series9_115935</th>\n",
       "      <td>0.016336</td>\n",
       "      <td>0.017782</td>\n",
       "      <td>0.017509</td>\n",
       "      <td>0.015718</td>\n",
       "      <td>4.554952e-02</td>\n",
       "      <td>3.846426e-02</td>\n",
       "    </tr>\n",
       "    <tr>\n",
       "      <th>subj1_series9_115936</th>\n",
       "      <td>0.015819</td>\n",
       "      <td>0.017578</td>\n",
       "      <td>0.017315</td>\n",
       "      <td>0.015553</td>\n",
       "      <td>4.530585e-02</td>\n",
       "      <td>3.853813e-02</td>\n",
       "    </tr>\n",
       "    <tr>\n",
       "      <th>subj1_series9_115937</th>\n",
       "      <td>0.015395</td>\n",
       "      <td>0.017400</td>\n",
       "      <td>0.017144</td>\n",
       "      <td>0.015413</td>\n",
       "      <td>4.523456e-02</td>\n",
       "      <td>3.870858e-02</td>\n",
       "    </tr>\n",
       "    <tr>\n",
       "      <th>subj1_series9_115938</th>\n",
       "      <td>0.015075</td>\n",
       "      <td>0.017256</td>\n",
       "      <td>0.017005</td>\n",
       "      <td>0.015304</td>\n",
       "      <td>4.530436e-02</td>\n",
       "      <td>3.894181e-02</td>\n",
       "    </tr>\n",
       "    <tr>\n",
       "      <th>subj1_series9_115939</th>\n",
       "      <td>0.014853</td>\n",
       "      <td>0.017150</td>\n",
       "      <td>0.016901</td>\n",
       "      <td>0.015226</td>\n",
       "      <td>4.546051e-02</td>\n",
       "      <td>3.919282e-02</td>\n",
       "    </tr>\n",
       "    <tr>\n",
       "      <th>subj1_series9_115940</th>\n",
       "      <td>0.014714</td>\n",
       "      <td>0.017077</td>\n",
       "      <td>0.016829</td>\n",
       "      <td>0.015174</td>\n",
       "      <td>4.564460e-02</td>\n",
       "      <td>3.941981e-02</td>\n",
       "    </tr>\n",
       "    <tr>\n",
       "      <th>subj1_series9_115941</th>\n",
       "      <td>0.014635</td>\n",
       "      <td>0.017029</td>\n",
       "      <td>0.016781</td>\n",
       "      <td>0.015137</td>\n",
       "      <td>4.581460e-02</td>\n",
       "      <td>3.959779e-02</td>\n",
       "    </tr>\n",
       "    <tr>\n",
       "      <th>subj1_series9_115942</th>\n",
       "      <td>0.014595</td>\n",
       "      <td>0.016996</td>\n",
       "      <td>0.016747</td>\n",
       "      <td>0.015106</td>\n",
       "      <td>4.595696e-02</td>\n",
       "      <td>3.972523e-02</td>\n",
       "    </tr>\n",
       "    <tr>\n",
       "      <th>subj1_series9_115943</th>\n",
       "      <td>0.014580</td>\n",
       "      <td>0.016969</td>\n",
       "      <td>0.016717</td>\n",
       "      <td>0.015073</td>\n",
       "      <td>4.608377e-02</td>\n",
       "      <td>3.981967e-02</td>\n",
       "    </tr>\n",
       "    <tr>\n",
       "      <th>subj1_series9_115944</th>\n",
       "      <td>0.014578</td>\n",
       "      <td>0.016943</td>\n",
       "      <td>0.016687</td>\n",
       "      <td>0.015034</td>\n",
       "      <td>4.621639e-02</td>\n",
       "      <td>3.990420e-02</td>\n",
       "    </tr>\n",
       "    <tr>\n",
       "      <th>subj1_series9_115945</th>\n",
       "      <td>0.014584</td>\n",
       "      <td>0.016917</td>\n",
       "      <td>0.016655</td>\n",
       "      <td>0.014991</td>\n",
       "      <td>4.636489e-02</td>\n",
       "      <td>3.999198e-02</td>\n",
       "    </tr>\n",
       "    <tr>\n",
       "      <th>subj1_series9_115946</th>\n",
       "      <td>0.014597</td>\n",
       "      <td>0.016894</td>\n",
       "      <td>0.016628</td>\n",
       "      <td>0.014952</td>\n",
       "      <td>4.651507e-02</td>\n",
       "      <td>4.007640e-02</td>\n",
       "    </tr>\n",
       "    <tr>\n",
       "      <th>subj1_series9_115947</th>\n",
       "      <td>0.014620</td>\n",
       "      <td>0.016883</td>\n",
       "      <td>0.016614</td>\n",
       "      <td>0.014927</td>\n",
       "      <td>4.662942e-02</td>\n",
       "      <td>4.013092e-02</td>\n",
       "    </tr>\n",
       "    <tr>\n",
       "      <th>subj1_series9_115948</th>\n",
       "      <td>0.014656</td>\n",
       "      <td>0.016890</td>\n",
       "      <td>0.016620</td>\n",
       "      <td>0.014923</td>\n",
       "      <td>4.666057e-02</td>\n",
       "      <td>4.011842e-02</td>\n",
       "    </tr>\n",
       "    <tr>\n",
       "      <th>subj1_series9_115949</th>\n",
       "      <td>0.014715</td>\n",
       "      <td>0.016923</td>\n",
       "      <td>0.016654</td>\n",
       "      <td>0.014945</td>\n",
       "      <td>4.656960e-02</td>\n",
       "      <td>4.000538e-02</td>\n",
       "    </tr>\n",
       "    <tr>\n",
       "      <th>subj1_series9_115950</th>\n",
       "      <td>0.014802</td>\n",
       "      <td>0.016982</td>\n",
       "      <td>0.016715</td>\n",
       "      <td>0.014992</td>\n",
       "      <td>4.634127e-02</td>\n",
       "      <td>3.977520e-02</td>\n",
       "    </tr>\n",
       "    <tr>\n",
       "      <th>subj1_series9_115951</th>\n",
       "      <td>0.014921</td>\n",
       "      <td>0.017064</td>\n",
       "      <td>0.016800</td>\n",
       "      <td>0.015057</td>\n",
       "      <td>4.599112e-02</td>\n",
       "      <td>3.943645e-02</td>\n",
       "    </tr>\n",
       "    <tr>\n",
       "      <th>subj1_series9_115952</th>\n",
       "      <td>0.015067</td>\n",
       "      <td>0.017159</td>\n",
       "      <td>0.016896</td>\n",
       "      <td>0.015128</td>\n",
       "      <td>4.556307e-02</td>\n",
       "      <td>3.902385e-02</td>\n",
       "    </tr>\n",
       "  </tbody>\n",
       "</table>\n",
       "<p>233081 rows × 6 columns</p>\n",
       "</div>"
      ],
      "text/plain": [
       "                      HandStart  FirstDigitTouch  BothStartLoadPhase  \\\n",
       "subj1_series10_0       0.999959         0.999366            0.999304   \n",
       "subj1_series10_1       0.998651         0.990668            0.989918   \n",
       "subj1_series10_2       0.984581         0.941300            0.937477   \n",
       "subj1_series10_3       0.907491         0.792142            0.782242   \n",
       "subj1_series10_4       0.688652         0.550710            0.537572   \n",
       "subj1_series10_5       0.397326         0.329375            0.318836   \n",
       "subj1_series10_6       0.195965         0.188962            0.182297   \n",
       "subj1_series10_7       0.096735         0.112270            0.108282   \n",
       "subj1_series10_8       0.051468         0.071219            0.068766   \n",
       "subj1_series10_9       0.030078         0.048552            0.046950   \n",
       "subj1_series10_10      0.019300         0.035496            0.034370   \n",
       "subj1_series10_11      0.013528         0.027708            0.026854   \n",
       "subj1_series10_12      0.010303         0.022993            0.022292   \n",
       "subj1_series10_13      0.008497         0.020214            0.019594   \n",
       "subj1_series10_14      0.007593         0.018791            0.018206   \n",
       "subj1_series10_15      0.007382         0.018437            0.017863   \n",
       "subj1_series10_16      0.007750         0.018890            0.018324   \n",
       "subj1_series10_17      0.008312         0.019434            0.018906   \n",
       "subj1_series10_18      0.008279         0.018912            0.018464   \n",
       "subj1_series10_19      0.007319         0.016962            0.016609   \n",
       "subj1_series10_20      0.005964         0.014406            0.014129   \n",
       "subj1_series10_21      0.004746         0.012064            0.011838   \n",
       "subj1_series10_22      0.003824         0.010224            0.010029   \n",
       "subj1_series10_23      0.003165         0.008864            0.008688   \n",
       "subj1_series10_24      0.002702         0.007888            0.007721   \n",
       "subj1_series10_25      0.002383         0.007205            0.007043   \n",
       "subj1_series10_26      0.002174         0.006755            0.006594   \n",
       "subj1_series10_27      0.002059         0.006502            0.006342   \n",
       "subj1_series10_28      0.002027         0.006418            0.006260   \n",
       "subj1_series10_29      0.002063         0.006466            0.006310   \n",
       "...                         ...              ...                 ...   \n",
       "subj1_series9_115923   0.020206         0.019171            0.018843   \n",
       "subj1_series9_115924   0.020002         0.019089            0.018753   \n",
       "subj1_series9_115925   0.019766         0.018993            0.018650   \n",
       "subj1_series9_115926   0.019547         0.018899            0.018550   \n",
       "subj1_series9_115927   0.019372         0.018822            0.018468   \n",
       "subj1_series9_115928   0.019234         0.018761            0.018406   \n",
       "subj1_series9_115929   0.019087         0.018707            0.018354   \n",
       "subj1_series9_115930   0.018873         0.018638            0.018293   \n",
       "subj1_series9_115931   0.018540         0.018537            0.018203   \n",
       "subj1_series9_115932   0.018079         0.018392            0.018073   \n",
       "subj1_series9_115933   0.017519         0.018208            0.017905   \n",
       "subj1_series9_115934   0.016919         0.017998            0.017711   \n",
       "subj1_series9_115935   0.016336         0.017782            0.017509   \n",
       "subj1_series9_115936   0.015819         0.017578            0.017315   \n",
       "subj1_series9_115937   0.015395         0.017400            0.017144   \n",
       "subj1_series9_115938   0.015075         0.017256            0.017005   \n",
       "subj1_series9_115939   0.014853         0.017150            0.016901   \n",
       "subj1_series9_115940   0.014714         0.017077            0.016829   \n",
       "subj1_series9_115941   0.014635         0.017029            0.016781   \n",
       "subj1_series9_115942   0.014595         0.016996            0.016747   \n",
       "subj1_series9_115943   0.014580         0.016969            0.016717   \n",
       "subj1_series9_115944   0.014578         0.016943            0.016687   \n",
       "subj1_series9_115945   0.014584         0.016917            0.016655   \n",
       "subj1_series9_115946   0.014597         0.016894            0.016628   \n",
       "subj1_series9_115947   0.014620         0.016883            0.016614   \n",
       "subj1_series9_115948   0.014656         0.016890            0.016620   \n",
       "subj1_series9_115949   0.014715         0.016923            0.016654   \n",
       "subj1_series9_115950   0.014802         0.016982            0.016715   \n",
       "subj1_series9_115951   0.014921         0.017064            0.016800   \n",
       "subj1_series9_115952   0.015067         0.017159            0.016896   \n",
       "\n",
       "                       LiftOff       Replace  BothReleased  \n",
       "subj1_series10_0      0.999960  6.909480e-13  1.736407e-11  \n",
       "subj1_series10_1      0.998941  2.637101e-10  3.260153e-09  \n",
       "subj1_series10_2      0.989653  1.668514e-08  1.262674e-07  \n",
       "subj1_series10_3      0.943971  3.830773e-07  2.012880e-06  \n",
       "subj1_series10_4      0.811159  4.465582e-06  1.773868e-05  \n",
       "subj1_series10_5      0.588873  3.187758e-05  1.017563e-04  \n",
       "subj1_series10_6      0.369743  1.565362e-04  4.202677e-04  \n",
       "subj1_series10_7      0.220592  5.710918e-04  1.335967e-03  \n",
       "subj1_series10_8      0.135068  1.633088e-03  3.424545e-03  \n",
       "subj1_series10_9      0.087977  3.803350e-03  7.319690e-03  \n",
       "subj1_series10_10     0.061637  7.417746e-03  1.336883e-02  \n",
       "subj1_series10_11     0.046482  1.236912e-02  2.125215e-02  \n",
       "subj1_series10_12     0.037628  1.792267e-02  2.983397e-02  \n",
       "subj1_series10_13     0.032582  2.287458e-02  3.741925e-02  \n",
       "subj1_series10_14     0.030073  2.605725e-02  4.234539e-02  \n",
       "subj1_series10_15     0.029435  2.699035e-02  4.374488e-02  \n",
       "subj1_series10_16     0.030057  2.644640e-02  4.246309e-02  \n",
       "subj1_series10_17     0.030612  2.660161e-02  4.165715e-02  \n",
       "subj1_series10_18     0.029194  3.033498e-02  4.557300e-02  \n",
       "subj1_series10_19     0.025416  4.030058e-02  5.745340e-02  \n",
       "subj1_series10_20     0.020836  5.834958e-02  7.868605e-02  \n",
       "subj1_series10_21     0.016839  8.466537e-02  1.084156e-01  \n",
       "subj1_series10_22     0.013822  1.171165e-01  1.436137e-01  \n",
       "subj1_series10_23     0.011672  1.517979e-01  1.801071e-01  \n",
       "subj1_series10_24     0.010177  1.844447e-01  2.139095e-01  \n",
       "subj1_series10_25     0.009160  2.116674e-01  2.420200e-01  \n",
       "subj1_series10_26     0.008503  2.314583e-01  2.625507e-01  \n",
       "subj1_series10_27     0.008131  2.431944e-01  2.746382e-01  \n",
       "subj1_series10_28     0.007991  2.476058e-01  2.786487e-01  \n",
       "subj1_series10_29     0.008022  2.467471e-01  2.765342e-01  \n",
       "...                        ...           ...           ...  \n",
       "subj1_series9_115923  0.016879  4.848338e-02  3.884984e-02  \n",
       "subj1_series9_115924  0.016810  4.824168e-02  3.879623e-02  \n",
       "subj1_series9_115925  0.016733  4.806538e-02  3.880508e-02  \n",
       "subj1_series9_115926  0.016661  4.799931e-02  3.888365e-02  \n",
       "subj1_series9_115927  0.016603  4.802857e-02  3.900492e-02  \n",
       "subj1_series9_115928  0.016557  4.808264e-02  3.911730e-02  \n",
       "subj1_series9_115929  0.016514  4.806514e-02  3.916770e-02  \n",
       "subj1_series9_115930  0.016455  4.789586e-02  3.912538e-02  \n",
       "subj1_series9_115931  0.016365  4.754584e-02  3.899440e-02  \n",
       "subj1_series9_115932  0.016238  4.704902e-02  3.881054e-02  \n",
       "subj1_series9_115933  0.016077  4.648734e-02  3.862739e-02  \n",
       "subj1_series9_115934  0.015899  4.595951e-02  3.849893e-02  \n",
       "subj1_series9_115935  0.015718  4.554952e-02  3.846426e-02  \n",
       "subj1_series9_115936  0.015553  4.530585e-02  3.853813e-02  \n",
       "subj1_series9_115937  0.015413  4.523456e-02  3.870858e-02  \n",
       "subj1_series9_115938  0.015304  4.530436e-02  3.894181e-02  \n",
       "subj1_series9_115939  0.015226  4.546051e-02  3.919282e-02  \n",
       "subj1_series9_115940  0.015174  4.564460e-02  3.941981e-02  \n",
       "subj1_series9_115941  0.015137  4.581460e-02  3.959779e-02  \n",
       "subj1_series9_115942  0.015106  4.595696e-02  3.972523e-02  \n",
       "subj1_series9_115943  0.015073  4.608377e-02  3.981967e-02  \n",
       "subj1_series9_115944  0.015034  4.621639e-02  3.990420e-02  \n",
       "subj1_series9_115945  0.014991  4.636489e-02  3.999198e-02  \n",
       "subj1_series9_115946  0.014952  4.651507e-02  4.007640e-02  \n",
       "subj1_series9_115947  0.014927  4.662942e-02  4.013092e-02  \n",
       "subj1_series9_115948  0.014923  4.666057e-02  4.011842e-02  \n",
       "subj1_series9_115949  0.014945  4.656960e-02  4.000538e-02  \n",
       "subj1_series9_115950  0.014992  4.634127e-02  3.977520e-02  \n",
       "subj1_series9_115951  0.015057  4.599112e-02  3.943645e-02  \n",
       "subj1_series9_115952  0.015128  4.556307e-02  3.902385e-02  \n",
       "\n",
       "[233081 rows x 6 columns]"
      ]
     },
     "execution_count": 98,
     "metadata": {},
     "output_type": "execute_result"
    }
   ],
   "source": [
    "submission"
   ]
  },
  {
   "cell_type": "code",
   "execution_count": 99,
   "metadata": {
    "collapsed": true
   },
   "outputs": [],
   "source": [
    "# write file\n",
    "submission.to_csv(submission_file,index_label='id',float_format='%.3f')"
   ]
  },
  {
   "cell_type": "code",
   "execution_count": null,
   "metadata": {
    "collapsed": true
   },
   "outputs": [],
   "source": []
  }
 ],
 "metadata": {
  "kernelspec": {
   "display_name": "Python 2",
   "language": "python",
   "name": "python2"
  },
  "language_info": {
   "codemirror_mode": {
    "name": "ipython",
    "version": 2
   },
   "file_extension": ".py",
   "mimetype": "text/x-python",
   "name": "python",
   "nbconvert_exporter": "python",
   "pygments_lexer": "ipython2",
   "version": "2.7.6"
  }
 },
 "nbformat": 4,
 "nbformat_minor": 0
}
