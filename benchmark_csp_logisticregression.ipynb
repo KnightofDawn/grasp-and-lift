{
 "cells": [
  {
   "cell_type": "code",
   "execution_count": 1,
   "metadata": {
    "collapsed": true
   },
   "outputs": [],
   "source": [
    "%matplotlib inline"
   ]
  },
  {
   "cell_type": "code",
   "execution_count": 135,
   "metadata": {
    "collapsed": false
   },
   "outputs": [],
   "source": [
    "import numpy as np\n",
    "import pandas as pd\n",
    "from mne.io import RawArray\n",
    "from mne.channels import read_montage\n",
    "from mne.epochs import concatenate_epochs\n",
    "from mne import create_info, find_events, Epochs, concatenate_raws, pick_types\n",
    "from mne.viz.topomap import _prepare_topo_plot, plot_topomap\n",
    "from mne.decoding import CSP\n",
    "\n",
    "from sklearn.linear_model import LogisticRegression\n",
    "from glob import glob\n",
    "\n",
    "from scipy.signal import butter, lfilter, convolve, boxcar"
   ]
  },
  {
   "cell_type": "code",
   "execution_count": 136,
   "metadata": {
    "collapsed": true
   },
   "outputs": [],
   "source": [
    "from sklearn.pipeline import make_pipeline\n",
    "from sklearn.linear_model import LogisticRegression\n",
    "from sklearn.metrics import roc_auc_score\n",
    "from sklearn.cross_validation import cross_val_score, LeaveOneLabelOut\n",
    "from glob import glob"
   ]
  },
  {
   "cell_type": "code",
   "execution_count": 5,
   "metadata": {
    "collapsed": false
   },
   "outputs": [],
   "source": [
    "subjects = range(1, 13)"
   ]
  },
  {
   "cell_type": "code",
   "execution_count": 6,
   "metadata": {
    "collapsed": true
   },
   "outputs": [],
   "source": [
    "def creat_mne_raw_object(fname,read_events=True):\n",
    "    \"\"\"Create a mne raw instance from csv file\"\"\"\n",
    "    \n",
    "    # Read EEG file\n",
    "    data = pd.read_csv(fname)\n",
    "    \n",
    "    # get chanel names\n",
    "    ch_names = list(data.columns[1:])\n",
    "    \n",
    "    # read EEG standard montage from mne\n",
    "    montage = read_montage('standard_1005',ch_names)\n",
    "    \n",
    "    ch_type = ['eeg']*len(ch_names)\n",
    "    \n",
    "    # Scale and transpose data (rows now channels in numpy matrix)\n",
    "    data = 1e-6*np.array(data[ch_names]).T\n",
    "    \n",
    "    if read_events:\n",
    "        # events file\n",
    "        ev_fname = fname.replace('_data','_events')\n",
    "        # read event file\n",
    "        events = pd.read_csv(ev_fname)\n",
    "        events_names = events.columns[1:]\n",
    "        events_data = np.array(events[events_names]).T\n",
    "        \n",
    "        # define channel type, the first is EEG, the last 6 are stimulations\n",
    "        ch_type.extend(['stim']*6)\n",
    "        ch_names.extend(events_names)\n",
    "        # concatenate event file and data (vstack)\n",
    "        data = np.concatenate((data,events_data))\n",
    "        \n",
    "        # create and populate MNE info structure\n",
    "        info = create_info(ch_names,sfreq=500.0, ch_types=ch_type, montage=montage)\n",
    "        info['filename'] = fname\n",
    "\n",
    "        # create raw object \n",
    "        raw = RawArray(data,info,verbose=False)\n",
    "\n",
    "        return raw"
   ]
  },
  {
   "cell_type": "code",
   "execution_count": 12,
   "metadata": {
    "collapsed": false
   },
   "outputs": [],
   "source": [
    "for subject in subjects:\n",
    "    fnames = glob('train/subj%d_series*_data.csv' % (subject))\n",
    "    for fname in fnames:\n",
    "        #creat_mne_raw_object(fname)\n",
    "        pass"
   ]
  },
  {
   "cell_type": "code",
   "execution_count": 7,
   "metadata": {
    "collapsed": true
   },
   "outputs": [],
   "source": [
    "fname = 'train/subj1_series1_data.csv'"
   ]
  },
  {
   "cell_type": "code",
   "execution_count": 8,
   "metadata": {
    "collapsed": false
   },
   "outputs": [],
   "source": [
    "data = pd.read_csv(fname)\n",
    "#creat_mne_raw_object('train/subj1_series1_data.csv')"
   ]
  },
  {
   "cell_type": "code",
   "execution_count": 9,
   "metadata": {
    "collapsed": false
   },
   "outputs": [
    {
     "data": {
      "text/html": [
       "<div>\n",
       "<table border=\"1\" class=\"dataframe\">\n",
       "  <thead>\n",
       "    <tr style=\"text-align: right;\">\n",
       "      <th></th>\n",
       "      <th>id</th>\n",
       "      <th>Fp1</th>\n",
       "      <th>Fp2</th>\n",
       "      <th>F7</th>\n",
       "      <th>F3</th>\n",
       "      <th>Fz</th>\n",
       "      <th>F4</th>\n",
       "      <th>F8</th>\n",
       "      <th>FC5</th>\n",
       "      <th>FC1</th>\n",
       "      <th>...</th>\n",
       "      <th>P7</th>\n",
       "      <th>P3</th>\n",
       "      <th>Pz</th>\n",
       "      <th>P4</th>\n",
       "      <th>P8</th>\n",
       "      <th>PO9</th>\n",
       "      <th>O1</th>\n",
       "      <th>Oz</th>\n",
       "      <th>O2</th>\n",
       "      <th>PO10</th>\n",
       "    </tr>\n",
       "  </thead>\n",
       "  <tbody>\n",
       "    <tr>\n",
       "      <th>0</th>\n",
       "      <td>subj1_series1_0</td>\n",
       "      <td>-31</td>\n",
       "      <td>363</td>\n",
       "      <td>211</td>\n",
       "      <td>121</td>\n",
       "      <td>211</td>\n",
       "      <td>15</td>\n",
       "      <td>717</td>\n",
       "      <td>279</td>\n",
       "      <td>35</td>\n",
       "      <td>...</td>\n",
       "      <td>536</td>\n",
       "      <td>348</td>\n",
       "      <td>383</td>\n",
       "      <td>105</td>\n",
       "      <td>607</td>\n",
       "      <td>289</td>\n",
       "      <td>459</td>\n",
       "      <td>173</td>\n",
       "      <td>120</td>\n",
       "      <td>704</td>\n",
       "    </tr>\n",
       "    <tr>\n",
       "      <th>1</th>\n",
       "      <td>subj1_series1_1</td>\n",
       "      <td>-29</td>\n",
       "      <td>342</td>\n",
       "      <td>216</td>\n",
       "      <td>123</td>\n",
       "      <td>222</td>\n",
       "      <td>200</td>\n",
       "      <td>595</td>\n",
       "      <td>329</td>\n",
       "      <td>43</td>\n",
       "      <td>...</td>\n",
       "      <td>529</td>\n",
       "      <td>327</td>\n",
       "      <td>369</td>\n",
       "      <td>78</td>\n",
       "      <td>613</td>\n",
       "      <td>248</td>\n",
       "      <td>409</td>\n",
       "      <td>141</td>\n",
       "      <td>83</td>\n",
       "      <td>737</td>\n",
       "    </tr>\n",
       "    <tr>\n",
       "      <th>2</th>\n",
       "      <td>subj1_series1_2</td>\n",
       "      <td>-172</td>\n",
       "      <td>278</td>\n",
       "      <td>105</td>\n",
       "      <td>93</td>\n",
       "      <td>222</td>\n",
       "      <td>511</td>\n",
       "      <td>471</td>\n",
       "      <td>280</td>\n",
       "      <td>12</td>\n",
       "      <td>...</td>\n",
       "      <td>511</td>\n",
       "      <td>319</td>\n",
       "      <td>355</td>\n",
       "      <td>66</td>\n",
       "      <td>606</td>\n",
       "      <td>320</td>\n",
       "      <td>440</td>\n",
       "      <td>141</td>\n",
       "      <td>62</td>\n",
       "      <td>677</td>\n",
       "    </tr>\n",
       "    <tr>\n",
       "      <th>3</th>\n",
       "      <td>subj1_series1_3</td>\n",
       "      <td>-272</td>\n",
       "      <td>263</td>\n",
       "      <td>-52</td>\n",
       "      <td>99</td>\n",
       "      <td>208</td>\n",
       "      <td>511</td>\n",
       "      <td>428</td>\n",
       "      <td>261</td>\n",
       "      <td>27</td>\n",
       "      <td>...</td>\n",
       "      <td>521</td>\n",
       "      <td>336</td>\n",
       "      <td>356</td>\n",
       "      <td>71</td>\n",
       "      <td>568</td>\n",
       "      <td>339</td>\n",
       "      <td>437</td>\n",
       "      <td>139</td>\n",
       "      <td>58</td>\n",
       "      <td>592</td>\n",
       "    </tr>\n",
       "    <tr>\n",
       "      <th>4</th>\n",
       "      <td>subj1_series1_4</td>\n",
       "      <td>-265</td>\n",
       "      <td>213</td>\n",
       "      <td>-67</td>\n",
       "      <td>99</td>\n",
       "      <td>155</td>\n",
       "      <td>380</td>\n",
       "      <td>476</td>\n",
       "      <td>353</td>\n",
       "      <td>32</td>\n",
       "      <td>...</td>\n",
       "      <td>550</td>\n",
       "      <td>324</td>\n",
       "      <td>346</td>\n",
       "      <td>76</td>\n",
       "      <td>547</td>\n",
       "      <td>343</td>\n",
       "      <td>446</td>\n",
       "      <td>171</td>\n",
       "      <td>67</td>\n",
       "      <td>581</td>\n",
       "    </tr>\n",
       "  </tbody>\n",
       "</table>\n",
       "<p>5 rows × 33 columns</p>\n",
       "</div>"
      ],
      "text/plain": [
       "                id  Fp1  Fp2   F7   F3   Fz   F4   F8  FC5  FC1  ...    P7  \\\n",
       "0  subj1_series1_0  -31  363  211  121  211   15  717  279   35  ...   536   \n",
       "1  subj1_series1_1  -29  342  216  123  222  200  595  329   43  ...   529   \n",
       "2  subj1_series1_2 -172  278  105   93  222  511  471  280   12  ...   511   \n",
       "3  subj1_series1_3 -272  263  -52   99  208  511  428  261   27  ...   521   \n",
       "4  subj1_series1_4 -265  213  -67   99  155  380  476  353   32  ...   550   \n",
       "\n",
       "    P3   Pz   P4   P8  PO9   O1   Oz   O2  PO10  \n",
       "0  348  383  105  607  289  459  173  120   704  \n",
       "1  327  369   78  613  248  409  141   83   737  \n",
       "2  319  355   66  606  320  440  141   62   677  \n",
       "3  336  356   71  568  339  437  139   58   592  \n",
       "4  324  346   76  547  343  446  171   67   581  \n",
       "\n",
       "[5 rows x 33 columns]"
      ]
     },
     "execution_count": 9,
     "metadata": {},
     "output_type": "execute_result"
    }
   ],
   "source": [
    "data.head()"
   ]
  },
  {
   "cell_type": "code",
   "execution_count": 10,
   "metadata": {
    "collapsed": false
   },
   "outputs": [],
   "source": [
    "# get chanel names\n",
    "ch_names = list(data.columns[1:])"
   ]
  },
  {
   "cell_type": "code",
   "execution_count": 11,
   "metadata": {
    "collapsed": false
   },
   "outputs": [],
   "source": [
    "montage = read_montage('standard_1005',ch_names)"
   ]
  },
  {
   "cell_type": "code",
   "execution_count": 12,
   "metadata": {
    "collapsed": false
   },
   "outputs": [],
   "source": [
    "ch_type = ['eeg']*len(ch_names)"
   ]
  },
  {
   "cell_type": "code",
   "execution_count": 13,
   "metadata": {
    "collapsed": false
   },
   "outputs": [],
   "source": [
    "data = 1e-6*np.array(data[ch_names]).T"
   ]
  },
  {
   "cell_type": "code",
   "execution_count": 14,
   "metadata": {
    "collapsed": false
   },
   "outputs": [
    {
     "data": {
      "text/plain": [
       "(32, 119496)"
      ]
     },
     "execution_count": 14,
     "metadata": {},
     "output_type": "execute_result"
    }
   ],
   "source": [
    "data.shape"
   ]
  },
  {
   "cell_type": "code",
   "execution_count": 15,
   "metadata": {
    "collapsed": false
   },
   "outputs": [],
   "source": [
    "# events file\n",
    "ev_fname = fname.replace('_data','_events')\n",
    "# read event file\n",
    "events = pd.read_csv(ev_fname)\n",
    "events_names = events.columns[1:]\n",
    "events_data = np.array(events[events_names]).T"
   ]
  },
  {
   "cell_type": "code",
   "execution_count": 16,
   "metadata": {
    "collapsed": false
   },
   "outputs": [
    {
     "data": {
      "text/plain": [
       "(32, 119496)"
      ]
     },
     "execution_count": 16,
     "metadata": {},
     "output_type": "execute_result"
    }
   ],
   "source": [
    "data.shape"
   ]
  },
  {
   "cell_type": "code",
   "execution_count": 17,
   "metadata": {
    "collapsed": false
   },
   "outputs": [
    {
     "data": {
      "text/plain": [
       "(6, 119496)"
      ]
     },
     "execution_count": 17,
     "metadata": {},
     "output_type": "execute_result"
    }
   ],
   "source": [
    "events_data.shape"
   ]
  },
  {
   "cell_type": "code",
   "execution_count": 18,
   "metadata": {
    "collapsed": false
   },
   "outputs": [],
   "source": [
    "data = np.concatenate((data, events_data))"
   ]
  },
  {
   "cell_type": "code",
   "execution_count": 19,
   "metadata": {
    "collapsed": false
   },
   "outputs": [
    {
     "data": {
      "text/plain": [
       "(38, 119496)"
      ]
     },
     "execution_count": 19,
     "metadata": {},
     "output_type": "execute_result"
    }
   ],
   "source": [
    "data.shape"
   ]
  },
  {
   "cell_type": "code",
   "execution_count": 20,
   "metadata": {
    "collapsed": false
   },
   "outputs": [],
   "source": [
    "ch_type.extend(['stim']*6)\n",
    "ch_names.extend(events_names)"
   ]
  },
  {
   "cell_type": "code",
   "execution_count": 21,
   "metadata": {
    "collapsed": false
   },
   "outputs": [],
   "source": [
    "info = create_info(ch_names, sfreq=500.0, ch_types=ch_type, montage=montage)"
   ]
  },
  {
   "cell_type": "code",
   "execution_count": 24,
   "metadata": {
    "collapsed": false
   },
   "outputs": [
    {
     "data": {
      "text/plain": [
       "<Info | 14 non-empty fields\n",
       "    bads : list | 0 items\n",
       "    ch_names : list | Fp1, Fp2, F7, F3, Fz, F4, F8, FC5, FC1, FC2\n",
       "    chs : list | 38 items (EEG: 32, STIM: 6)\n",
       "    comps : list | 0 items\n",
       "    custom_ref_applied : bool | False\n",
       "    dev_head_t : dict | 3 items\n",
       "    events : list | 0 items\n",
       "    filename : str | train.../subj1_series1_data.csv\n",
       "    hpi_meas : list | 0 items\n",
       "    hpi_results : list | 0 items\n",
       "    meas_date : numpy.ndarray | 1969-12-31 16:00:00\n",
       "    nchan : int | 38\n",
       "    projs : list | 0 items\n",
       "    sfreq : float | 500.0\n",
       "    acq_pars : NoneType\n",
       "    acq_stim : NoneType\n",
       "    ctf_head_t : NoneType\n",
       "    description : NoneType\n",
       "    dev_ctf_t : NoneType\n",
       "    dig : NoneType\n",
       "    experimenter : NoneType\n",
       "    file_id : NoneType\n",
       "    highpass : NoneType\n",
       "    hpi_subsystem : NoneType\n",
       "    line_freq : NoneType\n",
       "    lowpass : NoneType\n",
       "    meas_id : NoneType\n",
       "    proj_id : NoneType\n",
       "    proj_name : NoneType\n",
       "    subject_info : NoneType\n",
       ">"
      ]
     },
     "execution_count": 24,
     "metadata": {},
     "output_type": "execute_result"
    }
   ],
   "source": [
    "info"
   ]
  },
  {
   "cell_type": "code",
   "execution_count": 23,
   "metadata": {
    "collapsed": false
   },
   "outputs": [],
   "source": [
    "info['filename'] = fname"
   ]
  },
  {
   "cell_type": "code",
   "execution_count": 25,
   "metadata": {
    "collapsed": false
   },
   "outputs": [],
   "source": [
    "raw = RawArray(data, info, verbose=False)"
   ]
  },
  {
   "cell_type": "code",
   "execution_count": 104,
   "metadata": {
    "collapsed": false
   },
   "outputs": [
    {
     "data": {
      "text/plain": [
       "<Raw  |  n_channels x n_times : 38 x 119496>"
      ]
     },
     "execution_count": 104,
     "metadata": {},
     "output_type": "execute_result"
    }
   ],
   "source": [
    "raw"
   ]
  },
  {
   "cell_type": "code",
   "execution_count": 26,
   "metadata": {
    "collapsed": true
   },
   "outputs": [],
   "source": [
    "subject = 1"
   ]
  },
  {
   "cell_type": "code",
   "execution_count": 27,
   "metadata": {
    "collapsed": true
   },
   "outputs": [],
   "source": [
    "fnames =  glob('train/subj%d_series*_data.csv' % (subject))"
   ]
  },
  {
   "cell_type": "code",
   "execution_count": 28,
   "metadata": {
    "collapsed": false
   },
   "outputs": [],
   "source": [
    "raw = concatenate_raws([creat_mne_raw_object(fname) for fname in fnames])"
   ]
  },
  {
   "cell_type": "code",
   "execution_count": 29,
   "metadata": {
    "collapsed": false
   },
   "outputs": [],
   "source": [
    "start, stop = raw.time_as_index([0, 2])"
   ]
  },
  {
   "cell_type": "code",
   "execution_count": 30,
   "metadata": {
    "collapsed": false
   },
   "outputs": [],
   "source": [
    "data, times = raw[0:len(ch_names)-6, start:stop]"
   ]
  },
  {
   "cell_type": "code",
   "execution_count": 31,
   "metadata": {
    "collapsed": false
   },
   "outputs": [],
   "source": [
    "one_raw = creat_mne_raw_object('train/subj1_series1_data.csv')"
   ]
  },
  {
   "cell_type": "code",
   "execution_count": 32,
   "metadata": {
    "collapsed": false
   },
   "outputs": [
    {
     "data": {
      "image/png": "[encoded data removed]",
      "text/plain": [
       "<matplotlib.figure.Figure at 0x105a6abd0>"
      ]
     },
     "metadata": {},
     "output_type": "display_data"
    },
    {
     "data": {
      "image/png": "[encoded data removed]",
      "text/plain": [
       "<matplotlib.figure.Figure at 0x105a6abd0>"
      ]
     },
     "execution_count": 32,
     "metadata": {},
     "output_type": "execute_result"
    }
   ],
   "source": [
    "one_raw.plot()"
   ]
  },
  {
   "cell_type": "code",
   "execution_count": 33,
   "metadata": {
    "collapsed": false
   },
   "outputs": [],
   "source": [
    "picks = pick_types(raw.info, eeg=True)"
   ]
  },
  {
   "cell_type": "code",
   "execution_count": 34,
   "metadata": {
    "collapsed": false
   },
   "outputs": [
    {
     "data": {
      "text/plain": [
       "array([ 0,  1,  2,  3,  4,  5,  6,  7,  8,  9, 10, 11, 12, 13, 14, 15, 16,\n",
       "       17, 18, 19, 20, 21, 22, 23, 24, 25, 26, 27, 28, 29, 30, 31])"
      ]
     },
     "execution_count": 34,
     "metadata": {},
     "output_type": "execute_result"
    }
   ],
   "source": [
    "picks"
   ]
  },
  {
   "cell_type": "code",
   "execution_count": 35,
   "metadata": {
    "collapsed": true
   },
   "outputs": [],
   "source": [
    "stim_cols = pick_types(raw.info,stim=True)"
   ]
  },
  {
   "cell_type": "code",
   "execution_count": 36,
   "metadata": {
    "collapsed": false
   },
   "outputs": [
    {
     "data": {
      "text/plain": [
       "array([32, 33, 34, 35, 36, 37])"
      ]
     },
     "execution_count": 36,
     "metadata": {},
     "output_type": "execute_result"
    }
   ],
   "source": [
    "stim_cols"
   ]
  },
  {
   "cell_type": "code",
   "execution_count": 37,
   "metadata": {
    "collapsed": false
   },
   "outputs": [
    {
     "data": {
      "text/plain": [
       "array([[ -3.10000000e-05,  -2.90000000e-05,  -1.72000000e-04, ...,\n",
       "          1.40000000e-04,   1.45000000e-04,   1.44000000e-04],\n",
       "       [  3.63000000e-04,   3.42000000e-04,   2.78000000e-04, ...,\n",
       "          3.50000000e-04,   3.23000000e-04,   2.65000000e-04],\n",
       "       [  2.11000000e-04,   2.16000000e-04,   1.05000000e-04, ...,\n",
       "          3.71000000e-04,   3.80000000e-04,   4.00000000e-04],\n",
       "       ..., \n",
       "       [  1.73000000e-04,   1.41000000e-04,   1.41000000e-04, ...,\n",
       "          1.45000000e-04,   1.44000000e-04,   5.90000000e-05],\n",
       "       [  1.20000000e-04,   8.30000000e-05,   6.20000000e-05, ...,\n",
       "          2.45000000e-04,   2.79000000e-04,   2.23000000e-04],\n",
       "       [  7.04000000e-04,   7.37000000e-04,   6.77000000e-04, ...,\n",
       "          1.63000000e-04,   3.04000000e-04,   2.38000000e-04]])"
      ]
     },
     "execution_count": 37,
     "metadata": {},
     "output_type": "execute_result"
    }
   ],
   "source": [
    "raw._data[picks]"
   ]
  },
  {
   "cell_type": "code",
   "execution_count": 38,
   "metadata": {
    "collapsed": false
   },
   "outputs": [
    {
     "data": {
      "text/plain": [
       "array([  0.00000000e+00,   2.00000000e-03,   4.00000000e-03, ...,\n",
       "         2.84477800e+03,   2.84478000e+03,   2.84478200e+03])"
      ]
     },
     "execution_count": 38,
     "metadata": {},
     "output_type": "execute_result"
    }
   ],
   "source": [
    "raw._times"
   ]
  },
  {
   "cell_type": "code",
   "execution_count": 39,
   "metadata": {
    "collapsed": false
   },
   "outputs": [],
   "source": [
    "# design a butterworth bandpass filter \n",
    "freqs = [7, 30]\n",
    "b,a = butter(5,np.array(freqs)/250.0,btype='bandpass')"
   ]
  },
  {
   "cell_type": "code",
   "execution_count": 50,
   "metadata": {
    "collapsed": false
   },
   "outputs": [],
   "source": [
    "Fp1 = raw._data[picks][0, :]"
   ]
  },
  {
   "cell_type": "code",
   "execution_count": 51,
   "metadata": {
    "collapsed": false
   },
   "outputs": [
    {
     "data": {
      "text/plain": [
       "array([ -3.10000000e-05,  -2.90000000e-05,  -1.72000000e-04, ...,\n",
       "         1.40000000e-04,   1.45000000e-04,   1.44000000e-04])"
      ]
     },
     "execution_count": 51,
     "metadata": {},
     "output_type": "execute_result"
    }
   ],
   "source": [
    "Fp1"
   ]
  },
  {
   "cell_type": "code",
   "execution_count": 52,
   "metadata": {
    "collapsed": false
   },
   "outputs": [
    {
     "data": {
      "text/plain": [
       "<Montage | standard_1005 - 32 Channels: Fp1, Fp2, F7 ...>"
      ]
     },
     "execution_count": 52,
     "metadata": {},
     "output_type": "execute_result"
    }
   ],
   "source": [
    "montage"
   ]
  },
  {
   "cell_type": "code",
   "execution_count": 53,
   "metadata": {
    "collapsed": false
   },
   "outputs": [],
   "source": [
    "Fp1_info = create_info(['Fp1'], sfreq=500.0, ch_types=['eeg'], montage=montage)"
   ]
  },
  {
   "cell_type": "code",
   "execution_count": 54,
   "metadata": {
    "collapsed": false
   },
   "outputs": [
    {
     "data": {
      "text/plain": [
       "<Info | 13 non-empty fields\n",
       "    bads : list | 0 items\n",
       "    ch_names : list | Fp1\n",
       "    chs : list | 1 items (EEG: 1)\n",
       "    comps : list | 0 items\n",
       "    custom_ref_applied : bool | False\n",
       "    dev_head_t : dict | 3 items\n",
       "    events : list | 0 items\n",
       "    hpi_meas : list | 0 items\n",
       "    hpi_results : list | 0 items\n",
       "    meas_date : numpy.ndarray | 1969-12-31 16:00:00\n",
       "    nchan : int | 1\n",
       "    projs : list | 0 items\n",
       "    sfreq : float | 500.0\n",
       "    acq_pars : NoneType\n",
       "    acq_stim : NoneType\n",
       "    ctf_head_t : NoneType\n",
       "    description : NoneType\n",
       "    dev_ctf_t : NoneType\n",
       "    dig : NoneType\n",
       "    experimenter : NoneType\n",
       "    file_id : NoneType\n",
       "    filename : NoneType\n",
       "    highpass : NoneType\n",
       "    hpi_subsystem : NoneType\n",
       "    line_freq : NoneType\n",
       "    lowpass : NoneType\n",
       "    meas_id : NoneType\n",
       "    proj_id : NoneType\n",
       "    proj_name : NoneType\n",
       "    subject_info : NoneType\n",
       ">"
      ]
     },
     "execution_count": 54,
     "metadata": {},
     "output_type": "execute_result"
    }
   ],
   "source": [
    "Fp1_info"
   ]
  },
  {
   "cell_type": "code",
   "execution_count": 56,
   "metadata": {
    "collapsed": false
   },
   "outputs": [
    {
     "data": {
      "text/plain": [
       "(1422392,)"
      ]
     },
     "execution_count": 56,
     "metadata": {},
     "output_type": "execute_result"
    }
   ],
   "source": [
    "Fp1.shape"
   ]
  },
  {
   "cell_type": "code",
   "execution_count": 63,
   "metadata": {
    "collapsed": false
   },
   "outputs": [],
   "source": [
    "Fp1 = np.matrix(Fp1)"
   ]
  },
  {
   "cell_type": "code",
   "execution_count": 64,
   "metadata": {
    "collapsed": false
   },
   "outputs": [
    {
     "data": {
      "text/plain": [
       "(1, 1422392)"
      ]
     },
     "execution_count": 64,
     "metadata": {},
     "output_type": "execute_result"
    }
   ],
   "source": [
    "Fp1.shape"
   ]
  },
  {
   "cell_type": "code",
   "execution_count": 67,
   "metadata": {
    "collapsed": false
   },
   "outputs": [],
   "source": [
    "Fp1 = np.array(Fp1)"
   ]
  },
  {
   "cell_type": "code",
   "execution_count": 68,
   "metadata": {
    "collapsed": false
   },
   "outputs": [
    {
     "name": "stdout",
     "output_type": "stream",
     "text": [
      "Creating RawArray with float64 data, n_channels=1, n_times=1422392\n",
      "    Range : 0 ... 1422391 =      0.000 ...  2844.782 secs\n",
      "Ready.\n"
     ]
    }
   ],
   "source": [
    "Fp1_raw = RawArray(Fp1, Fp1_info)"
   ]
  },
  {
   "cell_type": "code",
   "execution_count": 69,
   "metadata": {
    "collapsed": false
   },
   "outputs": [
    {
     "data": {
      "text/plain": [
       "<Raw  |  n_channels x n_times : 1 x 1422392>"
      ]
     },
     "execution_count": 69,
     "metadata": {},
     "output_type": "execute_result"
    }
   ],
   "source": [
    "Fp1_raw\n",
    "#np.array(Fp1_raw._data)"
   ]
  },
  {
   "cell_type": "code",
   "execution_count": 70,
   "metadata": {
    "collapsed": false
   },
   "outputs": [
    {
     "data": {
      "image/png": "[encoded data removed]",
      "text/plain": [
       "<matplotlib.figure.Figure at 0x119f05b10>"
      ]
     },
     "metadata": {},
     "output_type": "display_data"
    },
    {
     "data": {
      "image/png": "[encoded data removed]",
      "text/plain": [
       "<matplotlib.figure.Figure at 0x119f05b10>"
      ]
     },
     "execution_count": 70,
     "metadata": {},
     "output_type": "execute_result"
    }
   ],
   "source": [
    "Fp1_raw.plot()"
   ]
  },
  {
   "cell_type": "code",
   "execution_count": 71,
   "metadata": {
    "collapsed": true
   },
   "outputs": [],
   "source": [
    "import matplotlib.pyplot as plt"
   ]
  },
  {
   "cell_type": "code",
   "execution_count": 72,
   "metadata": {
    "collapsed": false
   },
   "outputs": [
    {
     "data": {
      "text/plain": [
       "[<matplotlib.lines.Line2D at 0x1173ae4d0>]"
      ]
     },
     "execution_count": 72,
     "metadata": {},
     "output_type": "execute_result"
    },
    {
     "data": {
      "image/png": "[encoded data removed]",
      "text/plain": [
       "<matplotlib.figure.Figure at 0x110a77e10>"
      ]
     },
     "metadata": {},
     "output_type": "display_data"
    }
   ],
   "source": [
    "# (Roughly) First scaled series\n",
    "plt.plot(Fp1_raw._data[0, 0:120000])"
   ]
  },
  {
   "cell_type": "code",
   "execution_count": 73,
   "metadata": {
    "collapsed": false
   },
   "outputs": [],
   "source": [
    "Fp1_butterworth = lfilter(b, a, Fp1_raw._data)"
   ]
  },
  {
   "cell_type": "code",
   "execution_count": 74,
   "metadata": {
    "collapsed": false
   },
   "outputs": [
    {
     "data": {
      "text/plain": [
       "array([[ -3.10000000e-05,  -2.90000000e-05,  -1.72000000e-04, ...,\n",
       "          1.40000000e-04,   1.45000000e-04,   1.44000000e-04]])"
      ]
     },
     "execution_count": 74,
     "metadata": {},
     "output_type": "execute_result"
    }
   ],
   "source": [
    "Fp1"
   ]
  },
  {
   "cell_type": "code",
   "execution_count": 75,
   "metadata": {
    "collapsed": false
   },
   "outputs": [
    {
     "data": {
      "text/plain": [
       "array([[ -1.26505967e-09,  -1.24610240e-08,  -6.63332179e-08, ...,\n",
       "         -9.22087257e-05,  -8.25357969e-05,  -6.16638491e-05]])"
      ]
     },
     "execution_count": 75,
     "metadata": {},
     "output_type": "execute_result"
    }
   ],
   "source": [
    "Fp1_butterworth"
   ]
  },
  {
   "cell_type": "code",
   "execution_count": 76,
   "metadata": {
    "collapsed": false
   },
   "outputs": [
    {
     "data": {
      "text/plain": [
       "[<matplotlib.lines.Line2D at 0x10f939390>]"
      ]
     },
     "execution_count": 76,
     "metadata": {},
     "output_type": "execute_result"
    },
    {
     "data": {
      "image/png": "[encoded data removed]",
      "text/plain": [
       "<matplotlib.figure.Figure at 0x119ef38d0>"
      ]
     },
     "metadata": {},
     "output_type": "display_data"
    }
   ],
   "source": [
    "plt.plot(Fp1[0, 0:10000])"
   ]
  },
  {
   "cell_type": "code",
   "execution_count": 77,
   "metadata": {
    "collapsed": false
   },
   "outputs": [
    {
     "data": {
      "text/plain": [
       "[<matplotlib.lines.Line2D at 0x10f905a10>]"
      ]
     },
     "execution_count": 77,
     "metadata": {},
     "output_type": "execute_result"
    },
    {
     "data": {
      "image/png": "[encoded data removed]",
      "text/plain": [
       "<matplotlib.figure.Figure at 0x119f06090>"
      ]
     },
     "metadata": {},
     "output_type": "display_data"
    }
   ],
   "source": [
    "plt.plot(Fp1_butterworth[0, 0:10000])"
   ]
  },
  {
   "cell_type": "code",
   "execution_count": 78,
   "metadata": {
    "collapsed": true
   },
   "outputs": [],
   "source": [
    "raw._data[picks] = lfilter(b,a,raw._data[picks])"
   ]
  },
  {
   "cell_type": "code",
   "execution_count": 79,
   "metadata": {
    "collapsed": false
   },
   "outputs": [],
   "source": [
    "# get event posision corresponding to Replace\n",
    "events = find_events(raw,stim_channel='Replace', verbose=False)"
   ]
  },
  {
   "cell_type": "code",
   "execution_count": 80,
   "metadata": {
    "collapsed": false
   },
   "outputs": [],
   "source": [
    "epochs_tot = []\n",
    "y = []"
   ]
  },
  {
   "cell_type": "code",
   "execution_count": 81,
   "metadata": {
    "collapsed": false
   },
   "outputs": [],
   "source": [
    "# epochs signal for 1.5 second before the movement\n",
    "epochs = Epochs(raw, events, {'during' : 1}, -2, -0.5, proj=False, picks=picks, baseline=None, preload=True, add_eeg_ref=False, verbose=False)"
   ]
  },
  {
   "cell_type": "code",
   "execution_count": 82,
   "metadata": {
    "collapsed": false
   },
   "outputs": [],
   "source": [
    "replaces = epochs['during'].get_data()"
   ]
  },
  {
   "cell_type": "code",
   "execution_count": 83,
   "metadata": {
    "collapsed": false
   },
   "outputs": [
    {
     "data": {
      "text/plain": [
       "array([[  3.29789974e-05,   3.53779255e-05,   3.82070942e-05, ...,\n",
       "         -2.35630657e-05,   2.71848751e-05,   7.52116326e-05],\n",
       "       [  1.14714298e-04,   1.39889137e-04,   1.55200180e-04, ...,\n",
       "         -7.01646707e-05,  -5.09550736e-05,  -2.16934223e-05],\n",
       "       [  1.13518829e-05,   2.52075479e-05,   3.74375932e-05, ...,\n",
       "          3.92707578e-05,   4.14762101e-05,   4.37154535e-05],\n",
       "       ..., \n",
       "       [  1.39766204e-05,   1.99365993e-05,   2.54147000e-05, ...,\n",
       "          2.55925285e-05,   4.96753754e-06,  -1.17606596e-05],\n",
       "       [  6.49840546e-06,   1.16984147e-05,   1.60815926e-05, ...,\n",
       "          2.54726225e-05,   5.41291599e-06,  -1.13886045e-05],\n",
       "       [  1.20623427e-05,   1.16607016e-05,   1.07886151e-05, ...,\n",
       "          3.43245938e-05,   8.01807353e-06,  -1.53814210e-05]])"
      ]
     },
     "execution_count": 83,
     "metadata": {},
     "output_type": "execute_result"
    }
   ],
   "source": [
    "replaces[0]"
   ]
  },
  {
   "cell_type": "code",
   "execution_count": 84,
   "metadata": {
    "collapsed": true
   },
   "outputs": [],
   "source": [
    "epochs_tot.append(epochs)"
   ]
  },
  {
   "cell_type": "code",
   "execution_count": 85,
   "metadata": {
    "collapsed": false
   },
   "outputs": [
    {
     "data": {
      "text/plain": [
       "[<Epochs  |  n_events : 260 (all good), tmin : -2 (s), tmax : -0.5 (s), baseline : None>]"
      ]
     },
     "execution_count": 85,
     "metadata": {},
     "output_type": "execute_result"
    }
   ],
   "source": [
    "# put epochs in list\n",
    "epochs_tot"
   ]
  },
  {
   "cell_type": "code",
   "execution_count": 86,
   "metadata": {
    "collapsed": false
   },
   "outputs": [],
   "source": [
    "y.extend([1]*len(epochs))"
   ]
  },
  {
   "cell_type": "code",
   "execution_count": 87,
   "metadata": {
    "collapsed": false
   },
   "outputs": [],
   "source": [
    "# epochs signal for 1.5 second after the movement, this correspond to the \n",
    "# rest period.\n",
    "epochs_rest = Epochs(raw, events, {'after' : 1}, 0.5, 2, proj=False, picks=picks, baseline=None, preload=True, add_eeg_ref=False, verbose=False)"
   ]
  },
  {
   "cell_type": "code",
   "execution_count": 88,
   "metadata": {
    "collapsed": true
   },
   "outputs": [],
   "source": [
    "rests = epochs_rest.get_data()"
   ]
  },
  {
   "cell_type": "code",
   "execution_count": 89,
   "metadata": {
    "collapsed": false
   },
   "outputs": [
    {
     "data": {
      "text/plain": [
       "(259, 32, 751)"
      ]
     },
     "execution_count": 89,
     "metadata": {},
     "output_type": "execute_result"
    }
   ],
   "source": [
    "rests.shape"
   ]
  },
  {
   "cell_type": "code",
   "execution_count": 90,
   "metadata": {
    "collapsed": false
   },
   "outputs": [
    {
     "data": {
      "text/plain": [
       "array([[  9.70429426e-06,  -1.56120812e-05,  -4.44617548e-05, ...,\n",
       "          4.82181606e-05,   5.82282274e-05,   6.06845722e-05],\n",
       "       [  7.65125326e-05,   2.40457635e-05,  -3.44390797e-05, ...,\n",
       "         -2.03622110e-05,   1.40754345e-05,   4.59410253e-05],\n",
       "       [ -4.54275770e-05,  -6.88849699e-05,  -9.18092390e-05, ...,\n",
       "         -4.79045560e-05,  -4.98959643e-05,  -4.81605171e-05],\n",
       "       ..., \n",
       "       [  2.01798132e-05,   1.92230062e-05,   1.88584926e-05, ...,\n",
       "         -6.49696692e-05,  -7.18478454e-05,  -7.82293491e-05],\n",
       "       [  3.07552633e-05,   2.77301666e-05,   2.46201412e-05, ...,\n",
       "         -5.18921428e-05,  -5.92161752e-05,  -6.61740285e-05],\n",
       "       [  5.22452772e-05,   3.64871349e-05,   1.91404693e-05, ...,\n",
       "         -2.46714849e-05,  -3.27829953e-05,  -4.03699667e-05]])"
      ]
     },
     "execution_count": 90,
     "metadata": {},
     "output_type": "execute_result"
    }
   ],
   "source": [
    "rests[0]"
   ]
  },
  {
   "cell_type": "code",
   "execution_count": 91,
   "metadata": {
    "collapsed": false
   },
   "outputs": [],
   "source": [
    "# Workaround to be able to concatenate epochs with MNE\n",
    "epochs_rest.times = epochs.times"
   ]
  },
  {
   "cell_type": "code",
   "execution_count": 92,
   "metadata": {
    "collapsed": false
   },
   "outputs": [],
   "source": [
    "y.extend([-1]*len(epochs_rest))"
   ]
  },
  {
   "cell_type": "code",
   "execution_count": 93,
   "metadata": {
    "collapsed": false
   },
   "outputs": [],
   "source": [
    "epochs_tot.append(epochs_rest)"
   ]
  },
  {
   "cell_type": "code",
   "execution_count": 94,
   "metadata": {
    "collapsed": false
   },
   "outputs": [],
   "source": [
    "# Concatenate all epochs\n",
    "epochs = concatenate_epochs(epochs_tot)"
   ]
  },
  {
   "cell_type": "code",
   "execution_count": 95,
   "metadata": {
    "collapsed": false
   },
   "outputs": [
    {
     "data": {
      "text/plain": [
       "<Epochs  |  n_events : 1 (all good), tmin : -2.0 (s), tmax : -0.5 (s), baseline : None,\n",
       " 'after': 1, 'during': 1>"
      ]
     },
     "execution_count": 95,
     "metadata": {},
     "output_type": "execute_result"
    }
   ],
   "source": [
    "epochs[400]"
   ]
  },
  {
   "cell_type": "code",
   "execution_count": 96,
   "metadata": {
    "collapsed": false
   },
   "outputs": [],
   "source": [
    "# get data \n",
    "X = epochs.get_data()\n",
    "y = np.array(y)"
   ]
  },
  {
   "cell_type": "code",
   "execution_count": 97,
   "metadata": {
    "collapsed": false
   },
   "outputs": [
    {
     "data": {
      "text/plain": [
       "(519, 32, 751)"
      ]
     },
     "execution_count": 97,
     "metadata": {},
     "output_type": "execute_result"
    }
   ],
   "source": [
    "X.shape"
   ]
  },
  {
   "cell_type": "code",
   "execution_count": 98,
   "metadata": {
    "collapsed": false
   },
   "outputs": [
    {
     "name": "stdout",
     "output_type": "stream",
     "text": [
      "[[  2.92630196e-05   2.80513011e-05   2.35843446e-05 ...,   3.62440342e-05\n",
      "    4.22582614e-05   4.82953875e-05]\n",
      " [ -1.67845465e-05  -1.76621130e-05  -1.62228310e-05 ...,  -2.54675149e-05\n",
      "   -2.24079113e-05  -1.62495741e-05]\n",
      " [  1.27703696e-05   2.82485945e-06  -7.57463705e-06 ...,  -3.26957907e-06\n",
      "   -1.46607988e-05  -2.48010719e-05]\n",
      " ..., \n",
      " [ -2.28811603e-05  -1.89541984e-05  -8.30815448e-06 ...,  -7.10357324e-05\n",
      "   -7.55775472e-05  -7.37290949e-05]\n",
      " [  2.53277036e-05   2.39778790e-05   2.51553809e-05 ...,  -6.20161396e-05\n",
      "   -6.60894720e-05  -6.39617924e-05]\n",
      " [  5.83009172e-05   5.90149903e-05   5.78606885e-05 ...,  -1.17363058e-04\n",
      "   -1.15856880e-04  -1.06012314e-04]]\n",
      "1\n"
     ]
    }
   ],
   "source": [
    "print X[259]\n",
    "print y[259]"
   ]
  },
  {
   "cell_type": "code",
   "execution_count": 99,
   "metadata": {
    "collapsed": false
   },
   "outputs": [
    {
     "name": "stdout",
     "output_type": "stream",
     "text": [
      "[[  9.70429426e-06  -1.56120812e-05  -4.44617548e-05 ...,   4.82181606e-05\n",
      "    5.82282274e-05   6.06845722e-05]\n",
      " [  7.65125326e-05   2.40457635e-05  -3.44390797e-05 ...,  -2.03622110e-05\n",
      "    1.40754345e-05   4.59410253e-05]\n",
      " [ -4.54275770e-05  -6.88849699e-05  -9.18092390e-05 ...,  -4.79045560e-05\n",
      "   -4.98959643e-05  -4.81605171e-05]\n",
      " ..., \n",
      " [  2.01798132e-05   1.92230062e-05   1.88584926e-05 ...,  -6.49696692e-05\n",
      "   -7.18478454e-05  -7.82293491e-05]\n",
      " [  3.07552633e-05   2.77301666e-05   2.46201412e-05 ...,  -5.18921428e-05\n",
      "   -5.92161752e-05  -6.61740285e-05]\n",
      " [  5.22452772e-05   3.64871349e-05   1.91404693e-05 ...,  -2.46714849e-05\n",
      "   -3.27829953e-05  -4.03699667e-05]]\n",
      "-1\n"
     ]
    }
   ],
   "source": [
    "print X[260]\n",
    "print y[260]"
   ]
  },
  {
   "cell_type": "code",
   "execution_count": 100,
   "metadata": {
    "collapsed": true
   },
   "outputs": [],
   "source": [
    "# CSP parameters\n",
    "# Number of spatial filter to use\n",
    "nfilters = 4"
   ]
  },
  {
   "cell_type": "code",
   "execution_count": 101,
   "metadata": {
    "collapsed": false
   },
   "outputs": [
    {
     "data": {
      "text/plain": [
       "<mne.decoding.csp.CSP at 0x10fe297d0>"
      ]
     },
     "execution_count": 101,
     "metadata": {},
     "output_type": "execute_result"
    }
   ],
   "source": [
    "# Train CSP. Use Ledoit-Wolf Shrinkage for regularization\n",
    "csp = CSP(n_components=nfilters, reg='lws')\n",
    "csp.fit(X,y)"
   ]
  },
  {
   "cell_type": "code",
   "execution_count": 120,
   "metadata": {
    "collapsed": false
   },
   "outputs": [
    {
     "data": {
      "text/plain": [
       "array([  1.42841584e-01,  -1.24476011e-02,  -1.15181086e+00,\n",
       "        -4.81122274e-01,   2.17852531e+00,  -1.78174471e-01,\n",
       "        -1.85794243e-01,  -2.47393150e+00,  -1.06285101e+01,\n",
       "         4.05632791e-01,  -1.95090674e-01,   1.36002630e+00,\n",
       "         2.93879680e+01,  -8.57205448e+00,   1.14897067e+00,\n",
       "        -3.49279721e-02,  -1.19594992e+00,  -5.65571685e+00,\n",
       "        -9.30714813e-01,  -9.08427002e-01,   2.96800092e-01,\n",
       "        -1.14316385e-01,   8.49736442e-02,  -2.57584082e+00,\n",
       "        -2.34278313e+00,   1.88698035e+00,  -1.01862718e+00,\n",
       "        -6.48087281e-02,   6.28525769e-01,  -3.28485770e-01,\n",
       "         2.76338945e-01,   2.10768383e-01])"
      ]
     },
     "execution_count": 120,
     "metadata": {},
     "output_type": "execute_result"
    }
   ],
   "source": [
    "csp.filters_[0, :].T"
   ]
  },
  {
   "cell_type": "code",
   "execution_count": 125,
   "metadata": {
    "collapsed": false
   },
   "outputs": [],
   "source": [
    "from scipy.signal import welch"
   ]
  },
  {
   "cell_type": "code",
   "execution_count": 130,
   "metadata": {
    "collapsed": false
   },
   "outputs": [
    {
     "data": {
      "text/plain": [
       "(519, 32, 751)"
      ]
     },
     "execution_count": 130,
     "metadata": {},
     "output_type": "execute_result"
    }
   ],
   "source": [
    "X.shape"
   ]
  },
  {
   "cell_type": "code",
   "execution_count": 127,
   "metadata": {
    "collapsed": true
   },
   "outputs": [],
   "source": [
    "po = []\n",
    "for x in X:\n",
    "    f,p = welch(np.dot(csp.filters_[0,:].T,x), 500, nperseg=512)\n",
    "    po.append(p)\n",
    "po = np.array(po)    "
   ]
  },
  {
   "cell_type": "code",
   "execution_count": 137,
   "metadata": {
    "collapsed": false
   },
   "outputs": [],
   "source": [
    "# prepare topoplot\n",
    "_,epos,_,_,_ = _prepare_topo_plot(epochs,'eeg',None)"
   ]
  },
  {
   "cell_type": "code",
   "execution_count": 138,
   "metadata": {
    "collapsed": true
   },
   "outputs": [],
   "source": [
    "_prepare_topo_plot?"
   ]
  },
  {
   "cell_type": "code",
   "execution_count": 140,
   "metadata": {
    "collapsed": false
   },
   "outputs": [],
   "source": [
    "# plot first pattern\n",
    "pattern = csp.patterns_[0,:]\n",
    "pattern -= pattern.mean()\n",
    "ix = np.argmax(abs(pattern))\n",
    "# the parttern is sign invariant.\n",
    "# invert it for display purpose\n",
    "if pattern[ix]>0:\n",
    "    sign = 1.0\n",
    "else:\n",
    "    sign = -1.0"
   ]
  },
  {
   "cell_type": "code",
   "execution_count": 142,
   "metadata": {
    "collapsed": true
   },
   "outputs": [],
   "source": [
    "from mpl_toolkits.axes_grid1 import make_axes_locatable"
   ]
  },
  {
   "cell_type": "code",
   "execution_count": 143,
   "metadata": {
    "collapsed": false
   },
   "outputs": [
    {
     "data": {
      "text/plain": [
       "<matplotlib.colorbar.Colorbar instance at 0x109c21440>"
      ]
     },
     "execution_count": 143,
     "metadata": {},
     "output_type": "execute_result"
    },
    {
     "data": {
      "image/png": "[encoded data removed]",
      "text/plain": [
       "<matplotlib.figure.Figure at 0x10fb29890>"
      ]
     },
     "metadata": {},
     "output_type": "display_data"
    }
   ],
   "source": [
    "fig, ax_topo = plt.subplots(1, 1, figsize=(12, 4))\n",
    "title = 'Spatial Pattern'\n",
    "fig.suptitle(title, fontsize=14)\n",
    "img, _ = plot_topomap(sign*pattern,epos,axis=ax_topo,show=False)\n",
    "divider = make_axes_locatable(ax_topo)\n",
    "# add axes for colorbar\n",
    "ax_colorbar = divider.append_axes('right', size='5%', pad=0.05)\n",
    "plt.colorbar(img, cax=ax_colorbar)"
   ]
  },
  {
   "cell_type": "code",
   "execution_count": 145,
   "metadata": {
    "collapsed": false
   },
   "outputs": [
    {
     "data": {
      "image/png": "[encoded data removed]",
      "text/plain": [
       "<matplotlib.figure.Figure at 0x1106ff450>"
      ]
     },
     "metadata": {},
     "output_type": "display_data"
    }
   ],
   "source": [
    "# plot spectrum\n",
    "fix = (f>7) & (f<35)\n",
    "ax_spectrum = divider.append_axes('right', size='300%', pad=1.2)\n",
    "ax_spectrum.plot(f[fix],np.log(po[y==1][:,fix].mean(axis=0).T),'-r',lw=2)\n",
    "ax_spectrum.plot(f[fix],np.log(po[y==-1][:,fix].mean(axis=0).T),'-b',lw=2)\n",
    "ax_spectrum.set_xlabel('Frequency (Hz)')\n",
    "ax_spectrum.set_ylabel('Power (dB)')\n",
    "plt.grid()\n",
    "plt.legend(['during','after'])\n",
    "plt.title('Subject %d' % subject)\n",
    "plt.show()"
   ]
  },
  {
   "cell_type": "code",
   "execution_count": 146,
   "metadata": {
    "collapsed": false
   },
   "outputs": [
    {
     "data": {
      "text/plain": [
       "array([  7.8125   ,   8.7890625,   9.765625 ,  10.7421875,  11.71875  ,\n",
       "        12.6953125,  13.671875 ,  14.6484375,  15.625    ,  16.6015625,\n",
       "        17.578125 ,  18.5546875,  19.53125  ,  20.5078125,  21.484375 ,\n",
       "        22.4609375,  23.4375   ,  24.4140625,  25.390625 ,  26.3671875,\n",
       "        27.34375  ,  28.3203125,  29.296875 ,  30.2734375,  31.25     ,\n",
       "        32.2265625,  33.203125 ,  34.1796875])"
      ]
     },
     "execution_count": 146,
     "metadata": {},
     "output_type": "execute_result"
    }
   ],
   "source": [
    "f[fix]"
   ]
  },
  {
   "cell_type": "code",
   "execution_count": 147,
   "metadata": {
    "collapsed": false
   },
   "outputs": [
    {
     "data": {
      "text/plain": [
       "array([-19.34422328, -19.40080235, -19.4824106 , -19.66696077,\n",
       "       -19.7637253 , -19.83058866, -19.94068202, -19.92106442,\n",
       "       -20.0754226 , -20.02276747, -19.95148003, -19.91842961,\n",
       "       -19.809203  , -19.82470918, -20.09594484, -20.1539438 ,\n",
       "       -20.09419331, -20.07571759, -20.24471124, -20.30963315,\n",
       "       -20.21035566, -20.36936151, -20.59445868, -20.9025393 ,\n",
       "       -21.25086302, -21.67973261, -22.06481963, -22.51374219])"
      ]
     },
     "execution_count": 147,
     "metadata": {},
     "output_type": "execute_result"
    }
   ],
   "source": [
    "np.log(po[y==1][:,fix].mean(axis=0).T)"
   ]
  },
  {
   "cell_type": "code",
   "execution_count": 149,
   "metadata": {
    "collapsed": true
   },
   "outputs": [],
   "source": [
    "make_pipeline?"
   ]
  },
  {
   "cell_type": "code",
   "execution_count": null,
   "metadata": {
    "collapsed": false
   },
   "outputs": [],
   "source": []
  },
  {
   "cell_type": "code",
   "execution_count": null,
   "metadata": {
    "collapsed": true
   },
   "outputs": [],
   "source": []
  }
 ],
 "metadata": {
  "kernelspec": {
   "display_name": "Python 2",
   "language": "python",
   "name": "python2"
  },
  "language_info": {
   "codemirror_mode": {
    "name": "ipython",
    "version": 2
   },
   "file_extension": ".py",
   "mimetype": "text/x-python",
   "name": "python",
   "nbconvert_exporter": "python",
   "pygments_lexer": "ipython2",
   "version": "2.7.6"
  }
 },
 "nbformat": 4,
 "nbformat_minor": 0
}
