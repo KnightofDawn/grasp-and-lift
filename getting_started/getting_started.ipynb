{
 "cells": [
  {
   "cell_type": "code",
   "execution_count": 45,
   "metadata": {
    "collapsed": false
   },
   "outputs": [],
   "source": [
    "%matplotlib inline"
   ]
  },
  {
   "cell_type": "code",
   "execution_count": 1,
   "metadata": {
    "collapsed": true
   },
   "outputs": [],
   "source": [
    "import mne"
   ]
  },
  {
   "cell_type": "code",
   "execution_count": 4,
   "metadata": {
    "collapsed": true
   },
   "outputs": [],
   "source": [
    "mne.set_log_level('INFO')"
   ]
  },
  {
   "cell_type": "code",
   "execution_count": 5,
   "metadata": {
    "collapsed": true
   },
   "outputs": [],
   "source": [
    "from mne.datasets import sample"
   ]
  },
  {
   "cell_type": "code",
   "execution_count": 6,
   "metadata": {
    "collapsed": false
   },
   "outputs": [],
   "source": [
    "data_path = sample.data_path()"
   ]
  },
  {
   "cell_type": "code",
   "execution_count": 8,
   "metadata": {
    "collapsed": false
   },
   "outputs": [
    {
     "name": "stdout",
     "output_type": "stream",
     "text": [
      "/Users/jrubin/Developer/grasp-and-lift/venv/lib/python2.7/site-packages/examples/MNE-sample-data/MEG/sample/sample_audvis_filt-0-40_raw.fif\n"
     ]
    }
   ],
   "source": [
    "raw_fname = data_path + '/MEG/sample/sample_audvis_filt-0-40_raw.fif'\n",
    "print raw_fname"
   ]
  },
  {
   "cell_type": "code",
   "execution_count": 9,
   "metadata": {
    "collapsed": false
   },
   "outputs": [
    {
     "name": "stdout",
     "output_type": "stream",
     "text": [
      "Opening raw data file /Users/jrubin/Developer/grasp-and-lift/venv/lib/python2.7/site-packages/examples/MNE-sample-data/MEG/sample/sample_audvis_filt-0-40_raw.fif...\n",
      "    Read a total of 4 projection items:\n",
      "        PCA-v1 (1 x 102)  idle\n",
      "        PCA-v2 (1 x 102)  idle\n",
      "        PCA-v3 (1 x 102)  idle\n",
      "        Average EEG reference (1 x 60)  idle\n",
      "Current compensation grade : 0\n",
      "    Range : 6450 ... 48149 =     42.956 ...   320.665 secs\n",
      "Ready.\n"
     ]
    }
   ],
   "source": [
    "raw = mne.io.Raw(raw_fname)"
   ]
  },
  {
   "cell_type": "code",
   "execution_count": 10,
   "metadata": {
    "collapsed": false
   },
   "outputs": [
    {
     "data": {
      "text/plain": [
       "<Raw  |  n_channels x n_times : 376 x 41700>"
      ]
     },
     "execution_count": 10,
     "metadata": {},
     "output_type": "execute_result"
    }
   ],
   "source": [
    "raw"
   ]
  },
  {
   "cell_type": "code",
   "execution_count": 11,
   "metadata": {
    "collapsed": false
   },
   "outputs": [
    {
     "data": {
      "text/plain": [
       "<Info | 20 non-empty fields\n",
       "    bads : list | MEG 2443, EEG 053\n",
       "    buffer_size_sec : numpy.float64 | 13.3196808772\n",
       "    ch_names : list | MEG 0113, MEG 0112, MEG 0111, MEG 0122, MEG 0123, ...\n",
       "    chs : list | 376 items (EOG: 1, EEG: 60, STIM: 9, GRAD: 204, MAG: 102)\n",
       "    comps : list | 0 items\n",
       "    custom_ref_applied : bool | False\n",
       "    dev_head_t : dict | 3 items\n",
       "    dig : list | 146 items\n",
       "    events : list | 0 items\n",
       "    file_id : dict | 4 items\n",
       "    filename : unicode | /Users/jru.../sample_audvis_filt-0-40_raw.fif\n",
       "    highpass : float | 0.10000000149\n",
       "    hpi_meas : list | 1 items\n",
       "    hpi_results : list | 1 items\n",
       "    lowpass : float | 40.0\n",
       "    meas_date : numpy.ndarray | 2002-12-03 11:01:10\n",
       "    meas_id : dict | 4 items\n",
       "    nchan : int | 376\n",
       "    projs : list | PCA-v1: off, PCA-v2: off, PCA-v3: off, ...\n",
       "    sfreq : float | 150.153747559\n",
       "    acq_pars : NoneType\n",
       "    acq_stim : NoneType\n",
       "    ctf_head_t : NoneType\n",
       "    description : NoneType\n",
       "    dev_ctf_t : NoneType\n",
       "    experimenter : NoneType\n",
       "    hpi_subsystem : NoneType\n",
       "    line_freq : NoneType\n",
       "    proj_id : NoneType\n",
       "    proj_name : NoneType\n",
       "    subject_info : NoneType\n",
       ">"
      ]
     },
     "execution_count": 11,
     "metadata": {},
     "output_type": "execute_result"
    }
   ],
   "source": [
    "raw.info"
   ]
  },
  {
   "cell_type": "code",
   "execution_count": 14,
   "metadata": {
    "collapsed": false
   },
   "outputs": [
    {
     "data": {
      "text/plain": [
       "['MEG 0113',\n",
       " 'MEG 0112',\n",
       " 'MEG 0111',\n",
       " 'MEG 0122',\n",
       " 'MEG 0123',\n",
       " 'MEG 0121',\n",
       " 'MEG 0132',\n",
       " 'MEG 0133',\n",
       " 'MEG 0131',\n",
       " 'MEG 0143',\n",
       " 'MEG 0142',\n",
       " 'MEG 0141',\n",
       " 'MEG 0213',\n",
       " 'MEG 0212',\n",
       " 'MEG 0211',\n",
       " 'MEG 0222',\n",
       " 'MEG 0223',\n",
       " 'MEG 0221',\n",
       " 'MEG 0232',\n",
       " 'MEG 0233',\n",
       " 'MEG 0231',\n",
       " 'MEG 0243',\n",
       " 'MEG 0242',\n",
       " 'MEG 0241',\n",
       " 'MEG 0313',\n",
       " 'MEG 0312',\n",
       " 'MEG 0311',\n",
       " 'MEG 0322',\n",
       " 'MEG 0323',\n",
       " 'MEG 0321',\n",
       " 'MEG 0333',\n",
       " 'MEG 0332',\n",
       " 'MEG 0331',\n",
       " 'MEG 0343',\n",
       " 'MEG 0342',\n",
       " 'MEG 0341',\n",
       " 'MEG 0413',\n",
       " 'MEG 0412',\n",
       " 'MEG 0411',\n",
       " 'MEG 0422',\n",
       " 'MEG 0423',\n",
       " 'MEG 0421',\n",
       " 'MEG 0432',\n",
       " 'MEG 0433',\n",
       " 'MEG 0431',\n",
       " 'MEG 0443',\n",
       " 'MEG 0442',\n",
       " 'MEG 0441',\n",
       " 'MEG 0513',\n",
       " 'MEG 0512',\n",
       " 'MEG 0511',\n",
       " 'MEG 0523',\n",
       " 'MEG 0522',\n",
       " 'MEG 0521',\n",
       " 'MEG 0532',\n",
       " 'MEG 0533',\n",
       " 'MEG 0531',\n",
       " 'MEG 0542',\n",
       " 'MEG 0543',\n",
       " 'MEG 0541',\n",
       " 'MEG 0613',\n",
       " 'MEG 0612',\n",
       " 'MEG 0611',\n",
       " 'MEG 0622',\n",
       " 'MEG 0623',\n",
       " 'MEG 0621',\n",
       " 'MEG 0633',\n",
       " 'MEG 0632',\n",
       " 'MEG 0631',\n",
       " 'MEG 0642',\n",
       " 'MEG 0643',\n",
       " 'MEG 0641',\n",
       " 'MEG 0713',\n",
       " 'MEG 0712',\n",
       " 'MEG 0711',\n",
       " 'MEG 0723',\n",
       " 'MEG 0722',\n",
       " 'MEG 0721',\n",
       " 'MEG 0733',\n",
       " 'MEG 0732',\n",
       " 'MEG 0731',\n",
       " 'MEG 0743',\n",
       " 'MEG 0742',\n",
       " 'MEG 0741',\n",
       " 'MEG 0813',\n",
       " 'MEG 0812',\n",
       " 'MEG 0811',\n",
       " 'MEG 0822',\n",
       " 'MEG 0823',\n",
       " 'MEG 0821',\n",
       " 'MEG 0913',\n",
       " 'MEG 0912',\n",
       " 'MEG 0911',\n",
       " 'MEG 0923',\n",
       " 'MEG 0922',\n",
       " 'MEG 0921',\n",
       " 'MEG 0932',\n",
       " 'MEG 0933',\n",
       " 'MEG 0931',\n",
       " 'MEG 0942',\n",
       " 'MEG 0943',\n",
       " 'MEG 0941',\n",
       " 'MEG 1013',\n",
       " 'MEG 1012',\n",
       " 'MEG 1011',\n",
       " 'MEG 1023',\n",
       " 'MEG 1022',\n",
       " 'MEG 1021',\n",
       " 'MEG 1032',\n",
       " 'MEG 1033',\n",
       " 'MEG 1031',\n",
       " 'MEG 1043',\n",
       " 'MEG 1042',\n",
       " 'MEG 1041',\n",
       " 'MEG 1112',\n",
       " 'MEG 1113',\n",
       " 'MEG 1111',\n",
       " 'MEG 1123',\n",
       " 'MEG 1122',\n",
       " 'MEG 1121',\n",
       " 'MEG 1133',\n",
       " 'MEG 1132',\n",
       " 'MEG 1131',\n",
       " 'MEG 1142',\n",
       " 'MEG 1143',\n",
       " 'MEG 1141',\n",
       " 'MEG 1213',\n",
       " 'MEG 1212',\n",
       " 'MEG 1211',\n",
       " 'MEG 1223',\n",
       " 'MEG 1222',\n",
       " 'MEG 1221',\n",
       " 'MEG 1232',\n",
       " 'MEG 1233',\n",
       " 'MEG 1231',\n",
       " 'MEG 1243',\n",
       " 'MEG 1242',\n",
       " 'MEG 1241',\n",
       " 'MEG 1312',\n",
       " 'MEG 1313',\n",
       " 'MEG 1311',\n",
       " 'MEG 1323',\n",
       " 'MEG 1322',\n",
       " 'MEG 1321',\n",
       " 'MEG 1333',\n",
       " 'MEG 1332',\n",
       " 'MEG 1331',\n",
       " 'MEG 1342',\n",
       " 'MEG 1343',\n",
       " 'MEG 1341',\n",
       " 'MEG 1412',\n",
       " 'MEG 1413',\n",
       " 'MEG 1411',\n",
       " 'MEG 1423',\n",
       " 'MEG 1422',\n",
       " 'MEG 1421',\n",
       " 'MEG 1433',\n",
       " 'MEG 1432',\n",
       " 'MEG 1431',\n",
       " 'MEG 1442',\n",
       " 'MEG 1443',\n",
       " 'MEG 1441',\n",
       " 'MEG 1512',\n",
       " 'MEG 1513',\n",
       " 'MEG 1511',\n",
       " 'MEG 1522',\n",
       " 'MEG 1523',\n",
       " 'MEG 1521',\n",
       " 'MEG 1533',\n",
       " 'MEG 1532',\n",
       " 'MEG 1531',\n",
       " 'MEG 1543',\n",
       " 'MEG 1542',\n",
       " 'MEG 1541',\n",
       " 'MEG 1613',\n",
       " 'MEG 1612',\n",
       " 'MEG 1611',\n",
       " 'MEG 1622',\n",
       " 'MEG 1623',\n",
       " 'MEG 1621',\n",
       " 'MEG 1632',\n",
       " 'MEG 1633',\n",
       " 'MEG 1631',\n",
       " 'MEG 1643',\n",
       " 'MEG 1642',\n",
       " 'MEG 1641',\n",
       " 'MEG 1713',\n",
       " 'MEG 1712',\n",
       " 'MEG 1711',\n",
       " 'MEG 1722',\n",
       " 'MEG 1723',\n",
       " 'MEG 1721',\n",
       " 'MEG 1732',\n",
       " 'MEG 1733',\n",
       " 'MEG 1731',\n",
       " 'MEG 1743',\n",
       " 'MEG 1742',\n",
       " 'MEG 1741',\n",
       " 'MEG 1813',\n",
       " 'MEG 1812',\n",
       " 'MEG 1811',\n",
       " 'MEG 1822',\n",
       " 'MEG 1823',\n",
       " 'MEG 1821',\n",
       " 'MEG 1832',\n",
       " 'MEG 1833',\n",
       " 'MEG 1831',\n",
       " 'MEG 1843',\n",
       " 'MEG 1842',\n",
       " 'MEG 1841',\n",
       " 'MEG 1912',\n",
       " 'MEG 1913',\n",
       " 'MEG 1911',\n",
       " 'MEG 1923',\n",
       " 'MEG 1922',\n",
       " 'MEG 1921',\n",
       " 'MEG 1932',\n",
       " 'MEG 1933',\n",
       " 'MEG 1931',\n",
       " 'MEG 1943',\n",
       " 'MEG 1942',\n",
       " 'MEG 1941',\n",
       " 'MEG 2013',\n",
       " 'MEG 2012',\n",
       " 'MEG 2011',\n",
       " 'MEG 2023',\n",
       " 'MEG 2022',\n",
       " 'MEG 2021',\n",
       " 'MEG 2032',\n",
       " 'MEG 2033',\n",
       " 'MEG 2031',\n",
       " 'MEG 2042',\n",
       " 'MEG 2043',\n",
       " 'MEG 2041',\n",
       " 'MEG 2113',\n",
       " 'MEG 2112',\n",
       " 'MEG 2111',\n",
       " 'MEG 2122',\n",
       " 'MEG 2123',\n",
       " 'MEG 2121',\n",
       " 'MEG 2133',\n",
       " 'MEG 2132',\n",
       " 'MEG 2131',\n",
       " 'MEG 2143',\n",
       " 'MEG 2142',\n",
       " 'MEG 2141',\n",
       " 'MEG 2212',\n",
       " 'MEG 2213',\n",
       " 'MEG 2211',\n",
       " 'MEG 2223',\n",
       " 'MEG 2222',\n",
       " 'MEG 2221',\n",
       " 'MEG 2233',\n",
       " 'MEG 2232',\n",
       " 'MEG 2231',\n",
       " 'MEG 2242',\n",
       " 'MEG 2243',\n",
       " 'MEG 2241',\n",
       " 'MEG 2312',\n",
       " 'MEG 2313',\n",
       " 'MEG 2311',\n",
       " 'MEG 2323',\n",
       " 'MEG 2322',\n",
       " 'MEG 2321',\n",
       " 'MEG 2332',\n",
       " 'MEG 2333',\n",
       " 'MEG 2331',\n",
       " 'MEG 2343',\n",
       " 'MEG 2342',\n",
       " 'MEG 2341',\n",
       " 'MEG 2412',\n",
       " 'MEG 2413',\n",
       " 'MEG 2411',\n",
       " 'MEG 2423',\n",
       " 'MEG 2422',\n",
       " 'MEG 2421',\n",
       " 'MEG 2433',\n",
       " 'MEG 2432',\n",
       " 'MEG 2431',\n",
       " 'MEG 2442',\n",
       " 'MEG 2443',\n",
       " 'MEG 2441',\n",
       " 'MEG 2512',\n",
       " 'MEG 2513',\n",
       " 'MEG 2511',\n",
       " 'MEG 2522',\n",
       " 'MEG 2523',\n",
       " 'MEG 2521',\n",
       " 'MEG 2533',\n",
       " 'MEG 2532',\n",
       " 'MEG 2531',\n",
       " 'MEG 2543',\n",
       " 'MEG 2542',\n",
       " 'MEG 2541',\n",
       " 'MEG 2612',\n",
       " 'MEG 2613',\n",
       " 'MEG 2611',\n",
       " 'MEG 2623',\n",
       " 'MEG 2622',\n",
       " 'MEG 2621',\n",
       " 'MEG 2633',\n",
       " 'MEG 2632',\n",
       " 'MEG 2631',\n",
       " 'MEG 2642',\n",
       " 'MEG 2643',\n",
       " 'MEG 2641',\n",
       " 'STI 001',\n",
       " 'STI 002',\n",
       " 'STI 003',\n",
       " 'STI 004',\n",
       " 'STI 005',\n",
       " 'STI 006',\n",
       " 'STI 014',\n",
       " 'STI 015',\n",
       " 'STI 016',\n",
       " 'EEG 001',\n",
       " 'EEG 002',\n",
       " 'EEG 003',\n",
       " 'EEG 004',\n",
       " 'EEG 005',\n",
       " 'EEG 006',\n",
       " 'EEG 007',\n",
       " 'EEG 008',\n",
       " 'EEG 009',\n",
       " 'EEG 010',\n",
       " 'EEG 011',\n",
       " 'EEG 012',\n",
       " 'EEG 013',\n",
       " 'EEG 014',\n",
       " 'EEG 015',\n",
       " 'EEG 016',\n",
       " 'EEG 017',\n",
       " 'EEG 018',\n",
       " 'EEG 019',\n",
       " 'EEG 020',\n",
       " 'EEG 021',\n",
       " 'EEG 022',\n",
       " 'EEG 023',\n",
       " 'EEG 024',\n",
       " 'EEG 025',\n",
       " 'EEG 026',\n",
       " 'EEG 027',\n",
       " 'EEG 028',\n",
       " 'EEG 029',\n",
       " 'EEG 030',\n",
       " 'EEG 031',\n",
       " 'EEG 032',\n",
       " 'EEG 033',\n",
       " 'EEG 034',\n",
       " 'EEG 035',\n",
       " 'EEG 036',\n",
       " 'EEG 037',\n",
       " 'EEG 038',\n",
       " 'EEG 039',\n",
       " 'EEG 040',\n",
       " 'EEG 041',\n",
       " 'EEG 042',\n",
       " 'EEG 043',\n",
       " 'EEG 044',\n",
       " 'EEG 045',\n",
       " 'EEG 046',\n",
       " 'EEG 047',\n",
       " 'EEG 048',\n",
       " 'EEG 049',\n",
       " 'EEG 050',\n",
       " 'EEG 051',\n",
       " 'EEG 052',\n",
       " 'EEG 053',\n",
       " 'EEG 054',\n",
       " 'EEG 055',\n",
       " 'EEG 056',\n",
       " 'EEG 057',\n",
       " 'EEG 058',\n",
       " 'EEG 059',\n",
       " 'EEG 060',\n",
       " 'EOG 061']"
      ]
     },
     "execution_count": 14,
     "metadata": {},
     "output_type": "execute_result"
    }
   ],
   "source": [
    "raw.ch_names"
   ]
  },
  {
   "cell_type": "code",
   "execution_count": 15,
   "metadata": {
    "collapsed": false
   },
   "outputs": [
    {
     "name": "stdout",
     "output_type": "stream",
     "text": [
      "Help on method time_as_index in module mne.io.base:\n",
      "\n",
      "time_as_index(self, times, use_first_samp=False) method of mne.io.fiff.raw.RawFIF instance\n",
      "    Convert time to indices\n",
      "    \n",
      "    Parameters\n",
      "    ----------\n",
      "    times : list-like | float | int\n",
      "        List of numbers or a number representing points in time.\n",
      "    use_first_samp : boolean\n",
      "        If True, time is treated as relative to the session onset, else\n",
      "        as relative to the recording onset.\n",
      "    \n",
      "    Returns\n",
      "    -------\n",
      "    index : ndarray\n",
      "        Indices corresponding to the times supplied.\n",
      "\n"
     ]
    }
   ],
   "source": [
    "help(raw.time_as_index)"
   ]
  },
  {
   "cell_type": "code",
   "execution_count": 25,
   "metadata": {
    "collapsed": false
   },
   "outputs": [],
   "source": [
    "# Retrieve index of start, stop given time in seconds\n",
    "start, stop = raw.time_as_index([100, 115])"
   ]
  },
  {
   "cell_type": "code",
   "execution_count": 28,
   "metadata": {
    "collapsed": false
   },
   "outputs": [
    {
     "name": "stdout",
     "output_type": "stream",
     "text": [
      "Reading 15015 ... 17266  =     99.998 ...   114.989 secs...\n",
      "[done]\n"
     ]
    }
   ],
   "source": [
    "# Retreive matrix of data and vector of times from raw\n",
    "data, times = raw[:, start:stop]"
   ]
  },
  {
   "cell_type": "code",
   "execution_count": 30,
   "metadata": {
    "collapsed": false
   },
   "outputs": [
    {
     "data": {
      "text/plain": [
       "(376, 2252)"
      ]
     },
     "execution_count": 30,
     "metadata": {},
     "output_type": "execute_result"
    }
   ],
   "source": [
    "data.shape"
   ]
  },
  {
   "cell_type": "code",
   "execution_count": 33,
   "metadata": {
    "collapsed": false
   },
   "outputs": [
    {
     "data": {
      "text/plain": [
       "(2252,)"
      ]
     },
     "execution_count": 33,
     "metadata": {},
     "output_type": "execute_result"
    }
   ],
   "source": [
    "times.shape"
   ]
  },
  {
   "cell_type": "code",
   "execution_count": 37,
   "metadata": {
    "collapsed": false
   },
   "outputs": [
    {
     "name": "stdout",
     "output_type": "stream",
     "text": [
      "Reading 15015 ... 17266  =     99.998 ...   114.989 secs...\n",
      "[done]\n"
     ]
    }
   ],
   "source": [
    "# Retrieve channles (2, 5, 8, 11, 14, 17) from 100s - 115s (???)\n",
    "data, times = raw[2:20:3, start:stop]"
   ]
  },
  {
   "cell_type": "code",
   "execution_count": 39,
   "metadata": {
    "collapsed": false
   },
   "outputs": [
    {
     "data": {
      "text/plain": [
       "array([ -1.28994619e-12,  -1.03468366e-12,  -5.22648086e-13,\n",
       "        -4.43111744e-13,  -8.80294462e-13,  -1.29830853e-12,\n",
       "        -1.25421279e-12,  -8.19516522e-13,  -4.31256274e-13,\n",
       "        -4.74533071e-13])"
      ]
     },
     "execution_count": 39,
     "metadata": {},
     "output_type": "execute_result"
    }
   ],
   "source": [
    "data[0, :10]"
   ]
  },
  {
   "cell_type": "code",
   "execution_count": 47,
   "metadata": {
    "collapsed": false
   },
   "outputs": [
    {
     "name": "stdout",
     "output_type": "stream",
     "text": [
      "Reading 0 ... 1500  =      0.000 ...     9.990 secs...\n",
      "[done]\n"
     ]
    },
    {
     "data": {
      "image/png": "[encoded data removed]",
      "text/plain": [
       "<matplotlib.figure.Figure at 0x118ec0a10>"
      ]
     },
     "metadata": {},
     "output_type": "display_data"
    },
    {
     "data": {
      "image/png": "[encoded data removed]",
      "text/plain": [
       "<matplotlib.figure.Figure at 0x118ec0a10>"
      ]
     },
     "execution_count": 47,
     "metadata": {},
     "output_type": "execute_result"
    }
   ],
   "source": [
    "raw.plot()"
   ]
  },
  {
   "cell_type": "code",
   "execution_count": 56,
   "metadata": {
    "collapsed": false
   },
   "outputs": [],
   "source": [
    "# Pick channels by type and names\n",
    "picks = mne.pick_types(raw.info, meg=True, eeg=False, stim=True, exclude='bads')"
   ]
  },
  {
   "cell_type": "code",
   "execution_count": 57,
   "metadata": {
    "collapsed": false
   },
   "outputs": [
    {
     "name": "stdout",
     "output_type": "stream",
     "text": [
      "Reading 0 ... 0  =      0.000 ...     0.000 secs...\n",
      "[done]\n",
      "Overwriting existing file.\n",
      "Writing /Users/jrubin/Developer/grasp-and-lift/sample_audvis_meg_raw.fif\n",
      "Reading 0 ... 1501  =      0.000 ...     9.996 secs...\n",
      "[done]\n",
      "Writing ...\n",
      "Reading 1502 ... 3003  =     10.003 ...    20.000 secs...\n",
      "[done]\n",
      "Writing ...\n",
      "Reading 3004 ... 4505  =     20.006 ...    30.003 secs...\n",
      "[done]\n",
      "Writing ...\n",
      "Reading 4506 ... 6007  =     30.009 ...    40.006 secs...\n",
      "[done]\n",
      "Writing ...\n",
      "Reading 6008 ... 7509  =     40.012 ...    50.009 secs...\n",
      "[done]\n",
      "Writing ...\n",
      "Reading 7510 ... 9011  =     50.015 ...    60.012 secs...\n",
      "[done]\n",
      "Writing ...\n",
      "Reading 9012 ... 10513  =     60.018 ...    70.015 secs...\n",
      "[done]\n",
      "Writing ...\n",
      "Reading 10514 ... 12015  =     70.022 ...    80.018 secs...\n",
      "[done]\n",
      "Writing ...\n",
      "Reading 12016 ... 13517  =     80.025 ...    90.021 secs...\n",
      "[done]\n",
      "Writing ...\n",
      "Reading 13518 ... 15019  =     90.028 ...   100.024 secs...\n",
      "[done]\n",
      "Writing ...\n",
      "Reading 15020 ... 16521  =    100.031 ...   110.027 secs...\n",
      "[done]\n",
      "Writing ...\n",
      "Reading 16522 ... 18023  =    110.034 ...   120.030 secs...\n",
      "[done]\n",
      "Writing ...\n",
      "Reading 18024 ... 19525  =    120.037 ...   130.033 secs...\n",
      "[done]\n",
      "Writing ...\n",
      "Reading 19526 ... 21027  =    130.040 ...   140.036 secs...\n",
      "[done]\n",
      "Writing ...\n",
      "Reading 21028 ... 22523  =    140.043 ...   150.000 secs...\n",
      "[done]\n",
      "Writing ...\n",
      "Closing /Users/jrubin/Developer/grasp-and-lift/sample_audvis_meg_raw.fif [done]\n"
     ]
    }
   ],
   "source": [
    "# Save a sample from the raw data\n",
    "raw.save('sample_audvis_meg_raw.fif', tmin=0, tmax=150, picks=picks, overwrite=True)"
   ]
  },
  {
   "cell_type": "code",
   "execution_count": 78,
   "metadata": {
    "collapsed": false
   },
   "outputs": [
    {
     "name": "stdout",
     "output_type": "stream",
     "text": [
      "Reading 0 ... 41699  =      0.000 ...   277.709 secs...\n",
      "[done]\n",
      "319 events found\n",
      "Events id: [ 1  2  3  4  5 32]\n"
     ]
    }
   ],
   "source": [
    "# event columns = [time_instant, _, event_id]\n",
    "events = mne.find_events(raw, stim_channel='STI 014')"
   ]
  },
  {
   "cell_type": "code",
   "execution_count": 70,
   "metadata": {
    "collapsed": false
   },
   "outputs": [
    {
     "name": "stdout",
     "output_type": "stream",
     "text": [
      "Reading 0 ... 41699  =      0.000 ...   277.709 secs...\n",
      "[done]\n"
     ]
    }
   ],
   "source": [
    "stim_data, stim_times = raw[raw.ch_names.index('STI 014'), :]"
   ]
  },
  {
   "cell_type": "code",
   "execution_count": 76,
   "metadata": {
    "collapsed": false
   },
   "outputs": [
    {
     "data": {
      "text/plain": [
       "array([[6994,    0,    2],\n",
       "       [7086,    0,    3],\n",
       "       [7192,    0,    1],\n",
       "       [7304,    0,    4],\n",
       "       [7413,    0,    2]])"
      ]
     },
     "execution_count": 76,
     "metadata": {},
     "output_type": "execute_result"
    }
   ],
   "source": [
    "events[:5]"
   ]
  },
  {
   "cell_type": "code",
   "execution_count": 84,
   "metadata": {
    "collapsed": false
   },
   "outputs": [],
   "source": [
    "event_id = {'aud_l' : 1, 'aud_r' : 2} # event trigger and conditions\n",
    "tmin = -0.2 # start of each epoch (200ms before the trigger)\n",
    "tmax = 0.5 # end of each epoch (500ms after the trigger)"
   ]
  },
  {
   "cell_type": "code",
   "execution_count": 83,
   "metadata": {
    "collapsed": false
   },
   "outputs": [
    {
     "data": {
      "text/plain": [
       "{'aud_l': 1, 'aud_r': 2}"
      ]
     },
     "execution_count": 83,
     "metadata": {},
     "output_type": "execute_result"
    }
   ],
   "source": [
    "event_id"
   ]
  },
  {
   "cell_type": "code",
   "execution_count": 85,
   "metadata": {
    "collapsed": true
   },
   "outputs": [],
   "source": [
    "# Exclude some channels\n",
    "raw.info['bads'] += ['MEG 2443', 'EEG 053']"
   ]
  },
  {
   "cell_type": "code",
   "execution_count": 86,
   "metadata": {
    "collapsed": true
   },
   "outputs": [],
   "source": [
    "picks = mne.pick_types(raw.info, meg=True, eeg=True, eog=True, stim=False, exclude='bads')"
   ]
  },
  {
   "cell_type": "code",
   "execution_count": 89,
   "metadata": {
    "collapsed": false
   },
   "outputs": [],
   "source": [
    "mag_picks = mne.pick_types(raw.info, meg='mag', eog=True, exclude='bads')\n",
    "grad_picks = mne.pick_types(raw.info, meg='grad', eog=True, exclude='bads')"
   ]
  },
  {
   "cell_type": "code",
   "execution_count": 90,
   "metadata": {
    "collapsed": false
   },
   "outputs": [
    {
     "data": {
      "text/plain": [
       "array([  2,   5,   8,  11,  14,  17,  20,  23,  26,  29,  32,  35,  38,\n",
       "        41,  44,  47,  50,  53,  56,  59,  62,  65,  68,  71,  74,  77,\n",
       "        80,  83,  86,  89,  92,  95,  98, 101, 104, 107, 110, 113, 116,\n",
       "       119, 122, 125, 128, 131, 134, 137, 140, 143, 146, 149, 152, 155,\n",
       "       158, 161, 164, 167, 170, 173, 176, 179, 182, 185, 188, 191, 194,\n",
       "       197, 200, 203, 206, 209, 212, 215, 218, 221, 224, 227, 230, 233,\n",
       "       236, 239, 242, 245, 248, 251, 254, 257, 260, 263, 266, 269, 272,\n",
       "       275, 278, 281, 284, 287, 290, 293, 296, 299, 302, 305, 375])"
      ]
     },
     "execution_count": 90,
     "metadata": {},
     "output_type": "execute_result"
    }
   ],
   "source": [
    "mag_picks"
   ]
  },
  {
   "cell_type": "code",
   "execution_count": 91,
   "metadata": {
    "collapsed": true
   },
   "outputs": [],
   "source": [
    "baseline = (None, 0)"
   ]
  },
  {
   "cell_type": "code",
   "execution_count": 93,
   "metadata": {
    "collapsed": false
   },
   "outputs": [],
   "source": [
    "# Define peak-to-peak rejection parameters for gradiometers, magnetometers and EOG\n",
    "reject = {'grad' : 4000e-13, 'mag' : 4e-12, 'eog' : 150e-6}"
   ]
  },
  {
   "cell_type": "code",
   "execution_count": 95,
   "metadata": {
    "collapsed": false
   },
   "outputs": [
    {
     "name": "stdout",
     "output_type": "stream",
     "text": [
      "Created an SSP operator (subspace dimension = 4)\n",
      "4 projection items activated\n",
      "145 matching events found\n"
     ]
    }
   ],
   "source": [
    "epochs = mne.Epochs(raw, events, event_id, tmin, tmax, proj=True, picks=picks, baseline=baseline, preload=False, reject=reject)"
   ]
  },
  {
   "cell_type": "code",
   "execution_count": 96,
   "metadata": {
    "collapsed": false
   },
   "outputs": [
    {
     "data": {
      "text/plain": [
       "<Epochs  |  n_events : 145 (good & bad), tmin : -0.2 (s), tmax : 0.5 (s), baseline : (None, 0),\n",
       " 'aud_l': 72, 'aud_r': 73>"
      ]
     },
     "execution_count": 96,
     "metadata": {},
     "output_type": "execute_result"
    }
   ],
   "source": [
    "epochs"
   ]
  },
  {
   "cell_type": "code",
   "execution_count": 105,
   "metadata": {
    "collapsed": false
   },
   "outputs": [
    {
     "name": "stdout",
     "output_type": "stream",
     "text": [
      "Reading 712 ... 817  =      4.742 ...     5.441 secs...\n",
      "[done]\n",
      "Applying baseline correction ... (mode: mean)\n",
      "Reading 1132 ... 1237  =      7.539 ...     8.238 secs...\n",
      "[done]\n",
      "Applying baseline correction ... (mode: mean)\n",
      "Reading 1545 ... 1650  =     10.289 ...    10.989 secs...\n",
      "[done]\n",
      "Applying baseline correction ... (mode: mean)\n",
      "Reading 1948 ... 2053  =     12.973 ...    13.673 secs...\n",
      "[done]\n",
      "Applying baseline correction ... (mode: mean)\n",
      "Reading 2377 ... 2482  =     15.830 ...    16.530 secs...\n",
      "[done]\n",
      "Applying baseline correction ... (mode: mean)\n",
      "Reading 2771 ... 2876  =     18.454 ...    19.154 secs...\n",
      "[done]\n",
      "Applying baseline correction ... (mode: mean)\n",
      "Reading 3197 ... 3302  =     21.292 ...    21.991 secs...\n",
      "[done]\n",
      "Applying baseline correction ... (mode: mean)\n",
      "Reading 3621 ... 3726  =     24.115 ...    24.815 secs...\n",
      "[done]\n",
      "Applying baseline correction ... (mode: mean)\n",
      "Reading 4051 ... 4156  =     26.979 ...    27.678 secs...\n",
      "[done]\n",
      "Applying baseline correction ... (mode: mean)\n",
      "Reading 4465 ... 4570  =     29.736 ...    30.435 secs...\n",
      "[done]\n",
      "Applying baseline correction ... (mode: mean)\n",
      "Reading 4891 ... 4996  =     32.573 ...    33.273 secs...\n",
      "[done]\n",
      "Applying baseline correction ... (mode: mean)\n",
      "    Rejecting  epoch based on EOG : ['EOG 061']\n",
      "Reading 5293 ... 5398  =     35.251 ...    35.950 secs...\n",
      "[done]\n",
      "Applying baseline correction ... (mode: mean)\n",
      "Reading 5700 ... 5805  =     37.961 ...    38.660 secs...\n",
      "[done]\n",
      "Applying baseline correction ... (mode: mean)\n",
      "Reading 6087 ... 6192  =     40.538 ...    41.238 secs...\n",
      "[done]\n",
      "Applying baseline correction ... (mode: mean)\n",
      "Reading 6490 ... 6595  =     43.222 ...    43.922 secs...\n",
      "[done]\n",
      "Applying baseline correction ... (mode: mean)\n",
      "    Rejecting  epoch based on EOG : ['EOG 061']\n",
      "Reading 6893 ... 6998  =     45.906 ...    46.606 secs...\n",
      "[done]\n",
      "Applying baseline correction ... (mode: mean)\n",
      "    Rejecting  epoch based on EOG : ['EOG 061']\n",
      "Reading 7295 ... 7400  =     48.584 ...    49.283 secs...\n",
      "[done]\n",
      "Applying baseline correction ... (mode: mean)\n",
      "Reading 7699 ... 7804  =     51.274 ...    51.973 secs...\n",
      "[done]\n",
      "Applying baseline correction ... (mode: mean)\n",
      "Reading 8132 ... 8237  =     54.158 ...    54.857 secs...\n",
      "[done]\n",
      "Applying baseline correction ... (mode: mean)\n",
      "Reading 8552 ... 8657  =     56.955 ...    57.654 secs...\n",
      "[done]\n",
      "Applying baseline correction ... (mode: mean)\n",
      "Reading 8987 ... 9092  =     59.852 ...    60.551 secs...\n",
      "[done]\n",
      "Applying baseline correction ... (mode: mean)\n",
      "    Rejecting  epoch based on EOG : ['EOG 061']\n",
      "Reading 9403 ... 9508  =     62.622 ...    63.322 secs...\n",
      "[done]\n",
      "Applying baseline correction ... (mode: mean)\n",
      "Reading 9815 ... 9920  =     65.366 ...    66.066 secs...\n",
      "[done]\n",
      "Applying baseline correction ... (mode: mean)\n",
      "Reading 10261 ... 10366  =     68.337 ...    69.036 secs...\n",
      "[done]\n",
      "Applying baseline correction ... (mode: mean)\n",
      "Reading 10686 ... 10791  =     71.167 ...    71.866 secs...\n",
      "[done]\n",
      "Applying baseline correction ... (mode: mean)\n",
      "    Rejecting  epoch based on EOG : ['EOG 061']\n",
      "Reading 11084 ... 11189  =     73.818 ...    74.517 secs...\n",
      "[done]\n",
      "Applying baseline correction ... (mode: mean)\n",
      "Reading 11517 ... 11622  =     76.701 ...    77.401 secs...\n",
      "[done]\n",
      "Applying baseline correction ... (mode: mean)\n",
      "Reading 11949 ... 12054  =     79.578 ...    80.278 secs...\n",
      "[done]\n",
      "Applying baseline correction ... (mode: mean)\n",
      "Reading 12743 ... 12848  =     84.866 ...    85.566 secs...\n",
      "[done]\n",
      "Applying baseline correction ... (mode: mean)\n",
      "    Rejecting  epoch based on MAG : ['MEG 1711']\n",
      "Reading 13154 ... 13259  =     87.604 ...    88.303 secs...\n",
      "[done]\n",
      "Applying baseline correction ... (mode: mean)\n",
      "Reading 13572 ... 13677  =     90.387 ...    91.087 secs...\n",
      "[done]\n",
      "Applying baseline correction ... (mode: mean)\n",
      "Reading 13997 ... 14102  =     93.218 ...    93.917 secs...\n",
      "[done]\n",
      "Applying baseline correction ... (mode: mean)\n",
      "Reading 14412 ... 14517  =     95.982 ...    96.681 secs...\n",
      "[done]\n",
      "Applying baseline correction ... (mode: mean)\n",
      "Reading 14844 ... 14949  =     98.859 ...    99.558 secs...\n",
      "[done]\n",
      "Applying baseline correction ... (mode: mean)\n",
      "Reading 15262 ... 15367  =    101.642 ...   102.342 secs...\n",
      "[done]\n",
      "Applying baseline correction ... (mode: mean)\n",
      "    Rejecting  epoch based on EOG : ['EOG 061']\n",
      "Reading 15668 ... 15773  =    104.346 ...   105.046 secs...\n",
      "[done]\n",
      "Applying baseline correction ... (mode: mean)\n",
      "Reading 16124 ... 16229  =    107.383 ...   108.083 secs...\n",
      "[done]\n",
      "Applying baseline correction ... (mode: mean)\n",
      "Reading 16529 ... 16634  =    110.081 ...   110.780 secs...\n",
      "[done]\n",
      "Applying baseline correction ... (mode: mean)\n",
      "Reading 16937 ... 17042  =    112.798 ...   113.497 secs...\n",
      "[done]\n",
      "Applying baseline correction ... (mode: mean)\n",
      "    Rejecting  epoch based on EOG : ['EOG 061']\n",
      "Reading 17378 ... 17483  =    115.735 ...   116.434 secs...\n",
      "[done]\n",
      "Applying baseline correction ... (mode: mean)\n",
      "Reading 17828 ... 17933  =    118.732 ...   119.431 secs...\n",
      "[done]\n",
      "Applying baseline correction ... (mode: mean)\n",
      "Reading 18245 ... 18350  =    121.509 ...   122.208 secs...\n",
      "[done]\n",
      "Applying baseline correction ... (mode: mean)\n",
      "    Rejecting  epoch based on EOG : ['EOG 061']\n",
      "Reading 18675 ... 18780  =    124.373 ...   125.072 secs...\n",
      "[done]\n",
      "Applying baseline correction ... (mode: mean)\n",
      "Reading 19092 ... 19197  =    127.150 ...   127.849 secs...\n",
      "[done]\n",
      "Applying baseline correction ... (mode: mean)\n",
      "Reading 19528 ... 19633  =    130.053 ...   130.753 secs...\n",
      "[done]\n",
      "Applying baseline correction ... (mode: mean)\n",
      "    Rejecting  epoch based on EOG : ['EOG 061']\n",
      "Reading 19960 ... 20065  =    132.930 ...   133.630 secs...\n",
      "[done]\n",
      "Applying baseline correction ... (mode: mean)\n",
      "    Rejecting  epoch based on EOG : ['EOG 061']\n",
      "Reading 20358 ... 20463  =    135.581 ...   136.280 secs...\n",
      "[done]\n",
      "Applying baseline correction ... (mode: mean)\n",
      "Reading 21163 ... 21268  =    140.942 ...   141.641 secs...\n",
      "[done]\n",
      "Applying baseline correction ... (mode: mean)\n",
      "    Rejecting  epoch based on EOG : ['EOG 061']\n",
      "Reading 21593 ... 21698  =    143.806 ...   144.505 secs...\n",
      "[done]\n",
      "Applying baseline correction ... (mode: mean)\n",
      "    Rejecting  epoch based on EOG : ['EOG 061']\n",
      "Reading 22008 ... 22113  =    146.570 ...   147.269 secs...\n",
      "[done]\n",
      "Applying baseline correction ... (mode: mean)\n",
      "Reading 22424 ... 22529  =    149.340 ...   150.040 secs...\n",
      "[done]\n",
      "Applying baseline correction ... (mode: mean)\n",
      "Reading 22846 ... 22951  =    152.151 ...   152.850 secs...\n",
      "[done]\n",
      "Applying baseline correction ... (mode: mean)\n",
      "Reading 23239 ... 23344  =    154.768 ...   155.467 secs...\n",
      "[done]\n",
      "Applying baseline correction ... (mode: mean)\n",
      "Reading 23654 ... 23759  =    157.532 ...   158.231 secs...\n",
      "[done]\n",
      "Applying baseline correction ... (mode: mean)\n",
      "Reading 24074 ... 24179  =    160.329 ...   161.028 secs...\n",
      "[done]\n",
      "Applying baseline correction ... (mode: mean)\n",
      "Reading 24502 ... 24607  =    163.179 ...   163.879 secs...\n",
      "[done]\n",
      "Applying baseline correction ... (mode: mean)\n",
      "Reading 24947 ... 25052  =    166.143 ...   166.842 secs...\n",
      "[done]\n",
      "Applying baseline correction ... (mode: mean)\n",
      "Reading 25352 ... 25457  =    168.840 ...   169.540 secs...\n",
      "[done]\n",
      "Applying baseline correction ... (mode: mean)\n",
      "    Rejecting  epoch based on EOG : ['EOG 061']\n",
      "Reading 25751 ... 25856  =    171.498 ...   172.197 secs...\n",
      "[done]\n",
      "Applying baseline correction ... (mode: mean)\n",
      "Reading 26143 ... 26248  =    174.108 ...   174.807 secs...\n",
      "[done]\n",
      "Applying baseline correction ... (mode: mean)\n",
      "    Rejecting  epoch based on EOG : ['EOG 061']\n",
      "Reading 26540 ... 26645  =    176.752 ...   177.451 secs...\n",
      "[done]\n",
      "Applying baseline correction ... (mode: mean)\n",
      "Reading 27403 ... 27508  =    182.500 ...   183.199 secs...\n",
      "[done]\n",
      "Applying baseline correction ... (mode: mean)\n",
      "Reading 27803 ... 27908  =    185.164 ...   185.863 secs...\n",
      "[done]\n",
      "Applying baseline correction ... (mode: mean)\n",
      "Reading 28229 ... 28334  =    188.001 ...   188.700 secs...\n",
      "[done]\n",
      "Applying baseline correction ... (mode: mean)\n",
      "    Rejecting  epoch based on EOG : ['EOG 061']\n",
      "Reading 28673 ... 28778  =    190.958 ...   191.657 secs...\n",
      "[done]\n",
      "Applying baseline correction ... (mode: mean)\n",
      "    Rejecting  epoch based on EOG : ['EOG 061']\n",
      "Reading 29537 ... 29642  =    196.712 ...   197.411 secs...\n",
      "[done]\n",
      "Applying baseline correction ... (mode: mean)\n",
      "Reading 29936 ... 30041  =    199.369 ...   200.068 secs...\n",
      "[done]\n",
      "Applying baseline correction ... (mode: mean)\n",
      "Reading 30384 ... 30489  =    202.353 ...   203.052 secs...\n",
      "[done]\n",
      "Applying baseline correction ... (mode: mean)\n",
      "Reading 30810 ... 30915  =    205.190 ...   205.889 secs...\n",
      "[done]\n",
      "Applying baseline correction ... (mode: mean)\n",
      "Reading 31238 ... 31343  =    208.040 ...   208.739 secs...\n",
      "[done]\n",
      "Applying baseline correction ... (mode: mean)\n",
      "Reading 31626 ... 31731  =    210.624 ...   211.323 secs...\n",
      "[done]\n",
      "Applying baseline correction ... (mode: mean)\n",
      "Reading 32040 ... 32145  =    213.381 ...   214.081 secs...\n",
      "[done]\n",
      "Applying baseline correction ... (mode: mean)\n",
      "17 bad epochs dropped\n"
     ]
    }
   ],
   "source": [
    "# Tensor of epoch data [instances, channels, time]\n",
    "epochs_data = epochs['aud_l'].get_data()"
   ]
  },
  {
   "cell_type": "code",
   "execution_count": 104,
   "metadata": {
    "collapsed": false
   },
   "outputs": [
    {
     "data": {
      "text/plain": [
       "(55, 365, 106)"
      ]
     },
     "execution_count": 104,
     "metadata": {},
     "output_type": "execute_result"
    }
   ],
   "source": [
    "epochs_data.shape"
   ]
  },
  {
   "cell_type": "code",
   "execution_count": 107,
   "metadata": {
    "collapsed": false
   },
   "outputs": [
    {
     "data": {
      "text/plain": [
       "array([[ -8.57552496e-13,   5.74204026e-13,   3.43519199e-12, ...,\n",
       "          4.57913617e-12,   4.21854321e-12,   4.84738727e-12],\n",
       "       [ -5.02848921e-12,  -3.71252918e-12,  -1.53728069e-12, ...,\n",
       "          1.22807507e-12,   2.75757566e-12,   1.24265128e-12],\n",
       "       [ -1.21610046e-13,  -4.65164765e-14,  -1.80027750e-14, ...,\n",
       "         -1.20773949e-13,  -6.27475200e-14,   1.09434721e-13],\n",
       "       ..., \n",
       "       [  4.81743685e-07,   8.48431554e-07,   8.75833020e-07, ...,\n",
       "          6.39662684e-06,   5.99733168e-06,   6.86264451e-06],\n",
       "       [ -2.75863002e-06,  -3.07336242e-06,  -3.00902778e-06, ...,\n",
       "          3.32847363e-06,   2.71609712e-06,   2.68885412e-06],\n",
       "       [ -5.90281978e-06,  -3.86070470e-06,  -1.25999990e-06, ...,\n",
       "          4.86930300e-06,   5.79236292e-06,   3.74660667e-06]])"
      ]
     },
     "execution_count": 107,
     "metadata": {},
     "output_type": "execute_result"
    }
   ],
   "source": [
    "epochs_data[0]"
   ]
  },
  {
   "cell_type": "code",
   "execution_count": 108,
   "metadata": {
    "collapsed": false
   },
   "outputs": [
    {
     "name": "stderr",
     "output_type": "stream",
     "text": [
      "/Users/jrubin/Developer/grasp-and-lift/venv/lib/python2.7/site-packages/scipy/io/matlab/mio4.py:18: RuntimeWarning: numpy.dtype size changed, may indicate binary incompatibility\n",
      "  from .mio_utils import squeeze_element, chars_to_strings\n",
      "/Users/jrubin/Developer/grasp-and-lift/venv/lib/python2.7/site-packages/scipy/io/matlab/mio4.py:18: RuntimeWarning: numpy.ufunc size changed, may indicate binary incompatibility\n",
      "  from .mio_utils import squeeze_element, chars_to_strings\n",
      "/Users/jrubin/Developer/grasp-and-lift/venv/lib/python2.7/site-packages/scipy/io/matlab/mio5.py:98: RuntimeWarning: numpy.dtype size changed, may indicate binary incompatibility\n",
      "  from .mio5_utils import VarReader5\n",
      "/Users/jrubin/Developer/grasp-and-lift/venv/lib/python2.7/site-packages/scipy/io/matlab/mio5.py:98: RuntimeWarning: numpy.ufunc size changed, may indicate binary incompatibility\n",
      "  from .mio5_utils import VarReader5\n"
     ]
    }
   ],
   "source": [
    "from scipy import io"
   ]
  },
  {
   "cell_type": "code",
   "execution_count": 109,
   "metadata": {
    "collapsed": true
   },
   "outputs": [],
   "source": [
    "# Save epoch data in matlab format\n",
    "io.savemat('epochs_data.mat', {'epochs_data' : epochs_data}, oned_as='row')"
   ]
  },
  {
   "cell_type": "code",
   "execution_count": 112,
   "metadata": {
    "collapsed": false
   },
   "outputs": [
    {
     "name": "stdout",
     "output_type": "stream",
     "text": [
      "Reading 514 ... 619  =      3.423 ...     4.122 secs...\n",
      "[done]\n",
      "Applying baseline correction ... (mode: mean)\n",
      "    Rejecting  epoch based on EOG : ['EOG 061']\n",
      "Reading 712 ... 817  =      4.742 ...     5.441 secs...\n",
      "[done]\n",
      "Applying baseline correction ... (mode: mean)\n",
      "Reading 933 ... 1038  =      6.214 ...     6.913 secs...\n",
      "[done]\n",
      "Applying baseline correction ... (mode: mean)\n",
      "Reading 1132 ... 1237  =      7.539 ...     8.238 secs...\n",
      "[done]\n",
      "Applying baseline correction ... (mode: mean)\n",
      "Reading 1330 ... 1435  =      8.858 ...     9.557 secs...\n",
      "[done]\n",
      "Applying baseline correction ... (mode: mean)\n",
      "Reading 1545 ... 1650  =     10.289 ...    10.989 secs...\n",
      "[done]\n",
      "Applying baseline correction ... (mode: mean)\n",
      "Reading 1753 ... 1858  =     11.675 ...    12.374 secs...\n",
      "[done]\n",
      "Applying baseline correction ... (mode: mean)\n",
      "Reading 1948 ... 2053  =     12.973 ...    13.673 secs...\n",
      "[done]\n",
      "Applying baseline correction ... (mode: mean)\n",
      "Reading 2153 ... 2258  =     14.339 ...    15.038 secs...\n",
      "[done]\n",
      "Applying baseline correction ... (mode: mean)\n",
      "    Rejecting  epoch based on EOG : ['EOG 061']\n",
      "Reading 2377 ... 2482  =     15.830 ...    16.530 secs...\n",
      "[done]\n",
      "Applying baseline correction ... (mode: mean)\n",
      "Reading 2572 ... 2677  =     17.129 ...    17.828 secs...\n",
      "[done]\n",
      "Applying baseline correction ... (mode: mean)\n",
      "Reading 2771 ... 2876  =     18.454 ...    19.154 secs...\n",
      "[done]\n",
      "Applying baseline correction ... (mode: mean)\n",
      "Reading 2997 ... 3102  =     19.960 ...    20.659 secs...\n",
      "[done]\n",
      "Applying baseline correction ... (mode: mean)\n",
      "Reading 3197 ... 3302  =     21.292 ...    21.991 secs...\n",
      "[done]\n",
      "Applying baseline correction ... (mode: mean)\n",
      "Reading 3410 ... 3515  =     22.710 ...    23.409 secs...\n",
      "[done]\n",
      "Applying baseline correction ... (mode: mean)\n",
      "Reading 3621 ... 3726  =     24.115 ...    24.815 secs...\n",
      "[done]\n",
      "Applying baseline correction ... (mode: mean)\n",
      "Reading 3835 ... 3940  =     25.540 ...    26.240 secs...\n",
      "[done]\n",
      "Applying baseline correction ... (mode: mean)\n",
      "Reading 4051 ... 4156  =     26.979 ...    27.678 secs...\n",
      "[done]\n",
      "Applying baseline correction ... (mode: mean)\n",
      "Reading 4260 ... 4365  =     28.371 ...    29.070 secs...\n",
      "[done]\n",
      "Applying baseline correction ... (mode: mean)\n",
      "Reading 4465 ... 4570  =     29.736 ...    30.435 secs...\n",
      "[done]\n",
      "Applying baseline correction ... (mode: mean)\n",
      "Reading 4682 ... 4787  =     31.181 ...    31.881 secs...\n",
      "[done]\n",
      "Applying baseline correction ... (mode: mean)\n",
      "Reading 4891 ... 4996  =     32.573 ...    33.273 secs...\n",
      "[done]\n",
      "Applying baseline correction ... (mode: mean)\n",
      "    Rejecting  epoch based on EOG : ['EOG 061']\n",
      "Reading 5080 ... 5185  =     33.832 ...    34.531 secs...\n",
      "[done]\n",
      "Applying baseline correction ... (mode: mean)\n",
      "Reading 5293 ... 5398  =     35.251 ...    35.950 secs...\n",
      "[done]\n",
      "Applying baseline correction ... (mode: mean)\n",
      "Reading 5493 ... 5598  =     36.583 ...    37.282 secs...\n",
      "[done]\n",
      "Applying baseline correction ... (mode: mean)\n",
      "Reading 5700 ... 5805  =     37.961 ...    38.660 secs...\n",
      "[done]\n",
      "Applying baseline correction ... (mode: mean)\n",
      "Reading 5887 ... 5992  =     39.206 ...    39.906 secs...\n",
      "[done]\n",
      "Applying baseline correction ... (mode: mean)\n",
      "Reading 6087 ... 6192  =     40.538 ...    41.238 secs...\n",
      "[done]\n",
      "Applying baseline correction ... (mode: mean)\n",
      "Reading 6281 ... 6386  =     41.830 ...    42.530 secs...\n",
      "[done]\n",
      "Applying baseline correction ... (mode: mean)\n",
      "Reading 6490 ... 6595  =     43.222 ...    43.922 secs...\n",
      "[done]\n",
      "Applying baseline correction ... (mode: mean)\n",
      "    Rejecting  epoch based on EOG : ['EOG 061']\n",
      "Reading 6688 ... 6793  =     44.541 ...    45.240 secs...\n",
      "[done]\n",
      "Applying baseline correction ... (mode: mean)\n",
      "Reading 6893 ... 6998  =     45.906 ...    46.606 secs...\n",
      "[done]\n",
      "Applying baseline correction ... (mode: mean)\n",
      "    Rejecting  epoch based on EOG : ['EOG 061']\n",
      "Reading 7100 ... 7205  =     47.285 ...    47.984 secs...\n",
      "[done]\n",
      "Applying baseline correction ... (mode: mean)\n",
      "Reading 7295 ... 7400  =     48.584 ...    49.283 secs...\n",
      "[done]\n",
      "Applying baseline correction ... (mode: mean)\n",
      "Reading 7489 ... 7594  =     49.876 ...    50.575 secs...\n",
      "[done]\n",
      "Applying baseline correction ... (mode: mean)\n",
      "Reading 7699 ... 7804  =     51.274 ...    51.973 secs...\n",
      "[done]\n",
      "Applying baseline correction ... (mode: mean)\n",
      "Reading 7923 ... 8028  =     52.766 ...    53.465 secs...\n",
      "[done]\n",
      "Applying baseline correction ... (mode: mean)\n",
      "Reading 8132 ... 8237  =     54.158 ...    54.857 secs...\n",
      "[done]\n",
      "Applying baseline correction ... (mode: mean)\n",
      "Reading 8552 ... 8657  =     56.955 ...    57.654 secs...\n",
      "[done]\n",
      "Applying baseline correction ... (mode: mean)\n",
      "Reading 8778 ... 8883  =     58.460 ...    59.159 secs...\n",
      "[done]\n",
      "Applying baseline correction ... (mode: mean)\n",
      "    Rejecting  epoch based on EOG : ['EOG 061']\n",
      "Reading 8987 ... 9092  =     59.852 ...    60.551 secs...\n",
      "[done]\n",
      "Applying baseline correction ... (mode: mean)\n",
      "    Rejecting  epoch based on EOG : ['EOG 061']\n",
      "Reading 9190 ... 9295  =     61.204 ...    61.903 secs...\n",
      "[done]\n",
      "Applying baseline correction ... (mode: mean)\n",
      "Reading 9403 ... 9508  =     62.622 ...    63.322 secs...\n",
      "[done]\n",
      "Applying baseline correction ... (mode: mean)\n",
      "Reading 9616 ... 9721  =     64.041 ...    64.740 secs...\n",
      "[done]\n",
      "Applying baseline correction ... (mode: mean)\n",
      "Reading 9815 ... 9920  =     65.366 ...    66.066 secs...\n",
      "[done]\n",
      "Applying baseline correction ... (mode: mean)\n",
      "Reading 10037 ... 10142  =     66.845 ...    67.544 secs...\n",
      "[done]\n",
      "Applying baseline correction ... (mode: mean)\n",
      "Reading 10261 ... 10366  =     68.337 ...    69.036 secs...\n",
      "[done]\n",
      "Applying baseline correction ... (mode: mean)\n",
      "Reading 10472 ... 10577  =     69.742 ...    70.441 secs...\n",
      "[done]\n",
      "Applying baseline correction ... (mode: mean)\n",
      "Reading 10686 ... 10791  =     71.167 ...    71.866 secs...\n",
      "[done]\n",
      "Applying baseline correction ... (mode: mean)\n",
      "    Rejecting  epoch based on EOG : ['EOG 061']\n",
      "Reading 10884 ... 10989  =     72.486 ...    73.185 secs...\n",
      "[done]\n",
      "Applying baseline correction ... (mode: mean)\n",
      "Reading 11084 ... 11189  =     73.818 ...    74.517 secs...\n",
      "[done]\n",
      "Applying baseline correction ... (mode: mean)\n",
      "Reading 11302 ... 11407  =     75.270 ...    75.969 secs...\n",
      "[done]\n",
      "Applying baseline correction ... (mode: mean)\n",
      "Reading 11517 ... 11622  =     76.701 ...    77.401 secs...\n",
      "[done]\n",
      "Applying baseline correction ... (mode: mean)\n",
      "Reading 11726 ... 11831  =     78.093 ...    78.793 secs...\n",
      "[done]\n",
      "Applying baseline correction ... (mode: mean)\n",
      "Reading 11949 ... 12054  =     79.578 ...    80.278 secs...\n",
      "[done]\n",
      "Applying baseline correction ... (mode: mean)\n",
      "Reading 12155 ... 12260  =     80.950 ...    81.650 secs...\n",
      "[done]\n",
      "Applying baseline correction ... (mode: mean)\n",
      "Reading 12541 ... 12646  =     83.521 ...    84.220 secs...\n",
      "[done]\n",
      "Applying baseline correction ... (mode: mean)\n",
      "Reading 12743 ... 12848  =     84.866 ...    85.566 secs...\n",
      "[done]\n",
      "Applying baseline correction ... (mode: mean)\n",
      "    Rejecting  epoch based on MAG : ['MEG 1711']\n",
      "Reading 12940 ... 13045  =     86.178 ...    86.878 secs...\n",
      "[done]\n",
      "Applying baseline correction ... (mode: mean)\n",
      "Reading 13154 ... 13259  =     87.604 ...    88.303 secs...\n",
      "[done]\n",
      "Applying baseline correction ... (mode: mean)\n",
      "Reading 13360 ... 13465  =     88.975 ...    89.675 secs...\n",
      "[done]\n",
      "Applying baseline correction ... (mode: mean)\n",
      "Reading 13572 ... 13677  =     90.387 ...    91.087 secs...\n",
      "[done]\n",
      "Applying baseline correction ... (mode: mean)\n",
      "Reading 13774 ... 13879  =     91.733 ...    92.432 secs...\n",
      "[done]\n",
      "Applying baseline correction ... (mode: mean)\n",
      "Reading 13997 ... 14102  =     93.218 ...    93.917 secs...\n",
      "[done]\n",
      "Applying baseline correction ... (mode: mean)\n",
      "Reading 14198 ... 14303  =     94.556 ...    95.256 secs...\n",
      "[done]\n",
      "Applying baseline correction ... (mode: mean)\n",
      "Reading 14412 ... 14517  =     95.982 ...    96.681 secs...\n",
      "[done]\n",
      "Applying baseline correction ... (mode: mean)\n",
      "Reading 14631 ... 14736  =     97.440 ...    98.139 secs...\n",
      "[done]\n",
      "Applying baseline correction ... (mode: mean)\n",
      "Reading 14844 ... 14949  =     98.859 ...    99.558 secs...\n",
      "[done]\n",
      "Applying baseline correction ... (mode: mean)\n",
      "Reading 15046 ... 15151  =    100.204 ...   100.903 secs...\n",
      "[done]\n",
      "Applying baseline correction ... (mode: mean)\n",
      "    Rejecting  epoch based on EOG : ['EOG 061']\n",
      "Reading 15262 ... 15367  =    101.642 ...   102.342 secs...\n",
      "[done]\n",
      "Applying baseline correction ... (mode: mean)\n",
      "    Rejecting  epoch based on EOG : ['EOG 061']\n",
      "Reading 15451 ... 15556  =    102.901 ...   103.600 secs...\n",
      "[done]\n",
      "Applying baseline correction ... (mode: mean)\n",
      "Reading 15668 ... 15773  =    104.346 ...   105.046 secs...\n",
      "[done]\n",
      "Applying baseline correction ... (mode: mean)\n",
      "Reading 15894 ... 15999  =    105.852 ...   106.551 secs...\n",
      "[done]\n",
      "Applying baseline correction ... (mode: mean)\n",
      "Reading 16124 ... 16229  =    107.383 ...   108.083 secs...\n",
      "[done]\n",
      "Applying baseline correction ... (mode: mean)\n",
      "Reading 16318 ... 16423  =    108.675 ...   109.375 secs...\n",
      "[done]\n",
      "Applying baseline correction ... (mode: mean)\n",
      "Reading 16529 ... 16634  =    110.081 ...   110.780 secs...\n",
      "[done]\n",
      "Applying baseline correction ... (mode: mean)\n",
      "Reading 16937 ... 17042  =    112.798 ...   113.497 secs...\n",
      "[done]\n",
      "Applying baseline correction ... (mode: mean)\n",
      "    Rejecting  epoch based on EOG : ['EOG 061']\n",
      "Reading 17155 ... 17260  =    114.250 ...   114.949 secs...\n",
      "[done]\n",
      "Applying baseline correction ... (mode: mean)\n",
      "Reading 17378 ... 17483  =    115.735 ...   116.434 secs...\n",
      "[done]\n",
      "Applying baseline correction ... (mode: mean)\n",
      "Reading 17602 ... 17707  =    117.227 ...   117.926 secs...\n",
      "[done]\n",
      "Applying baseline correction ... (mode: mean)\n",
      "    Rejecting  epoch based on MAG : ['MEG 1711']\n",
      "Reading 17828 ... 17933  =    118.732 ...   119.431 secs...\n",
      "[done]\n",
      "Applying baseline correction ... (mode: mean)\n",
      "Reading 18048 ... 18153  =    120.197 ...   120.896 secs...\n",
      "[done]\n",
      "Applying baseline correction ... (mode: mean)\n",
      "Reading 18245 ... 18350  =    121.509 ...   122.208 secs...\n",
      "[done]\n",
      "Applying baseline correction ... (mode: mean)\n",
      "    Rejecting  epoch based on EOG : ['EOG 061']\n",
      "Reading 18468 ... 18573  =    122.994 ...   123.693 secs...\n",
      "[done]\n",
      "Applying baseline correction ... (mode: mean)\n",
      "    Rejecting  epoch based on EOG : ['EOG 061']\n",
      "Reading 18675 ... 18780  =    124.373 ...   125.072 secs...\n",
      "[done]\n",
      "Applying baseline correction ... (mode: mean)\n",
      "Reading 18887 ... 18992  =    125.784 ...   126.484 secs...\n",
      "[done]\n",
      "Applying baseline correction ... (mode: mean)\n",
      "Reading 19092 ... 19197  =    127.150 ...   127.849 secs...\n",
      "[done]\n",
      "Applying baseline correction ... (mode: mean)\n",
      "Reading 19318 ... 19423  =    128.655 ...   129.354 secs...\n",
      "[done]\n",
      "Applying baseline correction ... (mode: mean)\n",
      "Reading 19528 ... 19633  =    130.053 ...   130.753 secs...\n",
      "[done]\n",
      "Applying baseline correction ... (mode: mean)\n",
      "    Rejecting  epoch based on EOG : ['EOG 061']\n",
      "Reading 19747 ... 19852  =    131.512 ...   132.211 secs...\n",
      "[done]\n",
      "Applying baseline correction ... (mode: mean)\n",
      "Reading 19960 ... 20065  =    132.930 ...   133.630 secs...\n",
      "[done]\n",
      "Applying baseline correction ... (mode: mean)\n",
      "    Rejecting  epoch based on EOG : ['EOG 061']\n",
      "Reading 20175 ... 20280  =    134.362 ...   135.062 secs...\n",
      "[done]\n",
      "Applying baseline correction ... (mode: mean)\n",
      "    Rejecting  epoch based on EOG : ['EOG 061']\n",
      "Reading 20358 ... 20463  =    135.581 ...   136.280 secs...\n",
      "[done]\n",
      "Applying baseline correction ... (mode: mean)\n",
      "Reading 20562 ... 20667  =    136.940 ...   137.639 secs...\n",
      "[done]\n",
      "Applying baseline correction ... (mode: mean)\n",
      "    Rejecting  epoch based on EOG : ['EOG 061']\n",
      "Reading 20955 ... 21060  =    139.557 ...   140.256 secs...\n",
      "[done]\n",
      "Applying baseline correction ... (mode: mean)\n",
      "    Rejecting  epoch based on EOG : ['EOG 061']\n",
      "Reading 21163 ... 21268  =    140.942 ...   141.641 secs...\n",
      "[done]\n",
      "Applying baseline correction ... (mode: mean)\n",
      "    Rejecting  epoch based on EOG : ['EOG 061']\n",
      "Reading 21380 ... 21485  =    142.387 ...   143.087 secs...\n",
      "[done]\n",
      "Applying baseline correction ... (mode: mean)\n",
      "    Rejecting  epoch based on EOG : ['EOG 061']\n",
      "Reading 21593 ... 21698  =    143.806 ...   144.505 secs...\n",
      "[done]\n",
      "Applying baseline correction ... (mode: mean)\n",
      "    Rejecting  epoch based on EOG : ['EOG 061']\n",
      "Reading 21805 ... 21910  =    145.218 ...   145.917 secs...\n",
      "[done]\n",
      "Applying baseline correction ... (mode: mean)\n",
      "Reading 22008 ... 22113  =    146.570 ...   147.269 secs...\n",
      "[done]\n",
      "Applying baseline correction ... (mode: mean)\n",
      "Reading 22205 ... 22310  =    147.882 ...   148.581 secs...\n",
      "[done]\n",
      "Applying baseline correction ... (mode: mean)\n",
      "Reading 22424 ... 22529  =    149.340 ...   150.040 secs...\n",
      "[done]\n",
      "Applying baseline correction ... (mode: mean)\n",
      "Reading 22651 ... 22756  =    150.852 ...   151.551 secs...\n",
      "[done]\n",
      "Applying baseline correction ... (mode: mean)\n",
      "Reading 22846 ... 22951  =    152.151 ...   152.850 secs...\n",
      "[done]\n",
      "Applying baseline correction ... (mode: mean)\n",
      "Reading 23239 ... 23344  =    154.768 ...   155.467 secs...\n",
      "[done]\n",
      "Applying baseline correction ... (mode: mean)\n",
      "Reading 23444 ... 23549  =    156.133 ...   156.833 secs...\n",
      "[done]\n",
      "Applying baseline correction ... (mode: mean)\n",
      "Reading 23654 ... 23759  =    157.532 ...   158.231 secs...\n",
      "[done]\n",
      "Applying baseline correction ... (mode: mean)\n",
      "Reading 23868 ... 23973  =    158.957 ...   159.656 secs...\n",
      "[done]\n",
      "Applying baseline correction ... (mode: mean)\n",
      "Reading 24074 ... 24179  =    160.329 ...   161.028 secs...\n",
      "[done]\n",
      "Applying baseline correction ... (mode: mean)\n",
      "Reading 24286 ... 24391  =    161.741 ...   162.440 secs...\n",
      "[done]\n",
      "Applying baseline correction ... (mode: mean)\n",
      "Reading 24502 ... 24607  =    163.179 ...   163.879 secs...\n",
      "[done]\n",
      "Applying baseline correction ... (mode: mean)\n",
      "Reading 24727 ... 24832  =    164.678 ...   165.377 secs...\n",
      "[done]\n",
      "Applying baseline correction ... (mode: mean)\n",
      "Reading 24947 ... 25052  =    166.143 ...   166.842 secs...\n",
      "[done]\n",
      "Applying baseline correction ... (mode: mean)\n",
      "Reading 25156 ... 25261  =    167.535 ...   168.234 secs...\n",
      "[done]\n",
      "Applying baseline correction ... (mode: mean)\n",
      "Reading 25352 ... 25457  =    168.840 ...   169.540 secs...\n",
      "[done]\n",
      "Applying baseline correction ... (mode: mean)\n",
      "    Rejecting  epoch based on EOG : ['EOG 061']\n",
      "Reading 25538 ... 25643  =    170.079 ...   170.778 secs...\n",
      "[done]\n",
      "Applying baseline correction ... (mode: mean)\n",
      "Reading 25751 ... 25856  =    171.498 ...   172.197 secs...\n",
      "[done]\n",
      "Applying baseline correction ... (mode: mean)\n",
      "Reading 25953 ... 26058  =    172.843 ...   173.542 secs...\n",
      "[done]\n",
      "Applying baseline correction ... (mode: mean)\n",
      "Reading 26143 ... 26248  =    174.108 ...   174.807 secs...\n",
      "[done]\n",
      "Applying baseline correction ... (mode: mean)\n",
      "    Rejecting  epoch based on EOG : ['EOG 061']\n",
      "Reading 26333 ... 26438  =    175.374 ...   176.073 secs...\n",
      "[done]\n",
      "Applying baseline correction ... (mode: mean)\n",
      "    Rejecting  epoch based on EOG : ['EOG 061']\n",
      "Reading 26540 ... 26645  =    176.752 ...   177.451 secs...\n",
      "[done]\n",
      "Applying baseline correction ... (mode: mean)\n",
      "Reading 26763 ... 26868  =    178.237 ...   178.937 secs...\n",
      "[done]\n",
      "Applying baseline correction ... (mode: mean)\n",
      "Reading 27202 ... 27307  =    181.161 ...   181.860 secs...\n",
      "[done]\n",
      "Applying baseline correction ... (mode: mean)\n",
      "Reading 27403 ... 27508  =    182.500 ...   183.199 secs...\n",
      "[done]\n",
      "Applying baseline correction ... (mode: mean)\n",
      "Reading 27591 ... 27696  =    183.752 ...   184.451 secs...\n",
      "[done]\n",
      "Applying baseline correction ... (mode: mean)\n",
      "Reading 27803 ... 27908  =    185.164 ...   185.863 secs...\n",
      "[done]\n",
      "Applying baseline correction ... (mode: mean)\n",
      "Reading 28018 ... 28123  =    186.595 ...   187.295 secs...\n",
      "[done]\n",
      "Applying baseline correction ... (mode: mean)\n",
      "Reading 28229 ... 28334  =    188.001 ...   188.700 secs...\n",
      "[done]\n",
      "Applying baseline correction ... (mode: mean)\n",
      "    Rejecting  epoch based on EOG : ['EOG 061']\n",
      "Reading 28454 ... 28559  =    189.499 ...   190.198 secs...\n",
      "[done]\n",
      "Applying baseline correction ... (mode: mean)\n",
      "Reading 28673 ... 28778  =    190.958 ...   191.657 secs...\n",
      "[done]\n",
      "Applying baseline correction ... (mode: mean)\n",
      "    Rejecting  epoch based on EOG : ['EOG 061']\n",
      "Reading 28910 ... 29015  =    192.536 ...   193.235 secs...\n",
      "[done]\n",
      "Applying baseline correction ... (mode: mean)\n",
      "Reading 29324 ... 29429  =    195.293 ...   195.992 secs...\n",
      "[done]\n",
      "Applying baseline correction ... (mode: mean)\n",
      "Reading 29537 ... 29642  =    196.712 ...   197.411 secs...\n",
      "[done]\n",
      "Applying baseline correction ... (mode: mean)\n",
      "Reading 29749 ... 29854  =    198.124 ...   198.823 secs...\n",
      "[done]\n",
      "Applying baseline correction ... (mode: mean)\n",
      "Reading 29936 ... 30041  =    199.369 ...   200.068 secs...\n",
      "[done]\n",
      "Applying baseline correction ... (mode: mean)\n",
      "Reading 30156 ... 30261  =    200.834 ...   201.533 secs...\n",
      "[done]\n",
      "Applying baseline correction ... (mode: mean)\n",
      "Reading 30384 ... 30489  =    202.353 ...   203.052 secs...\n",
      "[done]\n",
      "Applying baseline correction ... (mode: mean)\n",
      "Reading 30596 ... 30701  =    203.764 ...   204.464 secs...\n",
      "[done]\n",
      "Applying baseline correction ... (mode: mean)\n",
      "Reading 30810 ... 30915  =    205.190 ...   205.889 secs...\n",
      "[done]\n",
      "Applying baseline correction ... (mode: mean)\n",
      "Reading 31017 ... 31122  =    206.568 ...   207.268 secs...\n",
      "[done]\n",
      "Applying baseline correction ... (mode: mean)\n",
      "Reading 31238 ... 31343  =    208.040 ...   208.739 secs...\n",
      "[done]\n",
      "Applying baseline correction ... (mode: mean)\n",
      "Reading 31426 ... 31531  =    209.292 ...   209.991 secs...\n",
      "[done]\n",
      "Applying baseline correction ... (mode: mean)\n",
      "Reading 31626 ... 31731  =    210.624 ...   211.323 secs...\n",
      "[done]\n",
      "Applying baseline correction ... (mode: mean)\n",
      "Reading 31822 ... 31927  =    211.929 ...   212.629 secs...\n",
      "[done]\n",
      "Applying baseline correction ... (mode: mean)\n",
      "    Rejecting  epoch based on EOG : ['EOG 061']\n",
      "Reading 32040 ... 32145  =    213.381 ...   214.081 secs...\n",
      "[done]\n",
      "Applying baseline correction ... (mode: mean)\n",
      "29 bad epochs dropped\n"
     ]
    }
   ],
   "source": [
    "# Save in fif format, keep all information about the data\n",
    "epochs.save('sample-epo.fif')"
   ]
  },
  {
   "cell_type": "code",
   "execution_count": 113,
   "metadata": {
    "collapsed": false
   },
   "outputs": [
    {
     "name": "stdout",
     "output_type": "stream",
     "text": [
      "Reading sample-epo.fif ...\n",
      "    Read a total of 4 projection items:\n",
      "        PCA-v1 (1 x 102) active\n",
      "        PCA-v2 (1 x 102) active\n",
      "        PCA-v3 (1 x 102) active\n",
      "        Average EEG reference (1 x 60) active\n",
      "    Found the data of interest:\n",
      "        t =    -199.80 ...     499.49 ms (None)\n",
      "        0 CTF compensation matrices available\n",
      "Created an SSP operator (subspace dimension = 4)\n",
      "4 projection items activated\n"
     ]
    }
   ],
   "source": [
    "saved_epochs = mne.read_epochs('sample-epo.fif')"
   ]
  },
  {
   "cell_type": "code",
   "execution_count": 124,
   "metadata": {
    "collapsed": false
   },
   "outputs": [
    {
     "data": {
      "text/plain": [
       "1.6483803217718905e-13"
      ]
     },
     "execution_count": 124,
     "metadata": {},
     "output_type": "execute_result"
    }
   ],
   "source": [
    "epochs_data[0, 1].mean()"
   ]
  },
  {
   "cell_type": "code",
   "execution_count": 125,
   "metadata": {
    "collapsed": false
   },
   "outputs": [
    {
     "name": "stdout",
     "output_type": "stream",
     "text": [
      "Reading 712 ... 817  =      4.742 ...     5.441 secs...\n",
      "[done]\n",
      "Applying baseline correction ... (mode: mean)\n",
      "Reading 1132 ... 1237  =      7.539 ...     8.238 secs...\n",
      "[done]\n",
      "Applying baseline correction ... (mode: mean)\n",
      "Reading 1545 ... 1650  =     10.289 ...    10.989 secs...\n",
      "[done]\n",
      "Applying baseline correction ... (mode: mean)\n",
      "Reading 1948 ... 2053  =     12.973 ...    13.673 secs...\n",
      "[done]\n",
      "Applying baseline correction ... (mode: mean)\n",
      "Reading 2377 ... 2482  =     15.830 ...    16.530 secs...\n",
      "[done]\n",
      "Applying baseline correction ... (mode: mean)\n",
      "Reading 2771 ... 2876  =     18.454 ...    19.154 secs...\n",
      "[done]\n",
      "Applying baseline correction ... (mode: mean)\n",
      "Reading 3197 ... 3302  =     21.292 ...    21.991 secs...\n",
      "[done]\n",
      "Applying baseline correction ... (mode: mean)\n",
      "Reading 3621 ... 3726  =     24.115 ...    24.815 secs...\n",
      "[done]\n",
      "Applying baseline correction ... (mode: mean)\n",
      "Reading 4051 ... 4156  =     26.979 ...    27.678 secs...\n",
      "[done]\n",
      "Applying baseline correction ... (mode: mean)\n",
      "Reading 4465 ... 4570  =     29.736 ...    30.435 secs...\n",
      "[done]\n",
      "Applying baseline correction ... (mode: mean)\n",
      "Reading 5293 ... 5398  =     35.251 ...    35.950 secs...\n",
      "[done]\n",
      "Applying baseline correction ... (mode: mean)\n",
      "Reading 5700 ... 5805  =     37.961 ...    38.660 secs...\n",
      "[done]\n",
      "Applying baseline correction ... (mode: mean)\n",
      "Reading 6087 ... 6192  =     40.538 ...    41.238 secs...\n",
      "[done]\n",
      "Applying baseline correction ... (mode: mean)\n",
      "Reading 7295 ... 7400  =     48.584 ...    49.283 secs...\n",
      "[done]\n",
      "Applying baseline correction ... (mode: mean)\n",
      "Reading 7699 ... 7804  =     51.274 ...    51.973 secs...\n",
      "[done]\n",
      "Applying baseline correction ... (mode: mean)\n",
      "Reading 8132 ... 8237  =     54.158 ...    54.857 secs...\n",
      "[done]\n",
      "Applying baseline correction ... (mode: mean)\n",
      "Reading 8552 ... 8657  =     56.955 ...    57.654 secs...\n",
      "[done]\n",
      "Applying baseline correction ... (mode: mean)\n",
      "Reading 9403 ... 9508  =     62.622 ...    63.322 secs...\n",
      "[done]\n",
      "Applying baseline correction ... (mode: mean)\n",
      "Reading 9815 ... 9920  =     65.366 ...    66.066 secs...\n",
      "[done]\n",
      "Applying baseline correction ... (mode: mean)\n",
      "Reading 10261 ... 10366  =     68.337 ...    69.036 secs...\n",
      "[done]\n",
      "Applying baseline correction ... (mode: mean)\n",
      "Reading 11084 ... 11189  =     73.818 ...    74.517 secs...\n",
      "[done]\n",
      "Applying baseline correction ... (mode: mean)\n",
      "Reading 11517 ... 11622  =     76.701 ...    77.401 secs...\n",
      "[done]\n",
      "Applying baseline correction ... (mode: mean)\n",
      "Reading 11949 ... 12054  =     79.578 ...    80.278 secs...\n",
      "[done]\n",
      "Applying baseline correction ... (mode: mean)\n",
      "Reading 13154 ... 13259  =     87.604 ...    88.303 secs...\n",
      "[done]\n",
      "Applying baseline correction ... (mode: mean)\n",
      "Reading 13572 ... 13677  =     90.387 ...    91.087 secs...\n",
      "[done]\n",
      "Applying baseline correction ... (mode: mean)\n",
      "Reading 13997 ... 14102  =     93.218 ...    93.917 secs...\n",
      "[done]\n",
      "Applying baseline correction ... (mode: mean)\n",
      "Reading 14412 ... 14517  =     95.982 ...    96.681 secs...\n",
      "[done]\n",
      "Applying baseline correction ... (mode: mean)\n",
      "Reading 14844 ... 14949  =     98.859 ...    99.558 secs...\n",
      "[done]\n",
      "Applying baseline correction ... (mode: mean)\n",
      "Reading 15668 ... 15773  =    104.346 ...   105.046 secs...\n",
      "[done]\n",
      "Applying baseline correction ... (mode: mean)\n",
      "Reading 16124 ... 16229  =    107.383 ...   108.083 secs...\n",
      "[done]\n",
      "Applying baseline correction ... (mode: mean)\n",
      "Reading 16529 ... 16634  =    110.081 ...   110.780 secs...\n",
      "[done]\n",
      "Applying baseline correction ... (mode: mean)\n",
      "Reading 17378 ... 17483  =    115.735 ...   116.434 secs...\n",
      "[done]\n",
      "Applying baseline correction ... (mode: mean)\n",
      "Reading 17828 ... 17933  =    118.732 ...   119.431 secs...\n",
      "[done]\n",
      "Applying baseline correction ... (mode: mean)\n",
      "Reading 18675 ... 18780  =    124.373 ...   125.072 secs...\n",
      "[done]\n",
      "Applying baseline correction ... (mode: mean)\n",
      "Reading 19092 ... 19197  =    127.150 ...   127.849 secs...\n",
      "[done]\n",
      "Applying baseline correction ... (mode: mean)\n",
      "Reading 20358 ... 20463  =    135.581 ...   136.280 secs...\n",
      "[done]\n",
      "Applying baseline correction ... (mode: mean)\n",
      "Reading 22008 ... 22113  =    146.570 ...   147.269 secs...\n",
      "[done]\n",
      "Applying baseline correction ... (mode: mean)\n",
      "Reading 22424 ... 22529  =    149.340 ...   150.040 secs...\n",
      "[done]\n",
      "Applying baseline correction ... (mode: mean)\n",
      "Reading 22846 ... 22951  =    152.151 ...   152.850 secs...\n",
      "[done]\n",
      "Applying baseline correction ... (mode: mean)\n",
      "Reading 23239 ... 23344  =    154.768 ...   155.467 secs...\n",
      "[done]\n",
      "Applying baseline correction ... (mode: mean)\n",
      "Reading 23654 ... 23759  =    157.532 ...   158.231 secs...\n",
      "[done]\n",
      "Applying baseline correction ... (mode: mean)\n",
      "Reading 24074 ... 24179  =    160.329 ...   161.028 secs...\n",
      "[done]\n",
      "Applying baseline correction ... (mode: mean)\n",
      "Reading 24502 ... 24607  =    163.179 ...   163.879 secs...\n",
      "[done]\n",
      "Applying baseline correction ... (mode: mean)\n",
      "Reading 24947 ... 25052  =    166.143 ...   166.842 secs...\n",
      "[done]\n",
      "Applying baseline correction ... (mode: mean)\n",
      "Reading 25751 ... 25856  =    171.498 ...   172.197 secs...\n",
      "[done]\n",
      "Applying baseline correction ... (mode: mean)\n",
      "Reading 26540 ... 26645  =    176.752 ...   177.451 secs...\n",
      "[done]\n",
      "Applying baseline correction ... (mode: mean)\n",
      "Reading 27403 ... 27508  =    182.500 ...   183.199 secs...\n",
      "[done]\n",
      "Applying baseline correction ... (mode: mean)\n",
      "Reading 27803 ... 27908  =    185.164 ...   185.863 secs...\n",
      "[done]\n",
      "Applying baseline correction ... (mode: mean)\n",
      "Reading 29537 ... 29642  =    196.712 ...   197.411 secs...\n",
      "[done]\n",
      "Applying baseline correction ... (mode: mean)\n",
      "Reading 29936 ... 30041  =    199.369 ...   200.068 secs...\n",
      "[done]\n",
      "Applying baseline correction ... (mode: mean)\n",
      "Reading 30384 ... 30489  =    202.353 ...   203.052 secs...\n",
      "[done]\n",
      "Applying baseline correction ... (mode: mean)\n",
      "Reading 30810 ... 30915  =    205.190 ...   205.889 secs...\n",
      "[done]\n",
      "Applying baseline correction ... (mode: mean)\n",
      "Reading 31238 ... 31343  =    208.040 ...   208.739 secs...\n",
      "[done]\n",
      "Applying baseline correction ... (mode: mean)\n",
      "Reading 31626 ... 31731  =    210.624 ...   211.323 secs...\n",
      "[done]\n",
      "Applying baseline correction ... (mode: mean)\n",
      "Reading 32040 ... 32145  =    213.381 ...   214.081 secs...\n",
      "[done]\n",
      "Applying baseline correction ... (mode: mean)\n"
     ]
    }
   ],
   "source": [
    "# Compute evoked responses for auditory responses by averaging\n",
    "evoked = epochs['aud_l'].average()"
   ]
  },
  {
   "cell_type": "code",
   "execution_count": 129,
   "metadata": {
    "collapsed": false
   },
   "outputs": [
    {
     "data": {
      "text/plain": [
       "<Evoked  |  comment : 'aud_l', time : [-0.199795, 0.499488], n_epochs : 55, n_channels x n_times : 364 x 106>"
      ]
     },
     "execution_count": 129,
     "metadata": {},
     "output_type": "execute_result"
    }
   ],
   "source": [
    "evoked"
   ]
  },
  {
   "cell_type": "code",
   "execution_count": 135,
   "metadata": {
    "collapsed": false
   },
   "outputs": [
    {
     "data": {
      "image/png": "[encoded data removed]",
      "text/plain": [
       "<matplotlib.figure.Figure at 0x111cfac90>"
      ]
     },
     "metadata": {},
     "output_type": "display_data"
    }
   ],
   "source": [
    "evoked_plot = evoked.plot()"
   ]
  },
  {
   "cell_type": "code",
   "execution_count": 131,
   "metadata": {
    "collapsed": true
   },
   "outputs": [],
   "source": [
    "import matplotlib.pyplot as plt"
   ]
  },
  {
   "cell_type": "code",
   "execution_count": 138,
   "metadata": {
    "collapsed": true
   },
   "outputs": [],
   "source": [
    "evoked_plot.savefig('evoked._aud_l.png', bbox_inches='tight')"
   ]
  },
  {
   "cell_type": "code",
   "execution_count": 152,
   "metadata": {
    "collapsed": false
   },
   "outputs": [
    {
     "name": "stdout",
     "output_type": "stream",
     "text": [
      "Reading 712 ... 817  =      4.742 ...     5.441 secs...\n",
      "[done]\n",
      "Applying baseline correction ... (mode: mean)\n",
      "Reading 1132 ... 1237  =      7.539 ...     8.238 secs...\n",
      "[done]\n",
      "Applying baseline correction ... (mode: mean)\n",
      "Reading 1545 ... 1650  =     10.289 ...    10.989 secs...\n",
      "[done]\n",
      "Applying baseline correction ... (mode: mean)\n",
      "Reading 1948 ... 2053  =     12.973 ...    13.673 secs...\n",
      "[done]\n",
      "Applying baseline correction ... (mode: mean)\n",
      "Reading 2377 ... 2482  =     15.830 ...    16.530 secs...\n",
      "[done]\n",
      "Applying baseline correction ... (mode: mean)\n",
      "Reading 2771 ... 2876  =     18.454 ...    19.154 secs...\n",
      "[done]\n",
      "Applying baseline correction ... (mode: mean)\n",
      "Reading 3197 ... 3302  =     21.292 ...    21.991 secs...\n",
      "[done]\n",
      "Applying baseline correction ... (mode: mean)\n",
      "Reading 3621 ... 3726  =     24.115 ...    24.815 secs...\n",
      "[done]\n",
      "Applying baseline correction ... (mode: mean)\n",
      "Reading 4051 ... 4156  =     26.979 ...    27.678 secs...\n",
      "[done]\n",
      "Applying baseline correction ... (mode: mean)\n",
      "Reading 4465 ... 4570  =     29.736 ...    30.435 secs...\n",
      "[done]\n",
      "Applying baseline correction ... (mode: mean)\n",
      "Reading 5293 ... 5398  =     35.251 ...    35.950 secs...\n",
      "[done]\n",
      "Applying baseline correction ... (mode: mean)\n",
      "Reading 5700 ... 5805  =     37.961 ...    38.660 secs...\n",
      "[done]\n",
      "Applying baseline correction ... (mode: mean)\n",
      "Reading 6087 ... 6192  =     40.538 ...    41.238 secs...\n",
      "[done]\n",
      "Applying baseline correction ... (mode: mean)\n",
      "Reading 7295 ... 7400  =     48.584 ...    49.283 secs...\n",
      "[done]\n",
      "Applying baseline correction ... (mode: mean)\n",
      "Reading 7699 ... 7804  =     51.274 ...    51.973 secs...\n",
      "[done]\n",
      "Applying baseline correction ... (mode: mean)\n",
      "Reading 8132 ... 8237  =     54.158 ...    54.857 secs...\n",
      "[done]\n",
      "Applying baseline correction ... (mode: mean)\n",
      "Reading 8552 ... 8657  =     56.955 ...    57.654 secs...\n",
      "[done]\n",
      "Applying baseline correction ... (mode: mean)\n",
      "Reading 9403 ... 9508  =     62.622 ...    63.322 secs...\n",
      "[done]\n",
      "Applying baseline correction ... (mode: mean)\n",
      "Reading 9815 ... 9920  =     65.366 ...    66.066 secs...\n",
      "[done]\n",
      "Applying baseline correction ... (mode: mean)\n",
      "Reading 10261 ... 10366  =     68.337 ...    69.036 secs...\n",
      "[done]\n",
      "Applying baseline correction ... (mode: mean)\n",
      "Reading 11084 ... 11189  =     73.818 ...    74.517 secs...\n",
      "[done]\n",
      "Applying baseline correction ... (mode: mean)\n",
      "Reading 11517 ... 11622  =     76.701 ...    77.401 secs...\n",
      "[done]\n",
      "Applying baseline correction ... (mode: mean)\n",
      "Reading 11949 ... 12054  =     79.578 ...    80.278 secs...\n",
      "[done]\n",
      "Applying baseline correction ... (mode: mean)\n",
      "Reading 13154 ... 13259  =     87.604 ...    88.303 secs...\n",
      "[done]\n",
      "Applying baseline correction ... (mode: mean)\n",
      "Reading 13572 ... 13677  =     90.387 ...    91.087 secs...\n",
      "[done]\n",
      "Applying baseline correction ... (mode: mean)\n",
      "Reading 13997 ... 14102  =     93.218 ...    93.917 secs...\n",
      "[done]\n",
      "Applying baseline correction ... (mode: mean)\n",
      "Reading 14412 ... 14517  =     95.982 ...    96.681 secs...\n",
      "[done]\n",
      "Applying baseline correction ... (mode: mean)\n",
      "Reading 14844 ... 14949  =     98.859 ...    99.558 secs...\n",
      "[done]\n",
      "Applying baseline correction ... (mode: mean)\n",
      "Reading 15668 ... 15773  =    104.346 ...   105.046 secs...\n",
      "[done]\n",
      "Applying baseline correction ... (mode: mean)\n",
      "Reading 16124 ... 16229  =    107.383 ...   108.083 secs...\n",
      "[done]\n",
      "Applying baseline correction ... (mode: mean)\n",
      "Reading 16529 ... 16634  =    110.081 ...   110.780 secs...\n",
      "[done]\n",
      "Applying baseline correction ... (mode: mean)\n",
      "Reading 17378 ... 17483  =    115.735 ...   116.434 secs...\n",
      "[done]\n",
      "Applying baseline correction ... (mode: mean)\n",
      "Reading 17828 ... 17933  =    118.732 ...   119.431 secs...\n",
      "[done]\n",
      "Applying baseline correction ... (mode: mean)\n",
      "Reading 18675 ... 18780  =    124.373 ...   125.072 secs...\n",
      "[done]\n",
      "Applying baseline correction ... (mode: mean)\n",
      "Reading 19092 ... 19197  =    127.150 ...   127.849 secs...\n",
      "[done]\n",
      "Applying baseline correction ... (mode: mean)\n",
      "Reading 20358 ... 20463  =    135.581 ...   136.280 secs...\n",
      "[done]\n",
      "Applying baseline correction ... (mode: mean)\n",
      "Reading 22008 ... 22113  =    146.570 ...   147.269 secs...\n",
      "[done]\n",
      "Applying baseline correction ... (mode: mean)\n",
      "Reading 22424 ... 22529  =    149.340 ...   150.040 secs...\n",
      "[done]\n",
      "Applying baseline correction ... (mode: mean)\n",
      "Reading 22846 ... 22951  =    152.151 ...   152.850 secs...\n",
      "[done]\n",
      "Applying baseline correction ... (mode: mean)\n",
      "Reading 23239 ... 23344  =    154.768 ...   155.467 secs...\n",
      "[done]\n",
      "Applying baseline correction ... (mode: mean)\n",
      "Reading 23654 ... 23759  =    157.532 ...   158.231 secs...\n",
      "[done]\n",
      "Applying baseline correction ... (mode: mean)\n",
      "Reading 24074 ... 24179  =    160.329 ...   161.028 secs...\n",
      "[done]\n",
      "Applying baseline correction ... (mode: mean)\n",
      "Reading 24502 ... 24607  =    163.179 ...   163.879 secs...\n",
      "[done]\n",
      "Applying baseline correction ... (mode: mean)\n",
      "Reading 24947 ... 25052  =    166.143 ...   166.842 secs...\n",
      "[done]\n",
      "Applying baseline correction ... (mode: mean)\n",
      "Reading 25751 ... 25856  =    171.498 ...   172.197 secs...\n",
      "[done]\n",
      "Applying baseline correction ... (mode: mean)\n",
      "Reading 26540 ... 26645  =    176.752 ...   177.451 secs...\n",
      "[done]\n",
      "Applying baseline correction ... (mode: mean)\n",
      "Reading 27403 ... 27508  =    182.500 ...   183.199 secs...\n",
      "[done]\n",
      "Applying baseline correction ... (mode: mean)\n",
      "Reading 27803 ... 27908  =    185.164 ...   185.863 secs...\n",
      "[done]\n",
      "Applying baseline correction ... (mode: mean)\n",
      "Reading 29537 ... 29642  =    196.712 ...   197.411 secs...\n",
      "[done]\n",
      "Applying baseline correction ... (mode: mean)\n",
      "Reading 29936 ... 30041  =    199.369 ...   200.068 secs...\n",
      "[done]\n",
      "Applying baseline correction ... (mode: mean)\n",
      "Reading 30384 ... 30489  =    202.353 ...   203.052 secs...\n",
      "[done]\n",
      "Applying baseline correction ... (mode: mean)\n",
      "Reading 30810 ... 30915  =    205.190 ...   205.889 secs...\n",
      "[done]\n",
      "Applying baseline correction ... (mode: mean)\n",
      "Reading 31238 ... 31343  =    208.040 ...   208.739 secs...\n",
      "[done]\n",
      "Applying baseline correction ... (mode: mean)\n",
      "Reading 31626 ... 31731  =    210.624 ...   211.323 secs...\n",
      "[done]\n",
      "Applying baseline correction ... (mode: mean)\n",
      "Reading 32040 ... 32145  =    213.381 ...   214.081 secs...\n",
      "[done]\n",
      "Applying baseline correction ... (mode: mean)\n"
     ]
    }
   ],
   "source": [
    "# Extract the max value of each epoch\n",
    "max_in_each_epoch = [e.max() for e in epochs['aud_l']]"
   ]
  },
  {
   "cell_type": "code",
   "execution_count": 153,
   "metadata": {
    "collapsed": false
   },
   "outputs": [
    {
     "name": "stdout",
     "output_type": "stream",
     "text": [
      "[1.9375167201631338e-05, 1.6405516986429127e-05, 1.8545377810380125e-05, 2.0412807568093327e-05]\n"
     ]
    }
   ],
   "source": [
    "print(max_in_each_epoch[:4]) "
   ]
  },
  {
   "cell_type": "code",
   "execution_count": null,
   "metadata": {
    "collapsed": true
   },
   "outputs": [],
   "source": []
  }
 ],
 "metadata": {
  "kernelspec": {
   "display_name": "Python 2",
   "language": "python",
   "name": "python2"
  },
  "language_info": {
   "codemirror_mode": {
    "name": "ipython",
    "version": 2
   },
   "file_extension": ".py",
   "mimetype": "text/x-python",
   "name": "python",
   "nbconvert_exporter": "python",
   "pygments_lexer": "ipython2",
   "version": "2.7.6"
  }
 },
 "nbformat": 4,
 "nbformat_minor": 0
}
